{
 "cells": [
  {
   "cell_type": "markdown",
   "id": "40ccfe23",
   "metadata": {
    "papermill": {
     "duration": 0.006376,
     "end_time": "2025-07-05T08:39:00.192795",
     "exception": false,
     "start_time": "2025-07-05T08:39:00.186419",
     "status": "completed"
    },
    "tags": []
   },
   "source": [
    "# Testing on Test Dataset"
   ]
  },
  {
   "cell_type": "code",
   "execution_count": 1,
   "id": "d0f94848",
   "metadata": {
    "execution": {
     "iopub.execute_input": "2025-07-05T08:39:00.205074Z",
     "iopub.status.busy": "2025-07-05T08:39:00.204710Z",
     "iopub.status.idle": "2025-07-05T08:39:21.951230Z",
     "shell.execute_reply": "2025-07-05T08:39:21.950158Z"
    },
    "papermill": {
     "duration": 21.754868,
     "end_time": "2025-07-05T08:39:21.953087",
     "exception": false,
     "start_time": "2025-07-05T08:39:00.198219",
     "status": "completed"
    },
    "tags": []
   },
   "outputs": [
    {
     "name": "stderr",
     "output_type": "stream",
     "text": [
      "2025-07-05 08:39:05.831361: E external/local_xla/xla/stream_executor/cuda/cuda_fft.cc:477] Unable to register cuFFT factory: Attempting to register factory for plugin cuFFT when one has already been registered\n",
      "WARNING: All log messages before absl::InitializeLog() is called are written to STDERR\n",
      "E0000 00:00:1751704746.100272      13 cuda_dnn.cc:8310] Unable to register cuDNN factory: Attempting to register factory for plugin cuDNN when one has already been registered\n",
      "E0000 00:00:1751704746.186635      13 cuda_blas.cc:1418] Unable to register cuBLAS factory: Attempting to register factory for plugin cuBLAS when one has already been registered\n"
     ]
    }
   ],
   "source": [
    "import json\n",
    "import numpy as np\n",
    "from sklearn.model_selection import train_test_split\n",
    "import matplotlib.pyplot as plt\n",
    "import librosa\n",
    "import os\n",
    "import math\n",
    "import shutil\n",
    "import pandas as pd\n",
    "import random\n",
    "from tensorflow import keras\n",
    "from tensorflow.keras import layers, regularizers\n",
    "from tensorflow.keras.layers import LSTM\n"
   ]
  },
  {
   "cell_type": "code",
   "execution_count": 2,
   "id": "8903c4d6",
   "metadata": {
    "execution": {
     "iopub.execute_input": "2025-07-05T08:39:21.968038Z",
     "iopub.status.busy": "2025-07-05T08:39:21.967429Z",
     "iopub.status.idle": "2025-07-05T08:39:22.453203Z",
     "shell.execute_reply": "2025-07-05T08:39:22.452205Z"
    },
    "papermill": {
     "duration": 0.494179,
     "end_time": "2025-07-05T08:39:22.455003",
     "exception": false,
     "start_time": "2025-07-05T08:39:21.960824",
     "status": "completed"
    },
    "tags": []
   },
   "outputs": [
    {
     "name": "stderr",
     "output_type": "stream",
     "text": [
      "2025-07-05 08:39:22.002756: E external/local_xla/xla/stream_executor/cuda/cuda_driver.cc:152] failed call to cuInit: INTERNAL: CUDA error: Failed call to cuInit: UNKNOWN ERROR (303)\n"
     ]
    }
   ],
   "source": [
    "model = keras.models.load_model('/kaggle/input/cnnlstmspoof/tensorflow2/v2/2/audio_cnn_lstm (2).h5')"
   ]
  },
  {
   "cell_type": "code",
   "execution_count": 3,
   "id": "fe2b973d",
   "metadata": {
    "execution": {
     "iopub.execute_input": "2025-07-05T08:39:22.467811Z",
     "iopub.status.busy": "2025-07-05T08:39:22.467444Z",
     "iopub.status.idle": "2025-07-05T08:39:22.474683Z",
     "shell.execute_reply": "2025-07-05T08:39:22.473693Z"
    },
    "papermill": {
     "duration": 0.01523,
     "end_time": "2025-07-05T08:39:22.476103",
     "exception": false,
     "start_time": "2025-07-05T08:39:22.460873",
     "status": "completed"
    },
    "tags": []
   },
   "outputs": [
    {
     "data": {
      "text/plain": [
       "128"
      ]
     },
     "execution_count": 3,
     "metadata": {},
     "output_type": "execute_result"
    }
   ],
   "source": [
    "model.input_shape[1]"
   ]
  },
  {
   "cell_type": "code",
   "execution_count": 4,
   "id": "e670b807",
   "metadata": {
    "execution": {
     "iopub.execute_input": "2025-07-05T08:39:22.488781Z",
     "iopub.status.busy": "2025-07-05T08:39:22.488492Z",
     "iopub.status.idle": "2025-07-05T08:39:22.493745Z",
     "shell.execute_reply": "2025-07-05T08:39:22.492981Z"
    },
    "papermill": {
     "duration": 0.013372,
     "end_time": "2025-07-05T08:39:22.495361",
     "exception": false,
     "start_time": "2025-07-05T08:39:22.481989",
     "status": "completed"
    },
    "tags": []
   },
   "outputs": [],
   "source": [
    "SAMPLE_RATE = 16000  # Sample rate of your audio files\n",
    "DURATION = 4  # Duration of audio clips in seconds\n",
    "N_MELS = model.input_shape[1]  # Number of Mel frequency bins\n",
    "EER_THRESHOLD = 0.2104"
   ]
  },
  {
   "cell_type": "code",
   "execution_count": 5,
   "id": "86e93dee",
   "metadata": {
    "execution": {
     "iopub.execute_input": "2025-07-05T08:39:22.507750Z",
     "iopub.status.busy": "2025-07-05T08:39:22.507472Z",
     "iopub.status.idle": "2025-07-05T08:39:22.515120Z",
     "shell.execute_reply": "2025-07-05T08:39:22.514264Z"
    },
    "papermill": {
     "duration": 0.015553,
     "end_time": "2025-07-05T08:39:22.516580",
     "exception": false,
     "start_time": "2025-07-05T08:39:22.501027",
     "status": "completed"
    },
    "tags": []
   },
   "outputs": [],
   "source": [
    "import os\n",
    "import math\n",
    "import json\n",
    "import librosa\n",
    "import numpy as np\n",
    "\n",
    "max_time_steps = 109  # Define the maximum time steps for your model\n",
    "\n",
    "def save_mel(train_df):\n",
    "    X = []\n",
    "    y = []\n",
    "    for _, row in train_df.iterrows():\n",
    "        file_path = row[\"filepath\"]\n",
    "        label = int(row[\"target\"])\n",
    "\n",
    "        try:\n",
    "            # Load audio file using librosa\n",
    "            audio, _ = librosa.load(file_path, sr=SAMPLE_RATE, duration=DURATION)\n",
    "        \n",
    "            # Extract Mel spectrogram using librosa\n",
    "            mel_spectrogram = librosa.feature.melspectrogram(y=audio, sr=SAMPLE_RATE, n_mels=N_MELS)\n",
    "            mel_spectrogram = librosa.power_to_db(mel_spectrogram, ref=np.max)\n",
    "        \n",
    "            # Ensure all spectrograms have the same width (time steps)\n",
    "            if mel_spectrogram.shape[1] < max_time_steps:\n",
    "                mel_spectrogram = np.pad(mel_spectrogram, ((0, 0), (0, max_time_steps - mel_spectrogram.shape[1])), mode='constant')\n",
    "            else:\n",
    "                mel_spectrogram = mel_spectrogram[:, :max_time_steps]\n",
    "        \n",
    "            X.append(mel_spectrogram)\n",
    "            y.append(label)\n",
    "\n",
    "        except Exception as e:\n",
    "            print(f\"Error processing {file_path}: {e}\")\n",
    "\n",
    "    # Save JSON\n",
    "    # with open(json_path, \"w\") as fp:\n",
    "    #     json.dump(data, fp, indent=4)\n",
    "    return X,y\n"
   ]
  },
  {
   "cell_type": "code",
   "execution_count": 6,
   "id": "8c7e25fe",
   "metadata": {
    "execution": {
     "iopub.execute_input": "2025-07-05T08:39:22.529037Z",
     "iopub.status.busy": "2025-07-05T08:39:22.528643Z",
     "iopub.status.idle": "2025-07-05T08:39:22.735708Z",
     "shell.execute_reply": "2025-07-05T08:39:22.734762Z"
    },
    "papermill": {
     "duration": 0.215164,
     "end_time": "2025-07-05T08:39:22.737298",
     "exception": false,
     "start_time": "2025-07-05T08:39:22.522134",
     "status": "completed"
    },
    "tags": []
   },
   "outputs": [
    {
     "name": "stdout",
     "output_type": "stream",
     "text": [
      "len eval 71237\n"
     ]
    },
    {
     "data": {
      "text/html": [
       "<div>\n",
       "<style scoped>\n",
       "    .dataframe tbody tr th:only-of-type {\n",
       "        vertical-align: middle;\n",
       "    }\n",
       "\n",
       "    .dataframe tbody tr th {\n",
       "        vertical-align: top;\n",
       "    }\n",
       "\n",
       "    .dataframe thead th {\n",
       "        text-align: right;\n",
       "    }\n",
       "</style>\n",
       "<table border=\"1\" class=\"dataframe\">\n",
       "  <thead>\n",
       "    <tr style=\"text-align: right;\">\n",
       "      <th></th>\n",
       "      <th>speaker_id</th>\n",
       "      <th>filename</th>\n",
       "      <th>system_id</th>\n",
       "      <th>class_name</th>\n",
       "      <th>filepath</th>\n",
       "      <th>target</th>\n",
       "    </tr>\n",
       "  </thead>\n",
       "  <tbody>\n",
       "    <tr>\n",
       "      <th>0</th>\n",
       "      <td>LA_0039</td>\n",
       "      <td>LA_E_2834763</td>\n",
       "      <td>-</td>\n",
       "      <td>spoof</td>\n",
       "      <td>/kaggle/input/asvpoof-2019-dataset/LA/LA/ASVsp...</td>\n",
       "      <td>1</td>\n",
       "    </tr>\n",
       "    <tr>\n",
       "      <th>1</th>\n",
       "      <td>LA_0014</td>\n",
       "      <td>LA_E_8877452</td>\n",
       "      <td>-</td>\n",
       "      <td>spoof</td>\n",
       "      <td>/kaggle/input/asvpoof-2019-dataset/LA/LA/ASVsp...</td>\n",
       "      <td>1</td>\n",
       "    </tr>\n",
       "    <tr>\n",
       "      <th>2</th>\n",
       "      <td>LA_0040</td>\n",
       "      <td>LA_E_6828287</td>\n",
       "      <td>-</td>\n",
       "      <td>spoof</td>\n",
       "      <td>/kaggle/input/asvpoof-2019-dataset/LA/LA/ASVsp...</td>\n",
       "      <td>1</td>\n",
       "    </tr>\n",
       "    <tr>\n",
       "      <th>3</th>\n",
       "      <td>LA_0022</td>\n",
       "      <td>LA_E_6977360</td>\n",
       "      <td>-</td>\n",
       "      <td>spoof</td>\n",
       "      <td>/kaggle/input/asvpoof-2019-dataset/LA/LA/ASVsp...</td>\n",
       "      <td>1</td>\n",
       "    </tr>\n",
       "    <tr>\n",
       "      <th>4</th>\n",
       "      <td>LA_0031</td>\n",
       "      <td>LA_E_5932896</td>\n",
       "      <td>-</td>\n",
       "      <td>spoof</td>\n",
       "      <td>/kaggle/input/asvpoof-2019-dataset/LA/LA/ASVsp...</td>\n",
       "      <td>1</td>\n",
       "    </tr>\n",
       "  </tbody>\n",
       "</table>\n",
       "</div>"
      ],
      "text/plain": [
       "  speaker_id      filename system_id class_name  \\\n",
       "0    LA_0039  LA_E_2834763         -      spoof   \n",
       "1    LA_0014  LA_E_8877452         -      spoof   \n",
       "2    LA_0040  LA_E_6828287         -      spoof   \n",
       "3    LA_0022  LA_E_6977360         -      spoof   \n",
       "4    LA_0031  LA_E_5932896         -      spoof   \n",
       "\n",
       "                                            filepath  target  \n",
       "0  /kaggle/input/asvpoof-2019-dataset/LA/LA/ASVsp...       1  \n",
       "1  /kaggle/input/asvpoof-2019-dataset/LA/LA/ASVsp...       1  \n",
       "2  /kaggle/input/asvpoof-2019-dataset/LA/LA/ASVsp...       1  \n",
       "3  /kaggle/input/asvpoof-2019-dataset/LA/LA/ASVsp...       1  \n",
       "4  /kaggle/input/asvpoof-2019-dataset/LA/LA/ASVsp...       1  "
      ]
     },
     "execution_count": 6,
     "metadata": {},
     "output_type": "execute_result"
    }
   ],
   "source": [
    "### for creating folders for eval and dev\n",
    "BASE_PATH = '/kaggle/input/asvpoof-2019-dataset/LA/LA'\n",
    "\n",
    "# change here\n",
    "eval_df = pd.read_csv(f'{BASE_PATH}/ASVspoof2019_LA_cm_protocols/ASVspoof2019.LA.cm.eval.trl.txt', sep=\" \", header=None)\n",
    "\n",
    "eval_df.columns =['speaker_id','filename','system_id','null','class_name']\n",
    "eval_df.drop(columns=['null'],inplace=True)\n",
    "\n",
    "#change here\n",
    "eval_df['filepath'] = f'{BASE_PATH}/ASVspoof2019_LA_eval/flac/'+eval_df.filename+'.flac'\n",
    "\n",
    "eval_df['target'] = (eval_df.class_name=='spoof').astype('int32')\n",
    "print('len eval', len(eval_df))\n",
    "eval_df.head()"
   ]
  },
  {
   "cell_type": "code",
   "execution_count": 7,
   "id": "08d7d332",
   "metadata": {
    "execution": {
     "iopub.execute_input": "2025-07-05T08:39:22.750571Z",
     "iopub.status.busy": "2025-07-05T08:39:22.750249Z",
     "iopub.status.idle": "2025-07-05T08:39:22.815416Z",
     "shell.execute_reply": "2025-07-05T08:39:22.814462Z"
    },
    "papermill": {
     "duration": 0.073768,
     "end_time": "2025-07-05T08:39:22.816969",
     "exception": false,
     "start_time": "2025-07-05T08:39:22.743201",
     "status": "completed"
    },
    "tags": []
   },
   "outputs": [
    {
     "name": "stdout",
     "output_type": "stream",
     "text": [
      "len dev 24844\n"
     ]
    },
    {
     "data": {
      "text/html": [
       "<div>\n",
       "<style scoped>\n",
       "    .dataframe tbody tr th:only-of-type {\n",
       "        vertical-align: middle;\n",
       "    }\n",
       "\n",
       "    .dataframe tbody tr th {\n",
       "        vertical-align: top;\n",
       "    }\n",
       "\n",
       "    .dataframe thead th {\n",
       "        text-align: right;\n",
       "    }\n",
       "</style>\n",
       "<table border=\"1\" class=\"dataframe\">\n",
       "  <thead>\n",
       "    <tr style=\"text-align: right;\">\n",
       "      <th></th>\n",
       "      <th>speaker_id</th>\n",
       "      <th>filename</th>\n",
       "      <th>system_id</th>\n",
       "      <th>cat</th>\n",
       "      <th>class_name</th>\n",
       "      <th>filepath</th>\n",
       "      <th>target</th>\n",
       "    </tr>\n",
       "  </thead>\n",
       "  <tbody>\n",
       "    <tr>\n",
       "      <th>0</th>\n",
       "      <td>LA_0069</td>\n",
       "      <td>LA_D_1047731</td>\n",
       "      <td>-</td>\n",
       "      <td>-</td>\n",
       "      <td>bonafide</td>\n",
       "      <td>/kaggle/input/asvpoof-2019-dataset/LA/LA/ASVsp...</td>\n",
       "      <td>0</td>\n",
       "    </tr>\n",
       "    <tr>\n",
       "      <th>1</th>\n",
       "      <td>LA_0069</td>\n",
       "      <td>LA_D_1105538</td>\n",
       "      <td>-</td>\n",
       "      <td>-</td>\n",
       "      <td>bonafide</td>\n",
       "      <td>/kaggle/input/asvpoof-2019-dataset/LA/LA/ASVsp...</td>\n",
       "      <td>0</td>\n",
       "    </tr>\n",
       "    <tr>\n",
       "      <th>2</th>\n",
       "      <td>LA_0069</td>\n",
       "      <td>LA_D_1125976</td>\n",
       "      <td>-</td>\n",
       "      <td>-</td>\n",
       "      <td>bonafide</td>\n",
       "      <td>/kaggle/input/asvpoof-2019-dataset/LA/LA/ASVsp...</td>\n",
       "      <td>0</td>\n",
       "    </tr>\n",
       "    <tr>\n",
       "      <th>3</th>\n",
       "      <td>LA_0069</td>\n",
       "      <td>LA_D_1293230</td>\n",
       "      <td>-</td>\n",
       "      <td>-</td>\n",
       "      <td>bonafide</td>\n",
       "      <td>/kaggle/input/asvpoof-2019-dataset/LA/LA/ASVsp...</td>\n",
       "      <td>0</td>\n",
       "    </tr>\n",
       "    <tr>\n",
       "      <th>4</th>\n",
       "      <td>LA_0069</td>\n",
       "      <td>LA_D_1340209</td>\n",
       "      <td>-</td>\n",
       "      <td>-</td>\n",
       "      <td>bonafide</td>\n",
       "      <td>/kaggle/input/asvpoof-2019-dataset/LA/LA/ASVsp...</td>\n",
       "      <td>0</td>\n",
       "    </tr>\n",
       "  </tbody>\n",
       "</table>\n",
       "</div>"
      ],
      "text/plain": [
       "  speaker_id      filename system_id cat class_name  \\\n",
       "0    LA_0069  LA_D_1047731         -   -   bonafide   \n",
       "1    LA_0069  LA_D_1105538         -   -   bonafide   \n",
       "2    LA_0069  LA_D_1125976         -   -   bonafide   \n",
       "3    LA_0069  LA_D_1293230         -   -   bonafide   \n",
       "4    LA_0069  LA_D_1340209         -   -   bonafide   \n",
       "\n",
       "                                            filepath  target  \n",
       "0  /kaggle/input/asvpoof-2019-dataset/LA/LA/ASVsp...       0  \n",
       "1  /kaggle/input/asvpoof-2019-dataset/LA/LA/ASVsp...       0  \n",
       "2  /kaggle/input/asvpoof-2019-dataset/LA/LA/ASVsp...       0  \n",
       "3  /kaggle/input/asvpoof-2019-dataset/LA/LA/ASVsp...       0  \n",
       "4  /kaggle/input/asvpoof-2019-dataset/LA/LA/ASVsp...       0  "
      ]
     },
     "execution_count": 7,
     "metadata": {},
     "output_type": "execute_result"
    }
   ],
   "source": [
    "BASE_PATH = '/kaggle/input/asvpoof-2019-dataset/LA/LA'\n",
    "\n",
    "# change here\n",
    "dev_df = pd.read_csv(f'{BASE_PATH}/ASVspoof2019_LA_cm_protocols/ASVspoof2019.LA.cm.dev.trl.txt', sep=\" \", header=None)\n",
    "\n",
    "dev_df.columns =['speaker_id','filename','system_id','cat','class_name']\n",
    "\n",
    "#change here\n",
    "dev_df['filepath'] = f'{BASE_PATH}/ASVspoof2019_LA_dev/flac/'+dev_df.filename+'.flac'\n",
    "\n",
    "dev_df['target'] = (dev_df.class_name=='spoof').astype('int32')\n",
    "print('len dev', len(dev_df))\n",
    "dev_df.head()"
   ]
  },
  {
   "cell_type": "code",
   "execution_count": 8,
   "id": "52725c5d",
   "metadata": {
    "execution": {
     "iopub.execute_input": "2025-07-05T08:39:22.829732Z",
     "iopub.status.busy": "2025-07-05T08:39:22.829421Z",
     "iopub.status.idle": "2025-07-05T08:39:22.855910Z",
     "shell.execute_reply": "2025-07-05T08:39:22.854874Z"
    },
    "papermill": {
     "duration": 0.034582,
     "end_time": "2025-07-05T08:39:22.857379",
     "exception": false,
     "start_time": "2025-07-05T08:39:22.822797",
     "status": "completed"
    },
    "tags": []
   },
   "outputs": [
    {
     "name": "stdout",
     "output_type": "stream",
     "text": [
      "14710\n"
     ]
    }
   ],
   "source": [
    "bonafide_df = eval_df[eval_df[\"target\"] == 0]\n",
    "spoof_df = eval_df[eval_df[\"target\"] == 1].sample(n=len(bonafide_df), random_state=42)\n",
    "balanced_df = pd.concat([bonafide_df, spoof_df], ignore_index=True).sample(frac=1, random_state=42)\n",
    "print(len(balanced_df))\n",
    "eval_df= balanced_df"
   ]
  },
  {
   "cell_type": "code",
   "execution_count": 9,
   "id": "59c41631",
   "metadata": {
    "execution": {
     "iopub.execute_input": "2025-07-05T08:39:22.871428Z",
     "iopub.status.busy": "2025-07-05T08:39:22.870727Z",
     "iopub.status.idle": "2025-07-05T08:39:22.886742Z",
     "shell.execute_reply": "2025-07-05T08:39:22.885662Z"
    },
    "papermill": {
     "duration": 0.024372,
     "end_time": "2025-07-05T08:39:22.888358",
     "exception": false,
     "start_time": "2025-07-05T08:39:22.863986",
     "status": "completed"
    },
    "tags": []
   },
   "outputs": [
    {
     "name": "stdout",
     "output_type": "stream",
     "text": [
      "14710\n"
     ]
    }
   ],
   "source": [
    "bonafide_df_dev = dev_df[dev_df[\"target\"] == 0]\n",
    "spoof_df_dev = dev_df[dev_df[\"target\"] == 1].sample(n=len(bonafide_df), random_state=42)\n",
    "balanced_df_dev = pd.concat([bonafide_df, spoof_df], ignore_index=True).sample(frac=1, random_state=42)\n",
    "print(len(balanced_df_dev))\n",
    "dev_df= balanced_df_dev"
   ]
  },
  {
   "cell_type": "code",
   "execution_count": 10,
   "id": "caa1fedf",
   "metadata": {
    "execution": {
     "iopub.execute_input": "2025-07-05T08:39:22.902265Z",
     "iopub.status.busy": "2025-07-05T08:39:22.901857Z",
     "iopub.status.idle": "2025-07-05T08:47:57.777147Z",
     "shell.execute_reply": "2025-07-05T08:47:57.776233Z"
    },
    "papermill": {
     "duration": 514.884362,
     "end_time": "2025-07-05T08:47:57.779156",
     "exception": false,
     "start_time": "2025-07-05T08:39:22.894794",
     "status": "completed"
    },
    "tags": []
   },
   "outputs": [
    {
     "name": "stdout",
     "output_type": "stream",
     "text": [
      "29420\n"
     ]
    }
   ],
   "source": [
    "# eval_sample = eval_df.sample(n=3000, random_state=42).reset_index(drop=True)\n",
    "eval_sample = pd.concat([dev_df, eval_df], ignore_index=True).sample(frac=1, random_state=42)\n",
    "print(len(eval_sample))\n",
    "\n",
    "# Step 2: Run your feature extraction function\n",
    "X_test1, y_test1 = save_mel(eval_sample)"
   ]
  },
  {
   "cell_type": "code",
   "execution_count": 11,
   "id": "dadece7d",
   "metadata": {
    "execution": {
     "iopub.execute_input": "2025-07-05T08:47:57.793794Z",
     "iopub.status.busy": "2025-07-05T08:47:57.793113Z",
     "iopub.status.idle": "2025-07-05T08:47:58.536720Z",
     "shell.execute_reply": "2025-07-05T08:47:58.535754Z"
    },
    "papermill": {
     "duration": 0.752527,
     "end_time": "2025-07-05T08:47:58.538514",
     "exception": false,
     "start_time": "2025-07-05T08:47:57.785987",
     "status": "completed"
    },
    "tags": []
   },
   "outputs": [],
   "source": [
    "X_test1 = np.array(X_test1)\n",
    "y_test1 = np.array(y_test1)"
   ]
  },
  {
   "cell_type": "code",
   "execution_count": 12,
   "id": "a48e13ba",
   "metadata": {
    "execution": {
     "iopub.execute_input": "2025-07-05T08:47:58.552600Z",
     "iopub.status.busy": "2025-07-05T08:47:58.552309Z",
     "iopub.status.idle": "2025-07-05T08:47:58.556655Z",
     "shell.execute_reply": "2025-07-05T08:47:58.555922Z"
    },
    "papermill": {
     "duration": 0.012904,
     "end_time": "2025-07-05T08:47:58.558119",
     "exception": false,
     "start_time": "2025-07-05T08:47:58.545215",
     "status": "completed"
    },
    "tags": []
   },
   "outputs": [],
   "source": [
    "from sklearn.metrics import f1_score, accuracy_score, roc_auc_score, recall_score, precision_score, accuracy_score"
   ]
  },
  {
   "cell_type": "code",
   "execution_count": 13,
   "id": "b2659d8a",
   "metadata": {
    "execution": {
     "iopub.execute_input": "2025-07-05T08:47:58.571487Z",
     "iopub.status.busy": "2025-07-05T08:47:58.571189Z",
     "iopub.status.idle": "2025-07-05T08:52:01.366082Z",
     "shell.execute_reply": "2025-07-05T08:52:01.364517Z"
    },
    "papermill": {
     "duration": 242.804074,
     "end_time": "2025-07-05T08:52:01.368376",
     "exception": false,
     "start_time": "2025-07-05T08:47:58.564302",
     "status": "completed"
    },
    "tags": []
   },
   "outputs": [
    {
     "name": "stdout",
     "output_type": "stream",
     "text": [
      "920/920 - 240s - 261ms/step - accuracy: 0.8835 - loss: 0.3751 - recall: 0.7792\n",
      "Test Loss: 0.3751\n",
      "Test Accuracy: 0.8835\n",
      "Test Recall: 0.7792\n"
     ]
    }
   ],
   "source": [
    "test_loss, test_acc, test_recall = model.evaluate(X_test1, y_test1, verbose=2)\n",
    "print(f\"Test Loss: {test_loss:.4f}\")\n",
    "print(f\"Test Accuracy: {test_acc:.4f}\")\n",
    "print(f\"Test Recall: {test_recall:.4f}\")"
   ]
  },
  {
   "cell_type": "code",
   "execution_count": 14,
   "id": "718369ee",
   "metadata": {
    "execution": {
     "iopub.execute_input": "2025-07-05T08:52:01.383858Z",
     "iopub.status.busy": "2025-07-05T08:52:01.383492Z",
     "iopub.status.idle": "2025-07-05T08:55:49.876007Z",
     "shell.execute_reply": "2025-07-05T08:55:49.874939Z"
    },
    "papermill": {
     "duration": 228.502344,
     "end_time": "2025-07-05T08:55:49.877757",
     "exception": false,
     "start_time": "2025-07-05T08:52:01.375413",
     "status": "completed"
    },
    "tags": []
   },
   "outputs": [
    {
     "name": "stdout",
     "output_type": "stream",
     "text": [
      "\u001b[1m920/920\u001b[0m \u001b[32m━━━━━━━━━━━━━━━━━━━━\u001b[0m\u001b[37m\u001b[0m \u001b[1m223s\u001b[0m 241ms/step\n",
      "F1 Score: 0.8738\n"
     ]
    }
   ],
   "source": [
    "from sklearn.metrics import f1_score\n",
    "\n",
    "X_test1 = np.expand_dims(X_test1, axis=-1)\n",
    "# Step 1: Get predicted probabilities\n",
    "y_probs = model.predict(X_test1, verbose=1).flatten()\n",
    "\n",
    "# Step 2: Convert to binary predictions (e.g. threshold at 0.5 or your EER threshold)\n",
    "threshold = 0.5\n",
    "y_preds = (y_probs >= EER_THRESHOLD).astype(int)\n",
    "\n",
    "# Step 3: Calculate F1 score\n",
    "f1 = f1_score(y_test1, y_preds)\n",
    "precision = precision_score(y_test1, y_preds)\n",
    "auc = roc_auc_score(y_test1, y_probs)  \n",
    "acc = accuracy_score(y_test1, y_preds)\n",
    "recall = recall_score(y_test1, y_preds)\n",
    "\n",
    "print(f\"F1 Score: {f1:.4f}\")"
   ]
  },
  {
   "cell_type": "code",
   "execution_count": 15,
   "id": "081a8cdf",
   "metadata": {
    "execution": {
     "iopub.execute_input": "2025-07-05T08:55:49.980079Z",
     "iopub.status.busy": "2025-07-05T08:55:49.979738Z",
     "iopub.status.idle": "2025-07-05T08:55:49.993640Z",
     "shell.execute_reply": "2025-07-05T08:55:49.992590Z"
    },
    "papermill": {
     "duration": 0.066755,
     "end_time": "2025-07-05T08:55:49.995425",
     "exception": false,
     "start_time": "2025-07-05T08:55:49.928670",
     "status": "completed"
    },
    "tags": []
   },
   "outputs": [
    {
     "name": "stdout",
     "output_type": "stream",
     "text": [
      "EER: 0.1398\n",
      "EER Threshold: 0.1295\n"
     ]
    }
   ],
   "source": [
    "from sklearn.metrics import roc_curve\n",
    "\n",
    "# Step 2: Get ROC curve\n",
    "fpr, tpr, thresholds = roc_curve(y_test1, y_probs)\n",
    "fnr = 1 - tpr\n",
    "\n",
    "# Step 3: Find the EER (where FPR and FNR are closest)\n",
    "eer_index = np.nanargmin(np.abs(fpr - fnr))\n",
    "eer = fpr[eer_index]\n",
    "eer_threshold = thresholds[eer_index]\n",
    "\n",
    "print(f\"EER: {eer:.4f}\")\n",
    "print(f\"EER Threshold: {eer_threshold:.4f}\")\n"
   ]
  },
  {
   "cell_type": "code",
   "execution_count": 16,
   "id": "9c22d5f7",
   "metadata": {
    "execution": {
     "iopub.execute_input": "2025-07-05T08:55:50.096407Z",
     "iopub.status.busy": "2025-07-05T08:55:50.096066Z",
     "iopub.status.idle": "2025-07-05T08:55:50.105233Z",
     "shell.execute_reply": "2025-07-05T08:55:50.104296Z"
    },
    "papermill": {
     "duration": 0.061037,
     "end_time": "2025-07-05T08:55:50.106683",
     "exception": false,
     "start_time": "2025-07-05T08:55:50.045646",
     "status": "completed"
    },
    "tags": []
   },
   "outputs": [
    {
     "data": {
      "text/plain": [
       "{'EER': 0.1398,\n",
       " 'F1 Score': 0.8738,\n",
       " 'Accuracy': 0.8797,\n",
       " 'AUC': 0.931,\n",
       " 'Recall': 0.7792,\n",
       " 'Precision': 0.9191,\n",
       " 'Samples': 29420}"
      ]
     },
     "execution_count": 16,
     "metadata": {},
     "output_type": "execute_result"
    }
   ],
   "source": [
    "import json\n",
    "results_final = {\n",
    "        'EER': round(eer, 4),\n",
    "        'F1 Score': round(f1, 4),\n",
    "        'Accuracy': round(acc, 4),\n",
    "        'AUC': round(auc, 4),\n",
    "        'Recall': round(test_recall, 4),\n",
    "        'Precision': round(precision, 4),\n",
    "        'Samples': len(X_test1)\n",
    "}\n",
    "\n",
    "with open(\"results_final.json\", \"w\") as f:\n",
    "    json.dump(results_final, f, indent=4)  # `indent=4` for pretty formatting\n",
    "\n",
    "results_final"
   ]
  },
  {
   "cell_type": "markdown",
   "id": "290220a1",
   "metadata": {
    "papermill": {
     "duration": 0.050286,
     "end_time": "2025-07-05T08:55:50.207735",
     "exception": false,
     "start_time": "2025-07-05T08:55:50.157449",
     "status": "completed"
    },
    "tags": []
   },
   "source": [
    "# Final Testing"
   ]
  },
  {
   "cell_type": "code",
   "execution_count": 17,
   "id": "7c00cac6",
   "metadata": {
    "execution": {
     "iopub.execute_input": "2025-07-05T08:55:50.310472Z",
     "iopub.status.busy": "2025-07-05T08:55:50.310098Z",
     "iopub.status.idle": "2025-07-05T08:55:50.315783Z",
     "shell.execute_reply": "2025-07-05T08:55:50.314771Z"
    },
    "papermill": {
     "duration": 0.058901,
     "end_time": "2025-07-05T08:55:50.317496",
     "exception": false,
     "start_time": "2025-07-05T08:55:50.258595",
     "status": "completed"
    },
    "tags": []
   },
   "outputs": [],
   "source": [
    "import json\n",
    "import numpy as np\n",
    "from sklearn.model_selection import train_test_split\n",
    "import tensorflow.keras as keras\n",
    "import matplotlib.pyplot as plt\n",
    "import librosa\n",
    "import os\n",
    "import math\n",
    "import shutil\n",
    "import pandas as pd\n",
    "import random"
   ]
  },
  {
   "cell_type": "code",
   "execution_count": 18,
   "id": "93403c2e",
   "metadata": {
    "execution": {
     "iopub.execute_input": "2025-07-05T08:55:50.419505Z",
     "iopub.status.busy": "2025-07-05T08:55:50.419195Z",
     "iopub.status.idle": "2025-07-05T08:55:50.554090Z",
     "shell.execute_reply": "2025-07-05T08:55:50.553112Z"
    },
    "papermill": {
     "duration": 0.187581,
     "end_time": "2025-07-05T08:55:50.555669",
     "exception": false,
     "start_time": "2025-07-05T08:55:50.368088",
     "status": "completed"
    },
    "tags": []
   },
   "outputs": [
    {
     "name": "stdout",
     "output_type": "stream",
     "text": [
      "len eval 71237\n"
     ]
    },
    {
     "data": {
      "text/html": [
       "<div>\n",
       "<style scoped>\n",
       "    .dataframe tbody tr th:only-of-type {\n",
       "        vertical-align: middle;\n",
       "    }\n",
       "\n",
       "    .dataframe tbody tr th {\n",
       "        vertical-align: top;\n",
       "    }\n",
       "\n",
       "    .dataframe thead th {\n",
       "        text-align: right;\n",
       "    }\n",
       "</style>\n",
       "<table border=\"1\" class=\"dataframe\">\n",
       "  <thead>\n",
       "    <tr style=\"text-align: right;\">\n",
       "      <th></th>\n",
       "      <th>speaker_id</th>\n",
       "      <th>filename</th>\n",
       "      <th>system_id</th>\n",
       "      <th>cat</th>\n",
       "      <th>class_name</th>\n",
       "      <th>filepath</th>\n",
       "      <th>target</th>\n",
       "    </tr>\n",
       "  </thead>\n",
       "  <tbody>\n",
       "    <tr>\n",
       "      <th>0</th>\n",
       "      <td>LA_0039</td>\n",
       "      <td>LA_E_2834763</td>\n",
       "      <td>-</td>\n",
       "      <td>A11</td>\n",
       "      <td>spoof</td>\n",
       "      <td>/kaggle/input/asvpoof-2019-dataset/LA/LA/ASVsp...</td>\n",
       "      <td>1</td>\n",
       "    </tr>\n",
       "    <tr>\n",
       "      <th>1</th>\n",
       "      <td>LA_0014</td>\n",
       "      <td>LA_E_8877452</td>\n",
       "      <td>-</td>\n",
       "      <td>A14</td>\n",
       "      <td>spoof</td>\n",
       "      <td>/kaggle/input/asvpoof-2019-dataset/LA/LA/ASVsp...</td>\n",
       "      <td>1</td>\n",
       "    </tr>\n",
       "    <tr>\n",
       "      <th>2</th>\n",
       "      <td>LA_0040</td>\n",
       "      <td>LA_E_6828287</td>\n",
       "      <td>-</td>\n",
       "      <td>A16</td>\n",
       "      <td>spoof</td>\n",
       "      <td>/kaggle/input/asvpoof-2019-dataset/LA/LA/ASVsp...</td>\n",
       "      <td>1</td>\n",
       "    </tr>\n",
       "    <tr>\n",
       "      <th>3</th>\n",
       "      <td>LA_0022</td>\n",
       "      <td>LA_E_6977360</td>\n",
       "      <td>-</td>\n",
       "      <td>A09</td>\n",
       "      <td>spoof</td>\n",
       "      <td>/kaggle/input/asvpoof-2019-dataset/LA/LA/ASVsp...</td>\n",
       "      <td>1</td>\n",
       "    </tr>\n",
       "    <tr>\n",
       "      <th>4</th>\n",
       "      <td>LA_0031</td>\n",
       "      <td>LA_E_5932896</td>\n",
       "      <td>-</td>\n",
       "      <td>A13</td>\n",
       "      <td>spoof</td>\n",
       "      <td>/kaggle/input/asvpoof-2019-dataset/LA/LA/ASVsp...</td>\n",
       "      <td>1</td>\n",
       "    </tr>\n",
       "  </tbody>\n",
       "</table>\n",
       "</div>"
      ],
      "text/plain": [
       "  speaker_id      filename system_id  cat class_name  \\\n",
       "0    LA_0039  LA_E_2834763         -  A11      spoof   \n",
       "1    LA_0014  LA_E_8877452         -  A14      spoof   \n",
       "2    LA_0040  LA_E_6828287         -  A16      spoof   \n",
       "3    LA_0022  LA_E_6977360         -  A09      spoof   \n",
       "4    LA_0031  LA_E_5932896         -  A13      spoof   \n",
       "\n",
       "                                            filepath  target  \n",
       "0  /kaggle/input/asvpoof-2019-dataset/LA/LA/ASVsp...       1  \n",
       "1  /kaggle/input/asvpoof-2019-dataset/LA/LA/ASVsp...       1  \n",
       "2  /kaggle/input/asvpoof-2019-dataset/LA/LA/ASVsp...       1  \n",
       "3  /kaggle/input/asvpoof-2019-dataset/LA/LA/ASVsp...       1  \n",
       "4  /kaggle/input/asvpoof-2019-dataset/LA/LA/ASVsp...       1  "
      ]
     },
     "execution_count": 18,
     "metadata": {},
     "output_type": "execute_result"
    }
   ],
   "source": [
    "BASE_PATH = '/kaggle/input/asvpoof-2019-dataset/LA/LA'\n",
    "eval_df = pd.read_csv(f'{BASE_PATH}/ASVspoof2019_LA_cm_protocols/ASVspoof2019.LA.cm.eval.trl.txt', sep=\" \", header=None)\n",
    "\n",
    "eval_df.columns =['speaker_id','filename','system_id','cat','class_name']\n",
    "\n",
    "#change here\n",
    "eval_df['filepath'] = f'{BASE_PATH}/ASVspoof2019_LA_eval/flac/'+eval_df.filename+'.flac'\n",
    "\n",
    "eval_df['target'] = (eval_df.class_name=='spoof').astype('int32')\n",
    "print('len eval', len(eval_df))\n",
    "eval_df.head()"
   ]
  },
  {
   "cell_type": "code",
   "execution_count": 19,
   "id": "89e6e745",
   "metadata": {
    "execution": {
     "iopub.execute_input": "2025-07-05T08:55:50.658816Z",
     "iopub.status.busy": "2025-07-05T08:55:50.658525Z",
     "iopub.status.idle": "2025-07-05T08:55:50.675624Z",
     "shell.execute_reply": "2025-07-05T08:55:50.674533Z"
    },
    "papermill": {
     "duration": 0.070262,
     "end_time": "2025-07-05T08:55:50.677401",
     "exception": false,
     "start_time": "2025-07-05T08:55:50.607139",
     "status": "completed"
    },
    "tags": []
   },
   "outputs": [
    {
     "name": "stdout",
     "output_type": "stream",
     "text": [
      "63882\n"
     ]
    }
   ],
   "source": [
    "import pandas as pd\n",
    "\n",
    "# Count spoof and bonafide samples\n",
    "spoof_df = eval_df[eval_df['target'] == 1]\n",
    "bonafide_df = eval_df[eval_df['target'] == 0]\n",
    "print(len(spoof_df))"
   ]
  },
  {
   "cell_type": "code",
   "execution_count": 20,
   "id": "959371e7",
   "metadata": {
    "execution": {
     "iopub.execute_input": "2025-07-05T08:55:50.780286Z",
     "iopub.status.busy": "2025-07-05T08:55:50.779932Z",
     "iopub.status.idle": "2025-07-05T08:55:50.784244Z",
     "shell.execute_reply": "2025-07-05T08:55:50.783523Z"
    },
    "papermill": {
     "duration": 0.058439,
     "end_time": "2025-07-05T08:55:50.785759",
     "exception": false,
     "start_time": "2025-07-05T08:55:50.727320",
     "status": "completed"
    },
    "tags": []
   },
   "outputs": [],
   "source": [
    "SAMPLE_RATE = 16000\n",
    "TRACK_DURATION = 4 \n",
    "SAMPLES_PER_TRACK = SAMPLE_RATE * TRACK_DURATION\n",
    "EER_THRESHOLD = 0.2104"
   ]
  },
  {
   "cell_type": "code",
   "execution_count": 21,
   "id": "c60af677",
   "metadata": {
    "execution": {
     "iopub.execute_input": "2025-07-05T08:55:50.888487Z",
     "iopub.status.busy": "2025-07-05T08:55:50.888051Z",
     "iopub.status.idle": "2025-07-05T08:55:50.896413Z",
     "shell.execute_reply": "2025-07-05T08:55:50.895267Z"
    },
    "papermill": {
     "duration": 0.061699,
     "end_time": "2025-07-05T08:55:50.897950",
     "exception": false,
     "start_time": "2025-07-05T08:55:50.836251",
     "status": "completed"
    },
    "tags": []
   },
   "outputs": [],
   "source": [
    "def test_file(model, file_path, sample_rate=16000, duration=4.0, n_mels=N_MELS, max_time_steps=109, eer_threshold=EER_THRESHOLD):\n",
    "    X = []\n",
    "\n",
    "    try:\n",
    "        # Load audio\n",
    "        audio, _ = librosa.load(file_path, sr=sample_rate, duration=duration)\n",
    "\n",
    "        # Compute Mel spectrogram\n",
    "        mel_spec = librosa.feature.melspectrogram(y=audio, sr=sample_rate, n_mels=n_mels)\n",
    "        mel_spec = librosa.power_to_db(mel_spec, ref=np.max)  # (n_mels, time)\n",
    "\n",
    "        # Pad or truncate to fixed time steps\n",
    "        if mel_spec.shape[1] < max_time_steps:\n",
    "            pad_width = max_time_steps - mel_spec.shape[1]\n",
    "            mel_spec = np.pad(mel_spec, ((0, 0), (0, pad_width)), mode='constant')\n",
    "        else:\n",
    "            mel_spec = mel_spec[:, :max_time_steps]\n",
    "\n",
    "        X.append(mel_spec)\n",
    "    except Exception as e:\n",
    "        print(f\"Error processing {file_path}: {e}\")\n",
    "        return -1, -1\n",
    "\n",
    "    # Convert to model input shape: (1, 40, 109, 1)\n",
    "    X = np.array(X)\n",
    "    X = np.expand_dims(X, axis=-1)\n",
    "\n",
    "    # Predict\n",
    "    prob = model.predict(X, verbose=0)\n",
    "    prob_label = int(prob[0][0] >= eer_threshold)\n",
    "\n",
    "    return prob[0][0], prob_label\n"
   ]
  },
  {
   "cell_type": "code",
   "execution_count": 22,
   "id": "0e4dd4cb",
   "metadata": {
    "execution": {
     "iopub.execute_input": "2025-07-05T08:55:51.003978Z",
     "iopub.status.busy": "2025-07-05T08:55:51.003614Z",
     "iopub.status.idle": "2025-07-05T09:49:43.740167Z",
     "shell.execute_reply": "2025-07-05T09:49:43.738867Z"
    },
    "papermill": {
     "duration": 3232.842131,
     "end_time": "2025-07-05T09:49:43.793337",
     "exception": false,
     "start_time": "2025-07-05T08:55:50.951206",
     "status": "completed"
    },
    "tags": []
   },
   "outputs": [
    {
     "name": "stdout",
     "output_type": "stream",
     "text": [
      "Processing category A07...\n",
      "EER: 0.0014\n",
      "EER Threshold: 0.9772\n",
      "Processing category A08...\n",
      "EER: 0.1530\n",
      "EER Threshold: 0.1172\n",
      "Processing category A09...\n",
      "EER: 0.0008\n",
      "EER Threshold: 0.9950\n",
      "Processing category A10...\n",
      "EER: 0.0026\n",
      "EER Threshold: 0.8730\n",
      "Processing category A11...\n",
      "EER: 0.0033\n",
      "EER Threshold: 0.8525\n",
      "Processing category A12...\n",
      "EER: 0.0022\n",
      "EER Threshold: 0.9171\n",
      "Processing category A13...\n",
      "EER: 0.0045\n",
      "EER Threshold: 0.8049\n",
      "Processing category A14...\n",
      "EER: 0.0016\n",
      "EER Threshold: 0.9765\n",
      "Processing category A15...\n",
      "EER: 0.0049\n",
      "EER Threshold: 0.7802\n",
      "Processing category A16...\n",
      "EER: 0.0096\n",
      "EER Threshold: 0.5527\n",
      "Processing category A17...\n",
      "EER: 0.4796\n",
      "EER Threshold: 0.0362\n",
      "Processing category A18...\n",
      "EER: 0.1827\n",
      "EER Threshold: 0.1018\n",
      "Processing category A19...\n",
      "EER: 0.3067\n",
      "EER Threshold: 0.0616\n",
      "A07: {'EER': 0.0014, 'F1 Score': 0.9648, 'Accuracy': 0.9635, 'AUC': 0.9996, 'Recall': 1.0, 'Precision': 0.9319, 'Samples': 9828}\n",
      "A08: {'EER': 0.153, 'F1 Score': 0.8664, 'Accuracy': 0.8735, 'AUC': 0.9278, 'Recall': 0.8201, 'Precision': 0.9182, 'Samples': 9828}\n",
      "A09: {'EER': 0.0008, 'F1 Score': 0.9648, 'Accuracy': 0.9635, 'AUC': 0.9999, 'Recall': 1.0, 'Precision': 0.9319, 'Samples': 9828}\n",
      "A10: {'EER': 0.0026, 'F1 Score': 0.9629, 'Accuracy': 0.9616, 'AUC': 0.9984, 'Recall': 0.9963, 'Precision': 0.9317, 'Samples': 9828}\n",
      "A11: {'EER': 0.0033, 'F1 Score': 0.9627, 'Accuracy': 0.9614, 'AUC': 0.9983, 'Recall': 0.9959, 'Precision': 0.9317, 'Samples': 9828}\n",
      "A12: {'EER': 0.0022, 'F1 Score': 0.9648, 'Accuracy': 0.9635, 'AUC': 0.9995, 'Recall': 1.0, 'Precision': 0.9319, 'Samples': 9828}\n",
      "A13: {'EER': 0.0045, 'F1 Score': 0.9648, 'Accuracy': 0.9635, 'AUC': 0.9991, 'Recall': 1.0, 'Precision': 0.9319, 'Samples': 9828}\n",
      "A14: {'EER': 0.0016, 'F1 Score': 0.9647, 'Accuracy': 0.9634, 'AUC': 0.9998, 'Recall': 0.9998, 'Precision': 0.9319, 'Samples': 9828}\n",
      "A15: {'EER': 0.0049, 'F1 Score': 0.9634, 'Accuracy': 0.9621, 'AUC': 0.9988, 'Recall': 0.9974, 'Precision': 0.9317, 'Samples': 9828}\n",
      "A16: {'EER': 0.0096, 'F1 Score': 0.962, 'Accuracy': 0.9607, 'AUC': 0.9983, 'Recall': 0.9945, 'Precision': 0.9316, 'Samples': 9828}\n",
      "A17: {'EER': 0.4796, 'F1 Score': 0.1939, 'Accuracy': 0.5211, 'AUC': 0.5506, 'Recall': 0.1152, 'Precision': 0.6119, 'Samples': 9828}\n",
      "A18: {'EER': 0.1827, 'F1 Score': 0.6786, 'Accuracy': 0.739, 'AUC': 0.8964, 'Recall': 0.5511, 'Precision': 0.8829, 'Samples': 9828}\n",
      "A19: {'EER': 0.3067, 'F1 Score': 0.5369, 'Accuracy': 0.6604, 'AUC': 0.7668, 'Recall': 0.3938, 'Precision': 0.8435, 'Samples': 9828}\n"
     ]
    }
   ],
   "source": [
    "from sklearn.metrics import f1_score, accuracy_score, roc_curve\n",
    "import numpy as np\n",
    "\n",
    "# Constants required by save_mel\n",
    "SAMPLE_RATE = 16000\n",
    "DURATION = 4.0\n",
    "N_MELS = 128\n",
    "max_time_steps = 109\n",
    "\n",
    "# Function to compute EER\n",
    "def compute_eer(y_true, y_scores):\n",
    "    if len(np.unique(y_true)) < 2:\n",
    "        print(\"EER cannot be computed — only one class present in y_true.\")\n",
    "        eer = 0\n",
    "        eer_threshold = None\n",
    "    else:\n",
    "        fpr, tpr, thresholds = roc_curve(y_true, y_scores)\n",
    "        fnr = 1 - tpr\n",
    "        eer_index = np.nanargmin(np.abs(fpr - fnr))\n",
    "        eer = fpr[eer_index]\n",
    "        eer_threshold = thresholds[eer_index]\n",
    "        print(f\"EER: {eer:.4f}\")\n",
    "        print(f\"EER Threshold: {eer_threshold:.4f}\")\n",
    "    return eer\n",
    "\n",
    "# Dictionary to store results\n",
    "results_by_cat1 = {}\n",
    "spoof_eval_df = eval_df[eval_df[\"target\"] == 1]\n",
    "\n",
    "# Loop through each category\n",
    "for cat in sorted(spoof_eval_df[\"cat\"].unique()):\n",
    "    print(f\"Processing category {cat}...\")\n",
    "    \n",
    "    df_cat = eval_df[eval_df[\"cat\"] == cat].reset_index(drop=True)\n",
    "    bonafide_samples = eval_df[eval_df['target'] == 0]\n",
    "    num_spoof = len(df_cat)\n",
    "    num_bonafide = len(bonafide_samples)\n",
    "    n_samples = min(num_bonafide, num_spoof)\n",
    "    bonafide_samples = bonafide_samples.sample(n=n_samples, random_state=42)\n",
    "    spoof_samples = df_cat.sample(n=n_samples, random_state=42)  # Downsample spoof too\n",
    "    df_cat = pd.concat([spoof_samples, bonafide_samples]).sample(frac=1, random_state=42).reset_index(drop=True)\n",
    "\n",
    "\n",
    "    # Batch mel extraction\n",
    "    X_batch, y_batch = save_mel(df_cat)\n",
    "\n",
    "    if len(X_batch) == 0:\n",
    "        print(f\"No valid samples in category {cat}\")\n",
    "        continue\n",
    "\n",
    "    # Convert to numpy and reshape for model\n",
    "    X_batch = np.array(X_batch)\n",
    "    X_batch = np.expand_dims(X_batch, axis=-1)  # Shape: (num_samples, 40, 109, 1)\n",
    "    y_batch = np.array(y_batch)\n",
    "\n",
    "    # Predict probabilities\n",
    "    y_probs = model.predict(X_batch, verbose=0).flatten()\n",
    "    y_preds = (y_probs >= EER_THRESHOLD).astype(int)\n",
    "\n",
    "    # Compute metrics\n",
    "    eer = compute_eer(y_batch, y_probs)\n",
    "    f1 = f1_score(y_batch, y_preds)\n",
    "    acc = accuracy_score(y_batch, y_preds)\n",
    "    auc = roc_auc_score(y_batch, y_probs)           # Use y_probs here, not y_preds\n",
    "    recall = recall_score(y_batch, y_preds)\n",
    "    precision = precision_score(y_batch, y_preds)\n",
    "\n",
    "\n",
    "    # Store results\n",
    "    results_by_cat1[cat] = {\n",
    "        'EER': round(eer, 4),\n",
    "        'F1 Score': round(f1, 4),\n",
    "        'Accuracy': round(acc, 4),\n",
    "        'AUC': round(auc, 4),\n",
    "        'Recall': round(recall, 4),\n",
    "        'Precision': round(precision, 4),\n",
    "        'Samples': len(y_batch)\n",
    "    }\n",
    "\n",
    "# Print results\n",
    "for cat, metrics in results_by_cat1.items():\n",
    "    print(f\"{cat}: {metrics}\")\n"
   ]
  },
  {
   "cell_type": "code",
   "execution_count": 23,
   "id": "d516a3b4",
   "metadata": {
    "execution": {
     "iopub.execute_input": "2025-07-05T09:49:43.897545Z",
     "iopub.status.busy": "2025-07-05T09:49:43.897241Z",
     "iopub.status.idle": "2025-07-05T09:49:43.991479Z",
     "shell.execute_reply": "2025-07-05T09:49:43.990456Z"
    },
    "papermill": {
     "duration": 0.148795,
     "end_time": "2025-07-05T09:49:43.993043",
     "exception": false,
     "start_time": "2025-07-05T09:49:43.844248",
     "status": "completed"
    },
    "tags": []
   },
   "outputs": [
    {
     "name": "stdout",
     "output_type": "stream",
     "text": [
      "len dev 24844\n"
     ]
    },
    {
     "data": {
      "text/html": [
       "<div>\n",
       "<style scoped>\n",
       "    .dataframe tbody tr th:only-of-type {\n",
       "        vertical-align: middle;\n",
       "    }\n",
       "\n",
       "    .dataframe tbody tr th {\n",
       "        vertical-align: top;\n",
       "    }\n",
       "\n",
       "    .dataframe thead th {\n",
       "        text-align: right;\n",
       "    }\n",
       "</style>\n",
       "<table border=\"1\" class=\"dataframe\">\n",
       "  <thead>\n",
       "    <tr style=\"text-align: right;\">\n",
       "      <th></th>\n",
       "      <th>speaker_id</th>\n",
       "      <th>filename</th>\n",
       "      <th>system_id</th>\n",
       "      <th>cat</th>\n",
       "      <th>class_name</th>\n",
       "      <th>filepath</th>\n",
       "      <th>target</th>\n",
       "    </tr>\n",
       "  </thead>\n",
       "  <tbody>\n",
       "    <tr>\n",
       "      <th>0</th>\n",
       "      <td>LA_0069</td>\n",
       "      <td>LA_D_1047731</td>\n",
       "      <td>-</td>\n",
       "      <td>-</td>\n",
       "      <td>bonafide</td>\n",
       "      <td>/kaggle/input/asvpoof-2019-dataset/LA/LA/ASVsp...</td>\n",
       "      <td>0</td>\n",
       "    </tr>\n",
       "    <tr>\n",
       "      <th>1</th>\n",
       "      <td>LA_0069</td>\n",
       "      <td>LA_D_1105538</td>\n",
       "      <td>-</td>\n",
       "      <td>-</td>\n",
       "      <td>bonafide</td>\n",
       "      <td>/kaggle/input/asvpoof-2019-dataset/LA/LA/ASVsp...</td>\n",
       "      <td>0</td>\n",
       "    </tr>\n",
       "    <tr>\n",
       "      <th>2</th>\n",
       "      <td>LA_0069</td>\n",
       "      <td>LA_D_1125976</td>\n",
       "      <td>-</td>\n",
       "      <td>-</td>\n",
       "      <td>bonafide</td>\n",
       "      <td>/kaggle/input/asvpoof-2019-dataset/LA/LA/ASVsp...</td>\n",
       "      <td>0</td>\n",
       "    </tr>\n",
       "    <tr>\n",
       "      <th>3</th>\n",
       "      <td>LA_0069</td>\n",
       "      <td>LA_D_1293230</td>\n",
       "      <td>-</td>\n",
       "      <td>-</td>\n",
       "      <td>bonafide</td>\n",
       "      <td>/kaggle/input/asvpoof-2019-dataset/LA/LA/ASVsp...</td>\n",
       "      <td>0</td>\n",
       "    </tr>\n",
       "    <tr>\n",
       "      <th>4</th>\n",
       "      <td>LA_0069</td>\n",
       "      <td>LA_D_1340209</td>\n",
       "      <td>-</td>\n",
       "      <td>-</td>\n",
       "      <td>bonafide</td>\n",
       "      <td>/kaggle/input/asvpoof-2019-dataset/LA/LA/ASVsp...</td>\n",
       "      <td>0</td>\n",
       "    </tr>\n",
       "  </tbody>\n",
       "</table>\n",
       "</div>"
      ],
      "text/plain": [
       "  speaker_id      filename system_id cat class_name  \\\n",
       "0    LA_0069  LA_D_1047731         -   -   bonafide   \n",
       "1    LA_0069  LA_D_1105538         -   -   bonafide   \n",
       "2    LA_0069  LA_D_1125976         -   -   bonafide   \n",
       "3    LA_0069  LA_D_1293230         -   -   bonafide   \n",
       "4    LA_0069  LA_D_1340209         -   -   bonafide   \n",
       "\n",
       "                                            filepath  target  \n",
       "0  /kaggle/input/asvpoof-2019-dataset/LA/LA/ASVsp...       0  \n",
       "1  /kaggle/input/asvpoof-2019-dataset/LA/LA/ASVsp...       0  \n",
       "2  /kaggle/input/asvpoof-2019-dataset/LA/LA/ASVsp...       0  \n",
       "3  /kaggle/input/asvpoof-2019-dataset/LA/LA/ASVsp...       0  \n",
       "4  /kaggle/input/asvpoof-2019-dataset/LA/LA/ASVsp...       0  "
      ]
     },
     "execution_count": 23,
     "metadata": {},
     "output_type": "execute_result"
    }
   ],
   "source": [
    "BASE_PATH = '/kaggle/input/asvpoof-2019-dataset/LA/LA'\n",
    "\n",
    "# change here\n",
    "dev_df = pd.read_csv(f'{BASE_PATH}/ASVspoof2019_LA_cm_protocols/ASVspoof2019.LA.cm.dev.trl.txt', sep=\" \", header=None)\n",
    "\n",
    "dev_df.columns =['speaker_id','filename','system_id','cat','class_name']\n",
    "\n",
    "#change here\n",
    "dev_df['filepath'] = f'{BASE_PATH}/ASVspoof2019_LA_dev/flac/'+dev_df.filename+'.flac'\n",
    "\n",
    "dev_df['target'] = (dev_df.class_name=='spoof').astype('int32')\n",
    "print('len dev', len(dev_df))\n",
    "dev_df.head()"
   ]
  },
  {
   "cell_type": "code",
   "execution_count": 24,
   "id": "e22bdd29",
   "metadata": {
    "execution": {
     "iopub.execute_input": "2025-07-05T09:49:44.210025Z",
     "iopub.status.busy": "2025-07-05T09:49:44.209658Z",
     "iopub.status.idle": "2025-07-05T09:49:44.223674Z",
     "shell.execute_reply": "2025-07-05T09:49:44.222653Z"
    },
    "papermill": {
     "duration": 0.069546,
     "end_time": "2025-07-05T09:49:44.225459",
     "exception": false,
     "start_time": "2025-07-05T09:49:44.155913",
     "status": "completed"
    },
    "tags": []
   },
   "outputs": [
    {
     "name": "stdout",
     "output_type": "stream",
     "text": [
      "22296\n",
      "2548\n"
     ]
    }
   ],
   "source": [
    "import pandas as pd\n",
    "\n",
    "# Count spoof and bonafide samples\n",
    "spoof_df = dev_df[dev_df['target'] == 1]\n",
    "bonafide_df = dev_df[dev_df['target'] == 0]\n",
    "\n",
    "min_len = min(len(spoof_df), len(bonafide_df))\n",
    "print(len(spoof_df))\n",
    "print(len(bonafide_df))"
   ]
  },
  {
   "cell_type": "code",
   "execution_count": 25,
   "id": "63495714",
   "metadata": {
    "execution": {
     "iopub.execute_input": "2025-07-05T09:49:44.329610Z",
     "iopub.status.busy": "2025-07-05T09:49:44.329046Z",
     "iopub.status.idle": "2025-07-05T10:03:44.525603Z",
     "shell.execute_reply": "2025-07-05T10:03:44.524368Z"
    },
    "papermill": {
     "duration": 840.304238,
     "end_time": "2025-07-05T10:03:44.580598",
     "exception": false,
     "start_time": "2025-07-05T09:49:44.276360",
     "status": "completed"
    },
    "tags": []
   },
   "outputs": [
    {
     "name": "stdout",
     "output_type": "stream",
     "text": [
      "Processing category A01...\n",
      "EER: 0.0027\n",
      "EER Threshold: 0.9131\n",
      "Processing category A02...\n",
      "EER: 0.0008\n",
      "EER Threshold: 0.9973\n",
      "Processing category A03...\n",
      "EER: 0.0012\n",
      "EER Threshold: 0.9908\n",
      "Processing category A04...\n",
      "EER: 0.0067\n",
      "EER Threshold: 0.7115\n",
      "Processing category A05...\n",
      "EER: 0.0177\n",
      "EER Threshold: 0.4455\n",
      "Processing category A06...\n",
      "EER: 0.1692\n",
      "EER Threshold: 0.1194\n",
      "A01: {'EER': 0.0027, 'F1 Score': 0.9644, 'Accuracy': 0.9631, 'AUC': 0.9996, 'Recall': 1.0, 'Precision': 0.9313, 'Samples': 5096}\n",
      "A02: {'EER': 0.0008, 'F1 Score': 0.9644, 'Accuracy': 0.9631, 'AUC': 0.9996, 'Recall': 1.0, 'Precision': 0.9313, 'Samples': 5096}\n",
      "A03: {'EER': 0.0012, 'F1 Score': 0.9644, 'Accuracy': 0.9631, 'AUC': 0.9996, 'Recall': 1.0, 'Precision': 0.9313, 'Samples': 5096}\n",
      "A04: {'EER': 0.0067, 'F1 Score': 0.9629, 'Accuracy': 0.9615, 'AUC': 0.9989, 'Recall': 0.9969, 'Precision': 0.9311, 'Samples': 5096}\n",
      "A05: {'EER': 0.0177, 'F1 Score': 0.9593, 'Accuracy': 0.958, 'AUC': 0.9961, 'Recall': 0.9898, 'Precision': 0.9306, 'Samples': 5096}\n",
      "A06: {'EER': 0.1692, 'F1 Score': 0.7772, 'Accuracy': 0.8044, 'AUC': 0.909, 'Recall': 0.6825, 'Precision': 0.9024, 'Samples': 5096}\n"
     ]
    }
   ],
   "source": [
    "# Dictionary to store results\n",
    "results_by_cat2 = {}\n",
    "spoof_dev_df = dev_df[dev_df[\"target\"] == 1]\n",
    "# Loop through each category\n",
    "for cat in sorted(spoof_dev_df[\"cat\"].unique()):\n",
    "    print(f\"Processing category {cat}...\")\n",
    "    \n",
    "    df_cat = dev_df[dev_df[\"cat\"] == cat].reset_index(drop=True)\n",
    "    bonafide_samples = dev_df[dev_df['target'] == 0]\n",
    "    num_spoof = len(df_cat)\n",
    "    num_bonafide = len(bonafide_samples)\n",
    "    n_samples = min(num_bonafide, num_spoof)\n",
    "    bonafide_samples = bonafide_samples.sample(n=n_samples, random_state=42)\n",
    "    spoof_samples = df_cat.sample(n=n_samples, random_state=42)  # Downsample spoof too\n",
    "    df_cat = pd.concat([spoof_samples, bonafide_samples]).sample(frac=1, random_state=42).reset_index(drop=True)\n",
    "\n",
    "\n",
    "    # Batch mel extraction\n",
    "    X_batch, y_batch = save_mel(df_cat)\n",
    "\n",
    "    if len(X_batch) == 0:\n",
    "        print(f\"No valid samples in category {cat}\")\n",
    "        continue\n",
    "\n",
    "    # Convert to numpy and reshape for model\n",
    "    X_batch = np.array(X_batch)\n",
    "    X_batch = np.expand_dims(X_batch, axis=-1)  # Shape: (num_samples, 40, 109, 1)\n",
    "    y_batch = np.array(y_batch)\n",
    "\n",
    "    # Predict probabilities\n",
    "    y_probs = model.predict(X_batch, verbose=0).flatten()\n",
    "    y_preds = (y_probs >= EER_THRESHOLD).astype(int)\n",
    "\n",
    "    # Compute metrics\n",
    "    eer = compute_eer(y_batch, y_probs)\n",
    "    f1 = f1_score(y_batch, y_preds)\n",
    "    acc = accuracy_score(y_batch, y_preds)\n",
    "    auc = roc_auc_score(y_batch, y_probs)           # Use y_probs here, not y_preds\n",
    "    recall = recall_score(y_batch, y_preds)\n",
    "    precision = precision_score(y_batch, y_preds)\n",
    "\n",
    "    # Store results\n",
    "    results_by_cat2[cat] = {\n",
    "        'EER': round(eer, 4),\n",
    "        'F1 Score': round(f1, 4),\n",
    "        'Accuracy': round(acc, 4),\n",
    "        'AUC': round(auc, 4),\n",
    "        'Recall': round(recall, 4),\n",
    "        'Precision': round(precision, 4),\n",
    "        'Samples': len(y_batch)\n",
    "    }\n",
    "\n",
    "# Print results\n",
    "for cat, metrics in results_by_cat2.items():\n",
    "    print(f\"{cat}: {metrics}\")\n"
   ]
  },
  {
   "cell_type": "code",
   "execution_count": 26,
   "id": "4a53bde5",
   "metadata": {
    "execution": {
     "iopub.execute_input": "2025-07-05T10:03:44.684544Z",
     "iopub.status.busy": "2025-07-05T10:03:44.684200Z",
     "iopub.status.idle": "2025-07-05T10:03:44.692133Z",
     "shell.execute_reply": "2025-07-05T10:03:44.691290Z"
    },
    "papermill": {
     "duration": 0.061635,
     "end_time": "2025-07-05T10:03:44.693536",
     "exception": false,
     "start_time": "2025-07-05T10:03:44.631901",
     "status": "completed"
    },
    "tags": []
   },
   "outputs": [
    {
     "data": {
      "text/plain": [
       "{'A07': {'EER': 0.0014,\n",
       "  'F1 Score': 0.9648,\n",
       "  'Accuracy': 0.9635,\n",
       "  'AUC': 0.9996,\n",
       "  'Recall': 1.0,\n",
       "  'Precision': 0.9319,\n",
       "  'Samples': 9828},\n",
       " 'A08': {'EER': 0.153,\n",
       "  'F1 Score': 0.8664,\n",
       "  'Accuracy': 0.8735,\n",
       "  'AUC': 0.9278,\n",
       "  'Recall': 0.8201,\n",
       "  'Precision': 0.9182,\n",
       "  'Samples': 9828},\n",
       " 'A09': {'EER': 0.0008,\n",
       "  'F1 Score': 0.9648,\n",
       "  'Accuracy': 0.9635,\n",
       "  'AUC': 0.9999,\n",
       "  'Recall': 1.0,\n",
       "  'Precision': 0.9319,\n",
       "  'Samples': 9828},\n",
       " 'A10': {'EER': 0.0026,\n",
       "  'F1 Score': 0.9629,\n",
       "  'Accuracy': 0.9616,\n",
       "  'AUC': 0.9984,\n",
       "  'Recall': 0.9963,\n",
       "  'Precision': 0.9317,\n",
       "  'Samples': 9828},\n",
       " 'A11': {'EER': 0.0033,\n",
       "  'F1 Score': 0.9627,\n",
       "  'Accuracy': 0.9614,\n",
       "  'AUC': 0.9983,\n",
       "  'Recall': 0.9959,\n",
       "  'Precision': 0.9317,\n",
       "  'Samples': 9828},\n",
       " 'A12': {'EER': 0.0022,\n",
       "  'F1 Score': 0.9648,\n",
       "  'Accuracy': 0.9635,\n",
       "  'AUC': 0.9995,\n",
       "  'Recall': 1.0,\n",
       "  'Precision': 0.9319,\n",
       "  'Samples': 9828},\n",
       " 'A13': {'EER': 0.0045,\n",
       "  'F1 Score': 0.9648,\n",
       "  'Accuracy': 0.9635,\n",
       "  'AUC': 0.9991,\n",
       "  'Recall': 1.0,\n",
       "  'Precision': 0.9319,\n",
       "  'Samples': 9828},\n",
       " 'A14': {'EER': 0.0016,\n",
       "  'F1 Score': 0.9647,\n",
       "  'Accuracy': 0.9634,\n",
       "  'AUC': 0.9998,\n",
       "  'Recall': 0.9998,\n",
       "  'Precision': 0.9319,\n",
       "  'Samples': 9828},\n",
       " 'A15': {'EER': 0.0049,\n",
       "  'F1 Score': 0.9634,\n",
       "  'Accuracy': 0.9621,\n",
       "  'AUC': 0.9988,\n",
       "  'Recall': 0.9974,\n",
       "  'Precision': 0.9317,\n",
       "  'Samples': 9828},\n",
       " 'A16': {'EER': 0.0096,\n",
       "  'F1 Score': 0.962,\n",
       "  'Accuracy': 0.9607,\n",
       "  'AUC': 0.9983,\n",
       "  'Recall': 0.9945,\n",
       "  'Precision': 0.9316,\n",
       "  'Samples': 9828},\n",
       " 'A17': {'EER': 0.4796,\n",
       "  'F1 Score': 0.1939,\n",
       "  'Accuracy': 0.5211,\n",
       "  'AUC': 0.5506,\n",
       "  'Recall': 0.1152,\n",
       "  'Precision': 0.6119,\n",
       "  'Samples': 9828},\n",
       " 'A18': {'EER': 0.1827,\n",
       "  'F1 Score': 0.6786,\n",
       "  'Accuracy': 0.739,\n",
       "  'AUC': 0.8964,\n",
       "  'Recall': 0.5511,\n",
       "  'Precision': 0.8829,\n",
       "  'Samples': 9828},\n",
       " 'A19': {'EER': 0.3067,\n",
       "  'F1 Score': 0.5369,\n",
       "  'Accuracy': 0.6604,\n",
       "  'AUC': 0.7668,\n",
       "  'Recall': 0.3938,\n",
       "  'Precision': 0.8435,\n",
       "  'Samples': 9828}}"
      ]
     },
     "execution_count": 26,
     "metadata": {},
     "output_type": "execute_result"
    }
   ],
   "source": [
    "results_by_cat1"
   ]
  },
  {
   "cell_type": "code",
   "execution_count": 27,
   "id": "6886aeb2",
   "metadata": {
    "execution": {
     "iopub.execute_input": "2025-07-05T10:03:44.798047Z",
     "iopub.status.busy": "2025-07-05T10:03:44.797686Z",
     "iopub.status.idle": "2025-07-05T10:03:44.805137Z",
     "shell.execute_reply": "2025-07-05T10:03:44.804032Z"
    },
    "papermill": {
     "duration": 0.061534,
     "end_time": "2025-07-05T10:03:44.806697",
     "exception": false,
     "start_time": "2025-07-05T10:03:44.745163",
     "status": "completed"
    },
    "tags": []
   },
   "outputs": [
    {
     "data": {
      "text/plain": [
       "{'A01': {'EER': 0.0027,\n",
       "  'F1 Score': 0.9644,\n",
       "  'Accuracy': 0.9631,\n",
       "  'AUC': 0.9996,\n",
       "  'Recall': 1.0,\n",
       "  'Precision': 0.9313,\n",
       "  'Samples': 5096},\n",
       " 'A02': {'EER': 0.0008,\n",
       "  'F1 Score': 0.9644,\n",
       "  'Accuracy': 0.9631,\n",
       "  'AUC': 0.9996,\n",
       "  'Recall': 1.0,\n",
       "  'Precision': 0.9313,\n",
       "  'Samples': 5096},\n",
       " 'A03': {'EER': 0.0012,\n",
       "  'F1 Score': 0.9644,\n",
       "  'Accuracy': 0.9631,\n",
       "  'AUC': 0.9996,\n",
       "  'Recall': 1.0,\n",
       "  'Precision': 0.9313,\n",
       "  'Samples': 5096},\n",
       " 'A04': {'EER': 0.0067,\n",
       "  'F1 Score': 0.9629,\n",
       "  'Accuracy': 0.9615,\n",
       "  'AUC': 0.9989,\n",
       "  'Recall': 0.9969,\n",
       "  'Precision': 0.9311,\n",
       "  'Samples': 5096},\n",
       " 'A05': {'EER': 0.0177,\n",
       "  'F1 Score': 0.9593,\n",
       "  'Accuracy': 0.958,\n",
       "  'AUC': 0.9961,\n",
       "  'Recall': 0.9898,\n",
       "  'Precision': 0.9306,\n",
       "  'Samples': 5096},\n",
       " 'A06': {'EER': 0.1692,\n",
       "  'F1 Score': 0.7772,\n",
       "  'Accuracy': 0.8044,\n",
       "  'AUC': 0.909,\n",
       "  'Recall': 0.6825,\n",
       "  'Precision': 0.9024,\n",
       "  'Samples': 5096}}"
      ]
     },
     "execution_count": 27,
     "metadata": {},
     "output_type": "execute_result"
    }
   ],
   "source": [
    "results_by_cat2"
   ]
  },
  {
   "cell_type": "code",
   "execution_count": 28,
   "id": "f07485fc",
   "metadata": {
    "execution": {
     "iopub.execute_input": "2025-07-05T10:03:44.912907Z",
     "iopub.status.busy": "2025-07-05T10:03:44.912306Z",
     "iopub.status.idle": "2025-07-05T10:03:44.918005Z",
     "shell.execute_reply": "2025-07-05T10:03:44.917049Z"
    },
    "papermill": {
     "duration": 0.060477,
     "end_time": "2025-07-05T10:03:44.919476",
     "exception": false,
     "start_time": "2025-07-05T10:03:44.858999",
     "status": "completed"
    },
    "tags": []
   },
   "outputs": [],
   "source": [
    "with open(\"dev.json\", \"w\") as f:\n",
    "    json.dump(results_by_cat2, f, indent=4)  # `indent=4` for pretty formatting"
   ]
  },
  {
   "cell_type": "code",
   "execution_count": 29,
   "id": "e95c271e",
   "metadata": {
    "execution": {
     "iopub.execute_input": "2025-07-05T10:03:45.029263Z",
     "iopub.status.busy": "2025-07-05T10:03:45.028525Z",
     "iopub.status.idle": "2025-07-05T10:03:45.034109Z",
     "shell.execute_reply": "2025-07-05T10:03:45.033163Z"
    },
    "papermill": {
     "duration": 0.062282,
     "end_time": "2025-07-05T10:03:45.035696",
     "exception": false,
     "start_time": "2025-07-05T10:03:44.973414",
     "status": "completed"
    },
    "tags": []
   },
   "outputs": [],
   "source": [
    "with open(\"eval.json\", \"w\") as f:\n",
    "    json.dump(results_by_cat1, f, indent=4)  # `indent=4` for pretty formatting"
   ]
  }
 ],
 "metadata": {
  "kaggle": {
   "accelerator": "none",
   "dataSources": [
    {
     "datasetId": 2286778,
     "sourceId": 3842332,
     "sourceType": "datasetVersion"
    },
    {
     "isSourceIdPinned": true,
     "modelId": 392914,
     "modelInstanceId": 372027,
     "sourceId": 459364,
     "sourceType": "modelInstanceVersion"
    }
   ],
   "dockerImageVersionId": 31040,
   "isGpuEnabled": false,
   "isInternetEnabled": true,
   "language": "python",
   "sourceType": "notebook"
  },
  "kernelspec": {
   "display_name": "Python 3",
   "language": "python",
   "name": "python3"
  },
  "language_info": {
   "codemirror_mode": {
    "name": "ipython",
    "version": 3
   },
   "file_extension": ".py",
   "mimetype": "text/x-python",
   "name": "python",
   "nbconvert_exporter": "python",
   "pygments_lexer": "ipython3",
   "version": "3.11.11"
  },
  "papermill": {
   "default_parameters": {},
   "duration": 5093.252167,
   "end_time": "2025-07-05T10:03:48.235844",
   "environment_variables": {},
   "exception": null,
   "input_path": "__notebook__.ipynb",
   "output_path": "__notebook__.ipynb",
   "parameters": {},
   "start_time": "2025-07-05T08:38:54.983677",
   "version": "2.6.0"
  }
 },
 "nbformat": 4,
 "nbformat_minor": 5
}
