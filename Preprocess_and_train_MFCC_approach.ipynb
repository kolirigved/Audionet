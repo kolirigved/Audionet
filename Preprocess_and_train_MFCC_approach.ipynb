{
 "cells": [
  {
   "cell_type": "code",
   "execution_count": null,
   "metadata": {
    "execution": {
     "iopub.execute_input": "2025-07-02T20:13:59.441160Z",
     "iopub.status.busy": "2025-07-02T20:13:59.440860Z",
     "iopub.status.idle": "2025-07-02T20:13:59.445980Z",
     "shell.execute_reply": "2025-07-02T20:13:59.445110Z",
     "shell.execute_reply.started": "2025-07-02T20:13:59.441140Z"
    },
    "trusted": true
   },
   "outputs": [],
   "source": [
    "import json\n",
    "import numpy as np\n",
    "from sklearn.model_selection import train_test_split\n",
    "import tensorflow.keras as keras\n",
    "import matplotlib.pyplot as plt\n",
    "import librosa\n",
    "import os\n",
    "import math\n",
    "import shutil\n",
    "import pandas as pd\n",
    "import random"
   ]
  },
  {
   "cell_type": "code",
   "execution_count": null,
   "metadata": {
    "execution": {
     "iopub.execute_input": "2025-07-02T20:13:59.467933Z",
     "iopub.status.busy": "2025-07-02T20:13:59.467336Z",
     "iopub.status.idle": "2025-07-02T20:13:59.598300Z",
     "shell.execute_reply": "2025-07-02T20:13:59.597662Z",
     "shell.execute_reply.started": "2025-07-02T20:13:59.467908Z"
    },
    "trusted": true
   },
   "outputs": [],
   "source": [
    "BASE_PATH = '/kaggle/input/asvpoof-2019-dataset/LA/LA'\n",
    "\n",
    "# change here\n",
    "train_df = pd.read_csv(f'{BASE_PATH}/ASVspoof2019_LA_cm_protocols/ASVspoof2019.LA.cm.train.trn.txt', sep=\" \", header=None)\n",
    "\n",
    "train_df.columns =['speaker_id','filename','system_id','null','class_name']\n",
    "train_df.drop(columns=['null'],inplace=True)\n",
    "\n",
    "#change here\n",
    "train_df['filepath'] = f'{BASE_PATH}/ASVspoof2019_LA_train/flac/'+train_df.filename+'.flac'\n",
    "\n",
    "train_df['target'] = (train_df.class_name=='spoof').astype('int32')\n",
    "print('len Train', len(train_df))\n",
    "train_df.head()"
   ]
  },
  {
   "cell_type": "code",
   "execution_count": null,
   "metadata": {
    "execution": {
     "iopub.execute_input": "2025-07-02T20:13:59.600307Z",
     "iopub.status.busy": "2025-07-02T20:13:59.599927Z",
     "iopub.status.idle": "2025-07-02T20:14:07.411357Z",
     "shell.execute_reply": "2025-07-02T20:14:07.408826Z",
     "shell.execute_reply.started": "2025-07-02T20:13:59.600285Z"
    },
    "trusted": true
   },
   "outputs": [],
   "source": [
    "playpath = f'{BASE_PATH}/ASVspoof2019_LA_dev/flac/LA_D_1001095.flac'\n",
    "y, sr = librosa.load(playpath, sr=16000)\n",
    "duration = len(y) / sr\n",
    "print(duration)"
   ]
  },
  {
   "cell_type": "code",
   "execution_count": null,
   "metadata": {
    "execution": {
     "iopub.status.busy": "2025-07-02T20:14:07.411849Z",
     "iopub.status.idle": "2025-07-02T20:14:07.412083Z",
     "shell.execute_reply": "2025-07-02T20:14:07.411979Z",
     "shell.execute_reply.started": "2025-07-02T20:14:07.411969Z"
    },
    "trusted": true
   },
   "outputs": [],
   "source": [
    "#change here\n",
    "output_folder_0 = './audio_train/0'  # for bonafide\n",
    "output_folder_1 = './audio_train/1'  # for spoof\n",
    "\n",
    "if not os.path.exists(output_folder_0):\n",
    "    os.makedirs(output_folder_0)\n",
    "\n",
    "if not os.path.exists(output_folder_1):\n",
    "    os.makedirs(output_folder_1)\n",
    "\n",
    "for index, row in train_df.iterrows():\n",
    "    source_filepath = row['filepath']\n",
    "\n",
    "    #change here\n",
    "    target_folder = f'./audio_train/{row[\"target\"]}'\n",
    "    \n",
    "    target_filepath = os.path.join(target_folder, os.path.basename(source_filepath))\n",
    "    \n",
    "    if not os.path.exists(target_folder):\n",
    "        os.makedirs(target_folder)\n",
    "\n",
    "    shutil.copy(source_filepath, target_filepath)"
   ]
  },
  {
   "cell_type": "code",
   "execution_count": null,
   "metadata": {
    "execution": {
     "iopub.status.busy": "2025-07-02T20:14:07.413399Z",
     "iopub.status.idle": "2025-07-02T20:14:07.413801Z",
     "shell.execute_reply": "2025-07-02T20:14:07.413619Z",
     "shell.execute_reply.started": "2025-07-02T20:14:07.413603Z"
    },
    "trusted": true
   },
   "outputs": [],
   "source": [
    "nbonafide = len(os.listdir(output_folder_0))\n",
    "nspoof = len(os.listdir(output_folder_1))\n",
    "\n",
    "print(f'Number of Bonafide(0) Data {nbonafide}')\n",
    "print(f'Number of Spoof Data(1) {nspoof}')"
   ]
  },
  {
   "cell_type": "code",
   "execution_count": null,
   "metadata": {
    "execution": {
     "iopub.status.busy": "2025-07-02T20:14:07.414739Z",
     "iopub.status.idle": "2025-07-02T20:14:07.415104Z",
     "shell.execute_reply": "2025-07-02T20:14:07.414937Z",
     "shell.execute_reply.started": "2025-07-02T20:14:07.414922Z"
    },
    "trusted": true
   },
   "outputs": [],
   "source": [
    "#change here\n",
    "folder_path = './audio_train/1' \n",
    "\n",
    "files = os.listdir(folder_path)\n",
    "\n",
    "total_files = len(files)\n",
    "\n",
    "#to remove imbalance\n",
    "num_files_to_delete = nspoof-nbonafide\n",
    "\n",
    "files_to_delete = random.sample(files, min(num_files_to_delete, total_files))\n",
    "\n",
    "ndelete=0\n",
    "for file_name in files_to_delete:\n",
    "    file_path = os.path.join(folder_path, file_name)\n",
    "    try:\n",
    "        os.remove(file_path)\n",
    "        # print(f\"{file_name} Deleted.\")\n",
    "        ndelete += 1\n",
    "    except Exception as e:\n",
    "        print(f\"Error while deleting: {e}\")\n",
    "\n",
    "print(f'{ndelete} files deleted from {folder_path}')"
   ]
  },
  {
   "cell_type": "code",
   "execution_count": null,
   "metadata": {
    "execution": {
     "iopub.status.busy": "2025-07-02T20:14:07.416788Z",
     "iopub.status.idle": "2025-07-02T20:14:07.417146Z",
     "shell.execute_reply": "2025-07-02T20:14:07.416977Z",
     "shell.execute_reply.started": "2025-07-02T20:14:07.416962Z"
    },
    "trusted": true
   },
   "outputs": [],
   "source": [
    "print(f'Updated Number of files:')\n",
    "print(f'Number of Bonafide(0) Data {len(os.listdir(output_folder_0))}')\n",
    "print(f'Number of Spoof Data(1) {len(os.listdir(output_folder_1))}')"
   ]
  },
  {
   "cell_type": "code",
   "execution_count": null,
   "metadata": {
    "execution": {
     "iopub.status.busy": "2025-07-02T20:14:07.417860Z",
     "iopub.status.idle": "2025-07-02T20:14:07.418131Z",
     "shell.execute_reply": "2025-07-02T20:14:07.418027Z",
     "shell.execute_reply.started": "2025-07-02T20:14:07.418016Z"
    },
    "trusted": true
   },
   "outputs": [],
   "source": [
    "### for creating folders for dev and eval\n",
    "# change here\n",
    "dev_df = pd.read_csv(f'{BASE_PATH}/ASVspoof2019_LA_cm_protocols/ASVspoof2019.LA.cm.dev.trl.txt', sep=\" \", header=None)\n",
    "\n",
    "dev_df.columns =['speaker_id','filename','system_id','null','class_name']\n",
    "dev_df.drop(columns=['null'],inplace=True)\n",
    "\n",
    "#change here\n",
    "dev_df['filepath'] = f'{BASE_PATH}/ASVspoof2019_LA_dev/flac/'+dev_df.filename+'.flac'\n",
    "\n",
    "dev_df['target'] = (dev_df.class_name=='spoof').astype('int32')\n",
    "print('len dev', len(dev_df))\n",
    "dev_df.head()\n",
    "\n",
    "#change here\n",
    "output_folder_0 = './audio_dev/0'  # for bonafide\n",
    "output_folder_1 = './audio_dev/1'  # for spoof\n",
    "\n",
    "if not os.path.exists(output_folder_0):\n",
    "    os.makedirs(output_folder_0)\n",
    "\n",
    "if not os.path.exists(output_folder_1):\n",
    "    os.makedirs(output_folder_1)\n",
    "\n",
    "for index, row in dev_df.iterrows():\n",
    "    source_filepath = row['filepath']\n",
    "\n",
    "    #change here\n",
    "    target_folder = f'./audio_dev/{row[\"target\"]}'\n",
    "    \n",
    "    target_filepath = os.path.join(target_folder, os.path.basename(source_filepath))\n",
    "    \n",
    "    if not os.path.exists(target_folder):\n",
    "        os.makedirs(target_folder)\n",
    "\n",
    "    shutil.copy(source_filepath, target_filepath)\n",
    "\n",
    "nbonafide = len(os.listdir(output_folder_0))\n",
    "nspoof = len(os.listdir(output_folder_1))\n",
    "\n",
    "print(f'Number of Bonafide(0) Data {nbonafide}')\n",
    "print(f'Number of Spoof Data(1) {nspoof}')\n",
    "\n",
    "#change here\n",
    "folder_path = './audio_dev/1' \n",
    "\n",
    "files = os.listdir(folder_path)\n",
    "\n",
    "total_files = len(files)\n",
    "\n",
    "#to remove imbalance\n",
    "num_files_to_delete = nspoof-nbonafide\n",
    "\n",
    "files_to_delete = random.sample(files, min(num_files_to_delete, total_files))\n",
    "\n",
    "ndelete=0\n",
    "for file_name in files_to_delete:\n",
    "    file_path = os.path.join(folder_path, file_name)\n",
    "    try:\n",
    "        os.remove(file_path)\n",
    "        # print(f\"{file_name} Deleted.\")\n",
    "        ndelete += 1\n",
    "    except Exception as e:\n",
    "        print(f\"Error while deleting: {e}\")\n",
    "\n",
    "print(f'{ndelete} files deleted from {folder_path}')\n",
    "\n",
    "print(f'Updated Number of files:')\n",
    "print(f'Number of Bonafide(0) Data {len(os.listdir(output_folder_0))}')\n",
    "print(f'Number of Spoof Data(1) {len(os.listdir(output_folder_1))}')"
   ]
  },
  {
   "cell_type": "code",
   "execution_count": null,
   "metadata": {
    "execution": {
     "iopub.status.busy": "2025-07-02T20:14:07.419093Z",
     "iopub.status.idle": "2025-07-02T20:14:07.419434Z",
     "shell.execute_reply": "2025-07-02T20:14:07.419279Z",
     "shell.execute_reply.started": "2025-07-02T20:14:07.419263Z"
    },
    "trusted": true
   },
   "outputs": [],
   "source": [
    "### for creating folders for eval and dev\n",
    "# change here\n",
    "eval_df = pd.read_csv(f'{BASE_PATH}/ASVspoof2019_LA_cm_protocols/ASVspoof2019.LA.cm.eval.trl.txt', sep=\" \", header=None)\n",
    "\n",
    "eval_df.columns =['speaker_id','filename','system_id','null','class_name']\n",
    "eval_df.drop(columns=['null'],inplace=True)\n",
    "\n",
    "#change here\n",
    "eval_df['filepath'] = f'{BASE_PATH}/ASVspoof2019_LA_eval/flac/'+eval_df.filename+'.flac'\n",
    "\n",
    "eval_df['target'] = (eval_df.class_name=='spoof').astype('int32')\n",
    "print('len eval', len(eval_df))\n",
    "eval_df.head()\n",
    "\n",
    "#change here\n",
    "output_folder_0 = './audio_eval/0'  # for bonafide\n",
    "output_folder_1 = './audio_eval/1'  # for spoof\n",
    "\n",
    "if not os.path.exists(output_folder_0):\n",
    "    os.makedirs(output_folder_0)\n",
    "\n",
    "if not os.path.exists(output_folder_1):\n",
    "    os.makedirs(output_folder_1)\n",
    "\n",
    "for index, row in eval_df.iterrows():\n",
    "    source_filepath = row['filepath']\n",
    "\n",
    "    #change here\n",
    "    target_folder = f'./audio_eval/{row[\"target\"]}'\n",
    "    \n",
    "    target_filepath = os.path.join(target_folder, os.path.basename(source_filepath))\n",
    "    \n",
    "    if not os.path.exists(target_folder):\n",
    "        os.makedirs(target_folder)\n",
    "\n",
    "    shutil.copy(source_filepath, target_filepath)\n",
    "\n",
    "nbonafide = len(os.listdir(output_folder_0))\n",
    "nspoof = len(os.listdir(output_folder_1))\n",
    "\n",
    "print(f'Number of Bonafide(0) Data {nbonafide}')\n",
    "print(f'Number of Spoof Data(1) {nspoof}')\n",
    "\n",
    "#change here\n",
    "folder_path = './audio_eval/1' \n",
    "\n",
    "files = os.listdir(folder_path)\n",
    "\n",
    "total_files = len(files)\n",
    "\n",
    "#to remove imbalance\n",
    "num_files_to_delete = nspoof-nbonafide\n",
    "\n",
    "files_to_delete = random.sample(files, min(num_files_to_delete, total_files))\n",
    "\n",
    "ndelete=0\n",
    "for file_name in files_to_delete:\n",
    "    file_path = os.path.join(folder_path, file_name)\n",
    "    try:\n",
    "        os.remove(file_path)\n",
    "        # print(f\"{file_name} Deleted.\")\n",
    "        ndelete += 1\n",
    "    except Exception as e:\n",
    "        print(f\"Error while deleting: {e}\")\n",
    "\n",
    "print(f'{ndelete} files deleted from {folder_path}')\n",
    "\n",
    "print(f'Updated Number of files:')\n",
    "print(f'Number of Bonafide(0) Data {len(os.listdir(output_folder_0))}')\n",
    "print(f'Number of Spoof Data(1) {len(os.listdir(output_folder_1))}')"
   ]
  },
  {
   "cell_type": "code",
   "execution_count": null,
   "metadata": {
    "execution": {
     "iopub.status.busy": "2025-07-02T20:14:07.420422Z",
     "iopub.status.idle": "2025-07-02T20:14:07.420730Z",
     "shell.execute_reply": "2025-07-02T20:14:07.420594Z",
     "shell.execute_reply.started": "2025-07-02T20:14:07.420580Z"
    },
    "trusted": true
   },
   "outputs": [],
   "source": [
    "TRAIN_DATASET_PATH = \"/kaggle/working/audio_train\"\n",
    "VAL_DATASET_PATH = \"/kaggle/working/audio_dev\"\n",
    "TEST_DATASET_PATH = \"/kaggle/working/audio_eval\"\n",
    "TRAIN_JSON_PATH = \"data_train.json\"\n",
    "VAL_JSON_PATH = \"data_val.json\"\n",
    "TEST_JSON_PATH = \"data_test.json\"\n",
    "SAMPLE_RATE = 16000\n",
    "TRACK_DURATION = 4 \n",
    "SAMPLES_PER_TRACK = SAMPLE_RATE * TRACK_DURATION"
   ]
  },
  {
   "cell_type": "code",
   "execution_count": null,
   "metadata": {
    "execution": {
     "iopub.status.busy": "2025-07-02T20:14:07.421773Z",
     "iopub.status.idle": "2025-07-02T20:14:07.422036Z",
     "shell.execute_reply": "2025-07-02T20:14:07.421924Z",
     "shell.execute_reply.started": "2025-07-02T20:14:07.421912Z"
    },
    "trusted": true
   },
   "outputs": [],
   "source": [
    "def save_mfcc(dataset_path, json_path, num_mfcc=13, n_fft=1024, hop_length=512, num_segments=5):\n",
    "\n",
    "    \n",
    "    data = {\n",
    "        \"mapping\": [],\n",
    "        \"labels\": [],\n",
    "        \"mfcc\": []\n",
    "    }\n",
    "\n",
    "    samples_per_segment = int(SAMPLES_PER_TRACK / num_segments)\n",
    "    num_mfcc_vectors_per_segment = math.ceil(samples_per_segment / hop_length)\n",
    "\n",
    "    \n",
    "    for i, (dirpath, dirnames, filenames) in enumerate(os.walk(dataset_path)):\n",
    "\n",
    "        if dirpath is not dataset_path:\n",
    "\n",
    "            \n",
    "            semantic_label = dirpath.split(\"/\")[-1]\n",
    "            data[\"mapping\"].append(semantic_label)\n",
    "            print(\"\\nProcessing: {}\".format(semantic_label))\n",
    "\n",
    "           \n",
    "            for f in filenames:\n",
    "\n",
    "                file_path = os.path.join(dirpath, f)\n",
    "                signal, sample_rate = librosa.load(file_path, sr=SAMPLE_RATE)\n",
    "\n",
    "                \n",
    "                for d in range(num_segments):\n",
    "                    \n",
    "                    start = samples_per_segment * d\n",
    "                    finish = start + samples_per_segment\n",
    "                    \n",
    "                    mfcc = librosa.feature.mfcc(y=signal[start:finish], sr=sample_rate, n_mfcc=num_mfcc, n_fft=n_fft, hop_length=hop_length)\n",
    "                    mfcc = mfcc.T\n",
    "\n",
    "                    \n",
    "                    if len(mfcc) == num_mfcc_vectors_per_segment:\n",
    "                        data[\"mfcc\"].append(mfcc.tolist())\n",
    "                        data[\"labels\"].append(i-1)\n",
    "                        print(\"{}, segment:{}\".format(file_path, d+1))\n",
    "\n",
    "    with open(json_path, \"w\") as fp:\n",
    "        json.dump(data, fp, indent=4)"
   ]
  },
  {
   "cell_type": "code",
   "execution_count": null,
   "metadata": {
    "execution": {
     "iopub.status.busy": "2025-07-02T20:14:07.423032Z",
     "iopub.status.idle": "2025-07-02T20:14:07.423378Z",
     "shell.execute_reply": "2025-07-02T20:14:07.423216Z",
     "shell.execute_reply.started": "2025-07-02T20:14:07.423199Z"
    },
    "trusted": true
   },
   "outputs": [],
   "source": [
    "save_mfcc(TRAIN_DATASET_PATH, TRAIN_JSON_PATH, num_segments=2)"
   ]
  },
  {
   "cell_type": "code",
   "execution_count": null,
   "metadata": {
    "execution": {
     "iopub.status.busy": "2025-07-02T20:14:07.425095Z",
     "iopub.status.idle": "2025-07-02T20:14:07.425425Z",
     "shell.execute_reply": "2025-07-02T20:14:07.425256Z",
     "shell.execute_reply.started": "2025-07-02T20:14:07.425238Z"
    },
    "trusted": true
   },
   "outputs": [],
   "source": [
    "save_mfcc(VAL_DATASET_PATH, VAL_JSON_PATH, num_segments=2)"
   ]
  },
  {
   "cell_type": "markdown",
   "metadata": {},
   "source": [
    "### Run from here"
   ]
  },
  {
   "cell_type": "code",
   "execution_count": 363,
   "metadata": {
    "execution": {
     "iopub.execute_input": "2025-07-03T11:53:43.308125Z",
     "iopub.status.busy": "2025-07-03T11:53:43.307830Z",
     "iopub.status.idle": "2025-07-03T11:53:43.312441Z",
     "shell.execute_reply": "2025-07-03T11:53:43.311595Z",
     "shell.execute_reply.started": "2025-07-03T11:53:43.308106Z"
    },
    "trusted": true
   },
   "outputs": [],
   "source": [
    "import json\n",
    "import numpy as np\n",
    "from sklearn.model_selection import train_test_split\n",
    "import tensorflow.keras as keras\n",
    "import matplotlib.pyplot as plt\n",
    "import librosa\n",
    "import os\n",
    "import math\n",
    "import shutil\n",
    "import pandas as pd\n",
    "import random"
   ]
  },
  {
   "cell_type": "code",
   "execution_count": 364,
   "metadata": {
    "execution": {
     "iopub.execute_input": "2025-07-03T11:53:43.314291Z",
     "iopub.status.busy": "2025-07-03T11:53:43.313706Z",
     "iopub.status.idle": "2025-07-03T11:53:43.341803Z",
     "shell.execute_reply": "2025-07-03T11:53:43.341224Z",
     "shell.execute_reply.started": "2025-07-03T11:53:43.314269Z"
    },
    "trusted": true
   },
   "outputs": [],
   "source": [
    "DATA_PATH = \"./data_train.json\"\n",
    "\n",
    "\n",
    "def load_data(data_path):\n",
    "    \"\"\"Loads training dataset from json file.\n",
    "\n",
    "        :param data_path (str): Path to json file containing data\n",
    "        :return X (ndarray): Inputs\n",
    "        :return y (ndarray): Targets\n",
    "    \"\"\"\n",
    "\n",
    "    with open(data_path, \"r\") as fp:\n",
    "        data = json.load(fp)\n",
    "\n",
    "    X = np.array(data[\"mfcc\"])\n",
    "    y = np.array(data[\"labels\"])\n",
    "    print(len(X))\n",
    "    return X, y\n",
    "\n",
    "def prepare_datasets(test_size, validation_size):\n",
    "    \"\"\"Loads data and splits it into train, validation and test sets.\n",
    "\n",
    "    :param test_size (float): Value in [0, 1] indicating percentage of data set to allocate to test split\n",
    "    :param validation_size (float): Value in [0, 1] indicating percentage of train set to allocate to validation split\n",
    "\n",
    "    :return X_train (ndarray): Input training set\n",
    "    :return X_validation (ndarray): Input validation set\n",
    "    :return X_test (ndarray): Input test set\n",
    "    :return y_train (ndarray): Target training set\n",
    "    :return y_validation (ndarray): Target validation set\n",
    "    :return y_test (ndarray): Target test set\n",
    "    \"\"\"\n",
    "\n",
    "    # load data\n",
    "    X, y = load_data(DATA_PATH)\n",
    "\n",
    "    # create train, validation and test split\n",
    "    X_train, X_test, y_train, y_test = train_test_split(X, y, test_size=test_size)\n",
    "    X_train, X_validation, y_train, y_validation = train_test_split(X_train, y_train, test_size=validation_size)\n",
    "    print(len(X))\n",
    "    print(len(X_train))\n",
    "    print(len(X_test))\n",
    "    print(len(X_validation))\n",
    "    return X_train, X_validation, X_test, y_train, y_validation, y_test\n",
    "\n",
    "def build_model(input_shape):\n",
    "    \"\"\"Generates RNN-LSTM model\n",
    "\n",
    "    :param input_shape (tuple): Shape of input set\n",
    "    :return model: RNN-LSTM model\n",
    "    \"\"\"\n",
    "\n",
    "    # build network topology\n",
    "    model = keras.Sequential()\n",
    "\n",
    "    # 2 LSTM layers\n",
    "    model.add(keras.layers.LSTM(64, input_shape=input_shape, return_sequences=True))\n",
    "    model.add(keras.layers.LSTM(64))\n",
    "\n",
    "    # dense layer\n",
    "    model.add(keras.layers.Dense(64, activation='relu'))\n",
    "    model.add(keras.layers.Dropout(0.3))\n",
    "\n",
    "    # output layer\n",
    "    model.add(keras.layers.Dense(2, activation='softmax'))\n",
    "\n",
    "    return model\n"
   ]
  },
  {
   "cell_type": "code",
   "execution_count": 365,
   "metadata": {
    "execution": {
     "iopub.execute_input": "2025-07-03T11:53:43.342659Z",
     "iopub.status.busy": "2025-07-03T11:53:43.342470Z",
     "iopub.status.idle": "2025-07-03T11:53:43.366819Z",
     "shell.execute_reply": "2025-07-03T11:53:43.366303Z",
     "shell.execute_reply.started": "2025-07-03T11:53:43.342645Z"
    },
    "trusted": true
   },
   "outputs": [],
   "source": [
    "TRN_PATH = '/kaggle/input/pre-processed-data/data_train.json'\n",
    "V_PATH = '/kaggle/input/pre-processed-data/data_val.json'\n",
    "EVAL_PATH = '/kaggle/input/pre-processed-data/data_test.json'"
   ]
  },
  {
   "cell_type": "code",
   "execution_count": 366,
   "metadata": {
    "execution": {
     "iopub.execute_input": "2025-07-03T11:53:43.369046Z",
     "iopub.status.busy": "2025-07-03T11:53:43.368298Z",
     "iopub.status.idle": "2025-07-03T11:53:50.424610Z",
     "shell.execute_reply": "2025-07-03T11:53:50.423692Z",
     "shell.execute_reply.started": "2025-07-03T11:53:43.369023Z"
    },
    "trusted": true
   },
   "outputs": [
    {
     "name": "stdout",
     "output_type": "stream",
     "text": [
      "6062\n",
      "6182\n",
      "9795\n",
      "2449\n"
     ]
    }
   ],
   "source": [
    "x_t, y_t = load_data(TRN_PATH)\n",
    "x_v, y_v = load_data(V_PATH)\n",
    "X_train = np.concatenate((x_t, x_v), axis=0)\n",
    "y_train = np.concatenate((y_t, y_v), axis=0)\n",
    "# get train, validation, test splits\n",
    "X_train, X_validation, y_train, y_validation = train_test_split(X_train, y_train, test_size=0.2)\n",
    "print(len(X_train))\n",
    "print(len(X_validation))"
   ]
  },
  {
   "cell_type": "code",
   "execution_count": 367,
   "metadata": {
    "execution": {
     "iopub.execute_input": "2025-07-03T11:53:50.425846Z",
     "iopub.status.busy": "2025-07-03T11:53:50.425468Z",
     "iopub.status.idle": "2025-07-03T11:53:59.995010Z",
     "shell.execute_reply": "2025-07-03T11:53:59.993990Z",
     "shell.execute_reply.started": "2025-07-03T11:53:50.425820Z"
    },
    "trusted": true
   },
   "outputs": [
    {
     "name": "stdout",
     "output_type": "stream",
     "text": [
      "16037\n"
     ]
    }
   ],
   "source": [
    "TestX, TestY = load_data(\"/kaggle/input/pre-processed-data/data_test.json\")"
   ]
  },
  {
   "cell_type": "code",
   "execution_count": 381,
   "metadata": {
    "execution": {
     "iopub.execute_input": "2025-07-03T12:00:12.667065Z",
     "iopub.status.busy": "2025-07-03T12:00:12.666778Z",
     "iopub.status.idle": "2025-07-03T12:00:12.674560Z",
     "shell.execute_reply": "2025-07-03T12:00:12.673810Z",
     "shell.execute_reply.started": "2025-07-03T12:00:12.667045Z"
    },
    "trusted": true
   },
   "outputs": [],
   "source": [
    "from tensorflow import keras\n",
    "from tensorflow.keras import layers, regularizers\n",
    "\n",
    "def build_CNN_model(input_shape):\n",
    "    model = keras.Sequential()\n",
    "\n",
    "    # CNN layers\n",
    "    model.add(layers.Conv2D(32, (3, 3), activation='relu', input_shape=input_shape,\n",
    "                            kernel_regularizer=regularizers.l2(0.001)))\n",
    "    model.add(layers.MaxPooling2D((2, 2), strides=(2, 2), padding='same'))\n",
    "    model.add(layers.BatchNormalization())\n",
    "    model.add(layers.Dropout(0.05))\n",
    "    \n",
    "    model.add(layers.Conv2D(64, (2, 2), activation='relu',\n",
    "                            kernel_regularizer=regularizers.l2(0.001)))\n",
    "    model.add(layers.MaxPooling2D((2, 2), strides=(2, 2), padding='same'))\n",
    "    model.add(layers.BatchNormalization())\n",
    "    model.add(layers.Dropout(0.15))\n",
    "\n",
    "    # Reshape for LSTM\n",
    "    model.add(layers.Reshape((-1,64)))\n",
    "\n",
    "    # LSTM layer\n",
    "    model.add(layers.LSTM(128, return_sequences=False))\n",
    "\n",
    "    # Dense layers\n",
    "    model.add(layers.Dense(128, activation='relu',\n",
    "                           kernel_regularizer=regularizers.l2(0.001)))\n",
    "    model.add(layers.Dropout(0.3))\n",
    "\n",
    "    # Output layer\n",
    "    model.add(layers.Dense(1, activation='sigmoid'))\n",
    "\n",
    "    return model\n"
   ]
  },
  {
   "cell_type": "code",
   "execution_count": 382,
   "metadata": {
    "execution": {
     "iopub.execute_input": "2025-07-03T12:00:12.675905Z",
     "iopub.status.busy": "2025-07-03T12:00:12.675660Z",
     "iopub.status.idle": "2025-07-03T12:01:53.151975Z",
     "shell.execute_reply": "2025-07-03T12:01:53.151363Z",
     "shell.execute_reply.started": "2025-07-03T12:00:12.675889Z"
    },
    "trusted": true
   },
   "outputs": [
    {
     "name": "stderr",
     "output_type": "stream",
     "text": [
      "/usr/local/lib/python3.11/dist-packages/keras/src/layers/convolutional/base_conv.py:107: UserWarning: Do not pass an `input_shape`/`input_dim` argument to a layer. When using Sequential models, prefer using an `Input(shape)` object as the first layer in the model instead.\n",
      "  super().__init__(activity_regularizer=activity_regularizer, **kwargs)\n"
     ]
    },
    {
     "data": {
      "text/html": [
       "<pre style=\"white-space:pre;overflow-x:auto;line-height:normal;font-family:Menlo,'DejaVu Sans Mono',consolas,'Courier New',monospace\"><span style=\"font-weight: bold\">Model: \"sequential_38\"</span>\n",
       "</pre>\n"
      ],
      "text/plain": [
       "\u001b[1mModel: \"sequential_38\"\u001b[0m\n"
      ]
     },
     "metadata": {},
     "output_type": "display_data"
    },
    {
     "data": {
      "text/html": [
       "<pre style=\"white-space:pre;overflow-x:auto;line-height:normal;font-family:Menlo,'DejaVu Sans Mono',consolas,'Courier New',monospace\">┏━━━━━━━━━━━━━━━━━━━━━━━━━━━━━━━━━━━━━━┳━━━━━━━━━━━━━━━━━━━━━━━━━━━━━┳━━━━━━━━━━━━━━━━━┓\n",
       "┃<span style=\"font-weight: bold\"> Layer (type)                         </span>┃<span style=\"font-weight: bold\"> Output Shape                </span>┃<span style=\"font-weight: bold\">         Param # </span>┃\n",
       "┡━━━━━━━━━━━━━━━━━━━━━━━━━━━━━━━━━━━━━━╇━━━━━━━━━━━━━━━━━━━━━━━━━━━━━╇━━━━━━━━━━━━━━━━━┩\n",
       "│ conv2d_74 (<span style=\"color: #0087ff; text-decoration-color: #0087ff\">Conv2D</span>)                   │ (<span style=\"color: #00d7ff; text-decoration-color: #00d7ff\">None</span>, <span style=\"color: #00af00; text-decoration-color: #00af00\">61</span>, <span style=\"color: #00af00; text-decoration-color: #00af00\">11</span>, <span style=\"color: #00af00; text-decoration-color: #00af00\">32</span>)          │             <span style=\"color: #00af00; text-decoration-color: #00af00\">320</span> │\n",
       "├──────────────────────────────────────┼─────────────────────────────┼─────────────────┤\n",
       "│ max_pooling2d_74 (<span style=\"color: #0087ff; text-decoration-color: #0087ff\">MaxPooling2D</span>)      │ (<span style=\"color: #00d7ff; text-decoration-color: #00d7ff\">None</span>, <span style=\"color: #00af00; text-decoration-color: #00af00\">31</span>, <span style=\"color: #00af00; text-decoration-color: #00af00\">6</span>, <span style=\"color: #00af00; text-decoration-color: #00af00\">32</span>)           │               <span style=\"color: #00af00; text-decoration-color: #00af00\">0</span> │\n",
       "├──────────────────────────────────────┼─────────────────────────────┼─────────────────┤\n",
       "│ batch_normalization_74               │ (<span style=\"color: #00d7ff; text-decoration-color: #00d7ff\">None</span>, <span style=\"color: #00af00; text-decoration-color: #00af00\">31</span>, <span style=\"color: #00af00; text-decoration-color: #00af00\">6</span>, <span style=\"color: #00af00; text-decoration-color: #00af00\">32</span>)           │             <span style=\"color: #00af00; text-decoration-color: #00af00\">128</span> │\n",
       "│ (<span style=\"color: #0087ff; text-decoration-color: #0087ff\">BatchNormalization</span>)                 │                             │                 │\n",
       "├──────────────────────────────────────┼─────────────────────────────┼─────────────────┤\n",
       "│ dropout_104 (<span style=\"color: #0087ff; text-decoration-color: #0087ff\">Dropout</span>)                │ (<span style=\"color: #00d7ff; text-decoration-color: #00d7ff\">None</span>, <span style=\"color: #00af00; text-decoration-color: #00af00\">31</span>, <span style=\"color: #00af00; text-decoration-color: #00af00\">6</span>, <span style=\"color: #00af00; text-decoration-color: #00af00\">32</span>)           │               <span style=\"color: #00af00; text-decoration-color: #00af00\">0</span> │\n",
       "├──────────────────────────────────────┼─────────────────────────────┼─────────────────┤\n",
       "│ conv2d_75 (<span style=\"color: #0087ff; text-decoration-color: #0087ff\">Conv2D</span>)                   │ (<span style=\"color: #00d7ff; text-decoration-color: #00d7ff\">None</span>, <span style=\"color: #00af00; text-decoration-color: #00af00\">30</span>, <span style=\"color: #00af00; text-decoration-color: #00af00\">5</span>, <span style=\"color: #00af00; text-decoration-color: #00af00\">64</span>)           │           <span style=\"color: #00af00; text-decoration-color: #00af00\">8,256</span> │\n",
       "├──────────────────────────────────────┼─────────────────────────────┼─────────────────┤\n",
       "│ max_pooling2d_75 (<span style=\"color: #0087ff; text-decoration-color: #0087ff\">MaxPooling2D</span>)      │ (<span style=\"color: #00d7ff; text-decoration-color: #00d7ff\">None</span>, <span style=\"color: #00af00; text-decoration-color: #00af00\">15</span>, <span style=\"color: #00af00; text-decoration-color: #00af00\">3</span>, <span style=\"color: #00af00; text-decoration-color: #00af00\">64</span>)           │               <span style=\"color: #00af00; text-decoration-color: #00af00\">0</span> │\n",
       "├──────────────────────────────────────┼─────────────────────────────┼─────────────────┤\n",
       "│ batch_normalization_75               │ (<span style=\"color: #00d7ff; text-decoration-color: #00d7ff\">None</span>, <span style=\"color: #00af00; text-decoration-color: #00af00\">15</span>, <span style=\"color: #00af00; text-decoration-color: #00af00\">3</span>, <span style=\"color: #00af00; text-decoration-color: #00af00\">64</span>)           │             <span style=\"color: #00af00; text-decoration-color: #00af00\">256</span> │\n",
       "│ (<span style=\"color: #0087ff; text-decoration-color: #0087ff\">BatchNormalization</span>)                 │                             │                 │\n",
       "├──────────────────────────────────────┼─────────────────────────────┼─────────────────┤\n",
       "│ dropout_105 (<span style=\"color: #0087ff; text-decoration-color: #0087ff\">Dropout</span>)                │ (<span style=\"color: #00d7ff; text-decoration-color: #00d7ff\">None</span>, <span style=\"color: #00af00; text-decoration-color: #00af00\">15</span>, <span style=\"color: #00af00; text-decoration-color: #00af00\">3</span>, <span style=\"color: #00af00; text-decoration-color: #00af00\">64</span>)           │               <span style=\"color: #00af00; text-decoration-color: #00af00\">0</span> │\n",
       "├──────────────────────────────────────┼─────────────────────────────┼─────────────────┤\n",
       "│ reshape_36 (<span style=\"color: #0087ff; text-decoration-color: #0087ff\">Reshape</span>)                 │ (<span style=\"color: #00d7ff; text-decoration-color: #00d7ff\">None</span>, <span style=\"color: #00af00; text-decoration-color: #00af00\">45</span>, <span style=\"color: #00af00; text-decoration-color: #00af00\">64</span>)              │               <span style=\"color: #00af00; text-decoration-color: #00af00\">0</span> │\n",
       "├──────────────────────────────────────┼─────────────────────────────┼─────────────────┤\n",
       "│ lstm_35 (<span style=\"color: #0087ff; text-decoration-color: #0087ff\">LSTM</span>)                       │ (<span style=\"color: #00d7ff; text-decoration-color: #00d7ff\">None</span>, <span style=\"color: #00af00; text-decoration-color: #00af00\">128</span>)                 │          <span style=\"color: #00af00; text-decoration-color: #00af00\">98,816</span> │\n",
       "├──────────────────────────────────────┼─────────────────────────────┼─────────────────┤\n",
       "│ dense_90 (<span style=\"color: #0087ff; text-decoration-color: #0087ff\">Dense</span>)                     │ (<span style=\"color: #00d7ff; text-decoration-color: #00d7ff\">None</span>, <span style=\"color: #00af00; text-decoration-color: #00af00\">128</span>)                 │          <span style=\"color: #00af00; text-decoration-color: #00af00\">16,512</span> │\n",
       "├──────────────────────────────────────┼─────────────────────────────┼─────────────────┤\n",
       "│ dropout_106 (<span style=\"color: #0087ff; text-decoration-color: #0087ff\">Dropout</span>)                │ (<span style=\"color: #00d7ff; text-decoration-color: #00d7ff\">None</span>, <span style=\"color: #00af00; text-decoration-color: #00af00\">128</span>)                 │               <span style=\"color: #00af00; text-decoration-color: #00af00\">0</span> │\n",
       "├──────────────────────────────────────┼─────────────────────────────┼─────────────────┤\n",
       "│ dense_91 (<span style=\"color: #0087ff; text-decoration-color: #0087ff\">Dense</span>)                     │ (<span style=\"color: #00d7ff; text-decoration-color: #00d7ff\">None</span>, <span style=\"color: #00af00; text-decoration-color: #00af00\">1</span>)                   │             <span style=\"color: #00af00; text-decoration-color: #00af00\">129</span> │\n",
       "└──────────────────────────────────────┴─────────────────────────────┴─────────────────┘\n",
       "</pre>\n"
      ],
      "text/plain": [
       "┏━━━━━━━━━━━━━━━━━━━━━━━━━━━━━━━━━━━━━━┳━━━━━━━━━━━━━━━━━━━━━━━━━━━━━┳━━━━━━━━━━━━━━━━━┓\n",
       "┃\u001b[1m \u001b[0m\u001b[1mLayer (type)                        \u001b[0m\u001b[1m \u001b[0m┃\u001b[1m \u001b[0m\u001b[1mOutput Shape               \u001b[0m\u001b[1m \u001b[0m┃\u001b[1m \u001b[0m\u001b[1m        Param #\u001b[0m\u001b[1m \u001b[0m┃\n",
       "┡━━━━━━━━━━━━━━━━━━━━━━━━━━━━━━━━━━━━━━╇━━━━━━━━━━━━━━━━━━━━━━━━━━━━━╇━━━━━━━━━━━━━━━━━┩\n",
       "│ conv2d_74 (\u001b[38;5;33mConv2D\u001b[0m)                   │ (\u001b[38;5;45mNone\u001b[0m, \u001b[38;5;34m61\u001b[0m, \u001b[38;5;34m11\u001b[0m, \u001b[38;5;34m32\u001b[0m)          │             \u001b[38;5;34m320\u001b[0m │\n",
       "├──────────────────────────────────────┼─────────────────────────────┼─────────────────┤\n",
       "│ max_pooling2d_74 (\u001b[38;5;33mMaxPooling2D\u001b[0m)      │ (\u001b[38;5;45mNone\u001b[0m, \u001b[38;5;34m31\u001b[0m, \u001b[38;5;34m6\u001b[0m, \u001b[38;5;34m32\u001b[0m)           │               \u001b[38;5;34m0\u001b[0m │\n",
       "├──────────────────────────────────────┼─────────────────────────────┼─────────────────┤\n",
       "│ batch_normalization_74               │ (\u001b[38;5;45mNone\u001b[0m, \u001b[38;5;34m31\u001b[0m, \u001b[38;5;34m6\u001b[0m, \u001b[38;5;34m32\u001b[0m)           │             \u001b[38;5;34m128\u001b[0m │\n",
       "│ (\u001b[38;5;33mBatchNormalization\u001b[0m)                 │                             │                 │\n",
       "├──────────────────────────────────────┼─────────────────────────────┼─────────────────┤\n",
       "│ dropout_104 (\u001b[38;5;33mDropout\u001b[0m)                │ (\u001b[38;5;45mNone\u001b[0m, \u001b[38;5;34m31\u001b[0m, \u001b[38;5;34m6\u001b[0m, \u001b[38;5;34m32\u001b[0m)           │               \u001b[38;5;34m0\u001b[0m │\n",
       "├──────────────────────────────────────┼─────────────────────────────┼─────────────────┤\n",
       "│ conv2d_75 (\u001b[38;5;33mConv2D\u001b[0m)                   │ (\u001b[38;5;45mNone\u001b[0m, \u001b[38;5;34m30\u001b[0m, \u001b[38;5;34m5\u001b[0m, \u001b[38;5;34m64\u001b[0m)           │           \u001b[38;5;34m8,256\u001b[0m │\n",
       "├──────────────────────────────────────┼─────────────────────────────┼─────────────────┤\n",
       "│ max_pooling2d_75 (\u001b[38;5;33mMaxPooling2D\u001b[0m)      │ (\u001b[38;5;45mNone\u001b[0m, \u001b[38;5;34m15\u001b[0m, \u001b[38;5;34m3\u001b[0m, \u001b[38;5;34m64\u001b[0m)           │               \u001b[38;5;34m0\u001b[0m │\n",
       "├──────────────────────────────────────┼─────────────────────────────┼─────────────────┤\n",
       "│ batch_normalization_75               │ (\u001b[38;5;45mNone\u001b[0m, \u001b[38;5;34m15\u001b[0m, \u001b[38;5;34m3\u001b[0m, \u001b[38;5;34m64\u001b[0m)           │             \u001b[38;5;34m256\u001b[0m │\n",
       "│ (\u001b[38;5;33mBatchNormalization\u001b[0m)                 │                             │                 │\n",
       "├──────────────────────────────────────┼─────────────────────────────┼─────────────────┤\n",
       "│ dropout_105 (\u001b[38;5;33mDropout\u001b[0m)                │ (\u001b[38;5;45mNone\u001b[0m, \u001b[38;5;34m15\u001b[0m, \u001b[38;5;34m3\u001b[0m, \u001b[38;5;34m64\u001b[0m)           │               \u001b[38;5;34m0\u001b[0m │\n",
       "├──────────────────────────────────────┼─────────────────────────────┼─────────────────┤\n",
       "│ reshape_36 (\u001b[38;5;33mReshape\u001b[0m)                 │ (\u001b[38;5;45mNone\u001b[0m, \u001b[38;5;34m45\u001b[0m, \u001b[38;5;34m64\u001b[0m)              │               \u001b[38;5;34m0\u001b[0m │\n",
       "├──────────────────────────────────────┼─────────────────────────────┼─────────────────┤\n",
       "│ lstm_35 (\u001b[38;5;33mLSTM\u001b[0m)                       │ (\u001b[38;5;45mNone\u001b[0m, \u001b[38;5;34m128\u001b[0m)                 │          \u001b[38;5;34m98,816\u001b[0m │\n",
       "├──────────────────────────────────────┼─────────────────────────────┼─────────────────┤\n",
       "│ dense_90 (\u001b[38;5;33mDense\u001b[0m)                     │ (\u001b[38;5;45mNone\u001b[0m, \u001b[38;5;34m128\u001b[0m)                 │          \u001b[38;5;34m16,512\u001b[0m │\n",
       "├──────────────────────────────────────┼─────────────────────────────┼─────────────────┤\n",
       "│ dropout_106 (\u001b[38;5;33mDropout\u001b[0m)                │ (\u001b[38;5;45mNone\u001b[0m, \u001b[38;5;34m128\u001b[0m)                 │               \u001b[38;5;34m0\u001b[0m │\n",
       "├──────────────────────────────────────┼─────────────────────────────┼─────────────────┤\n",
       "│ dense_91 (\u001b[38;5;33mDense\u001b[0m)                     │ (\u001b[38;5;45mNone\u001b[0m, \u001b[38;5;34m1\u001b[0m)                   │             \u001b[38;5;34m129\u001b[0m │\n",
       "└──────────────────────────────────────┴─────────────────────────────┴─────────────────┘\n"
      ]
     },
     "metadata": {},
     "output_type": "display_data"
    },
    {
     "data": {
      "text/html": [
       "<pre style=\"white-space:pre;overflow-x:auto;line-height:normal;font-family:Menlo,'DejaVu Sans Mono',consolas,'Courier New',monospace\"><span style=\"font-weight: bold\"> Total params: </span><span style=\"color: #00af00; text-decoration-color: #00af00\">124,417</span> (486.00 KB)\n",
       "</pre>\n"
      ],
      "text/plain": [
       "\u001b[1m Total params: \u001b[0m\u001b[38;5;34m124,417\u001b[0m (486.00 KB)\n"
      ]
     },
     "metadata": {},
     "output_type": "display_data"
    },
    {
     "data": {
      "text/html": [
       "<pre style=\"white-space:pre;overflow-x:auto;line-height:normal;font-family:Menlo,'DejaVu Sans Mono',consolas,'Courier New',monospace\"><span style=\"font-weight: bold\"> Trainable params: </span><span style=\"color: #00af00; text-decoration-color: #00af00\">124,225</span> (485.25 KB)\n",
       "</pre>\n"
      ],
      "text/plain": [
       "\u001b[1m Trainable params: \u001b[0m\u001b[38;5;34m124,225\u001b[0m (485.25 KB)\n"
      ]
     },
     "metadata": {},
     "output_type": "display_data"
    },
    {
     "data": {
      "text/html": [
       "<pre style=\"white-space:pre;overflow-x:auto;line-height:normal;font-family:Menlo,'DejaVu Sans Mono',consolas,'Courier New',monospace\"><span style=\"font-weight: bold\"> Non-trainable params: </span><span style=\"color: #00af00; text-decoration-color: #00af00\">192</span> (768.00 B)\n",
       "</pre>\n"
      ],
      "text/plain": [
       "\u001b[1m Non-trainable params: \u001b[0m\u001b[38;5;34m192\u001b[0m (768.00 B)\n"
      ]
     },
     "metadata": {},
     "output_type": "display_data"
    },
    {
     "name": "stdout",
     "output_type": "stream",
     "text": [
      "Epoch 1/30\n"
     ]
    },
    {
     "name": "stderr",
     "output_type": "stream",
     "text": [
      "E0000 00:00:1751544017.039260      35 meta_optimizer.cc:966] layout failed: INVALID_ARGUMENT: Size of values 0 does not match size of permutation 4 @ fanin shape inStatefulPartitionedCall/sequential_38_1/dropout_104_1/stateless_dropout/SelectV2-2-TransposeNHWCToNCHW-LayoutOptimizer\n"
     ]
    },
    {
     "name": "stdout",
     "output_type": "stream",
     "text": [
      "\u001b[1m307/307\u001b[0m \u001b[32m━━━━━━━━━━━━━━━━━━━━\u001b[0m\u001b[37m\u001b[0m \u001b[1m9s\u001b[0m 16ms/step - accuracy: 0.5798 - loss: 0.8305 - recall_35: 0.5189 - val_accuracy: 0.8248 - val_loss: 0.5748 - val_recall_35: 0.8249\n",
      "Epoch 2/30\n",
      "\u001b[1m307/307\u001b[0m \u001b[32m━━━━━━━━━━━━━━━━━━━━\u001b[0m\u001b[37m\u001b[0m \u001b[1m3s\u001b[0m 10ms/step - accuracy: 0.8382 - loss: 0.5254 - recall_35: 0.7678 - val_accuracy: 0.8387 - val_loss: 0.4837 - val_recall_35: 0.6972\n",
      "Epoch 3/30\n",
      "\u001b[1m307/307\u001b[0m \u001b[32m━━━━━━━━━━━━━━━━━━━━\u001b[0m\u001b[37m\u001b[0m \u001b[1m3s\u001b[0m 10ms/step - accuracy: 0.8647 - loss: 0.4429 - recall_35: 0.8119 - val_accuracy: 0.8791 - val_loss: 0.4161 - val_recall_35: 0.7940\n",
      "Epoch 4/30\n",
      "\u001b[1m307/307\u001b[0m \u001b[32m━━━━━━━━━━━━━━━━━━━━\u001b[0m\u001b[37m\u001b[0m \u001b[1m3s\u001b[0m 10ms/step - accuracy: 0.8842 - loss: 0.3920 - recall_35: 0.8586 - val_accuracy: 0.8947 - val_loss: 0.3578 - val_recall_35: 0.8424\n",
      "Epoch 5/30\n",
      "\u001b[1m307/307\u001b[0m \u001b[32m━━━━━━━━━━━━━━━━━━━━\u001b[0m\u001b[37m\u001b[0m \u001b[1m3s\u001b[0m 10ms/step - accuracy: 0.8941 - loss: 0.3637 - recall_35: 0.8755 - val_accuracy: 0.8983 - val_loss: 0.3394 - val_recall_35: 0.9091\n",
      "Epoch 6/30\n",
      "\u001b[1m307/307\u001b[0m \u001b[32m━━━━━━━━━━━━━━━━━━━━\u001b[0m\u001b[37m\u001b[0m \u001b[1m3s\u001b[0m 10ms/step - accuracy: 0.8927 - loss: 0.3523 - recall_35: 0.8769 - val_accuracy: 0.8918 - val_loss: 0.3434 - val_recall_35: 0.8624\n",
      "Epoch 7/30\n",
      "\u001b[1m307/307\u001b[0m \u001b[32m━━━━━━━━━━━━━━━━━━━━\u001b[0m\u001b[37m\u001b[0m \u001b[1m3s\u001b[0m 11ms/step - accuracy: 0.9041 - loss: 0.3299 - recall_35: 0.8830 - val_accuracy: 0.8914 - val_loss: 0.3357 - val_recall_35: 0.9183\n",
      "Epoch 8/30\n",
      "\u001b[1m307/307\u001b[0m \u001b[32m━━━━━━━━━━━━━━━━━━━━\u001b[0m\u001b[37m\u001b[0m \u001b[1m3s\u001b[0m 10ms/step - accuracy: 0.9051 - loss: 0.3150 - recall_35: 0.9022 - val_accuracy: 0.9024 - val_loss: 0.3199 - val_recall_35: 0.9316\n",
      "Epoch 9/30\n",
      "\u001b[1m307/307\u001b[0m \u001b[32m━━━━━━━━━━━━━━━━━━━━\u001b[0m\u001b[37m\u001b[0m \u001b[1m3s\u001b[0m 10ms/step - accuracy: 0.9134 - loss: 0.2941 - recall_35: 0.9079 - val_accuracy: 0.9032 - val_loss: 0.3009 - val_recall_35: 0.8841\n",
      "Epoch 10/30\n",
      "\u001b[1m307/307\u001b[0m \u001b[32m━━━━━━━━━━━━━━━━━━━━\u001b[0m\u001b[37m\u001b[0m \u001b[1m3s\u001b[0m 10ms/step - accuracy: 0.9134 - loss: 0.2892 - recall_35: 0.9183 - val_accuracy: 0.9200 - val_loss: 0.2704 - val_recall_35: 0.9166\n",
      "Epoch 11/30\n",
      "\u001b[1m307/307\u001b[0m \u001b[32m━━━━━━━━━━━━━━━━━━━━\u001b[0m\u001b[37m\u001b[0m \u001b[1m3s\u001b[0m 10ms/step - accuracy: 0.9208 - loss: 0.2679 - recall_35: 0.9237 - val_accuracy: 0.9138 - val_loss: 0.2981 - val_recall_35: 0.8849\n",
      "Epoch 12/30\n",
      "\u001b[1m307/307\u001b[0m \u001b[32m━━━━━━━━━━━━━━━━━━━━\u001b[0m\u001b[37m\u001b[0m \u001b[1m3s\u001b[0m 10ms/step - accuracy: 0.9250 - loss: 0.2580 - recall_35: 0.9223 - val_accuracy: 0.8918 - val_loss: 0.3211 - val_recall_35: 0.8490\n",
      "Epoch 13/30\n",
      "\u001b[1m307/307\u001b[0m \u001b[32m━━━━━━━━━━━━━━━━━━━━\u001b[0m\u001b[37m\u001b[0m \u001b[1m3s\u001b[0m 10ms/step - accuracy: 0.9266 - loss: 0.2525 - recall_35: 0.9221 - val_accuracy: 0.9134 - val_loss: 0.2843 - val_recall_35: 0.9158\n",
      "Epoch 14/30\n",
      "\u001b[1m307/307\u001b[0m \u001b[32m━━━━━━━━━━━━━━━━━━━━\u001b[0m\u001b[37m\u001b[0m \u001b[1m3s\u001b[0m 10ms/step - accuracy: 0.9299 - loss: 0.2453 - recall_35: 0.9225 - val_accuracy: 0.9228 - val_loss: 0.2553 - val_recall_35: 0.9224\n",
      "Epoch 15/30\n",
      "\u001b[1m307/307\u001b[0m \u001b[32m━━━━━━━━━━━━━━━━━━━━\u001b[0m\u001b[37m\u001b[0m \u001b[1m3s\u001b[0m 10ms/step - accuracy: 0.9311 - loss: 0.2329 - recall_35: 0.9241 - val_accuracy: 0.9183 - val_loss: 0.2589 - val_recall_35: 0.9458\n",
      "Epoch 16/30\n",
      "\u001b[1m307/307\u001b[0m \u001b[32m━━━━━━━━━━━━━━━━━━━━\u001b[0m\u001b[37m\u001b[0m \u001b[1m3s\u001b[0m 10ms/step - accuracy: 0.9352 - loss: 0.2239 - recall_35: 0.9366 - val_accuracy: 0.9347 - val_loss: 0.2275 - val_recall_35: 0.9099\n",
      "Epoch 17/30\n",
      "\u001b[1m307/307\u001b[0m \u001b[32m━━━━━━━━━━━━━━━━━━━━\u001b[0m\u001b[37m\u001b[0m \u001b[1m3s\u001b[0m 11ms/step - accuracy: 0.9349 - loss: 0.2222 - recall_35: 0.9274 - val_accuracy: 0.9179 - val_loss: 0.2543 - val_recall_35: 0.9141\n",
      "Epoch 18/30\n",
      "\u001b[1m307/307\u001b[0m \u001b[32m━━━━━━━━━━━━━━━━━━━━\u001b[0m\u001b[37m\u001b[0m \u001b[1m3s\u001b[0m 10ms/step - accuracy: 0.9371 - loss: 0.2182 - recall_35: 0.9336 - val_accuracy: 0.9077 - val_loss: 0.2736 - val_recall_35: 0.9708\n",
      "Epoch 19/30\n",
      "\u001b[1m307/307\u001b[0m \u001b[32m━━━━━━━━━━━━━━━━━━━━\u001b[0m\u001b[37m\u001b[0m \u001b[1m3s\u001b[0m 10ms/step - accuracy: 0.9358 - loss: 0.2185 - recall_35: 0.9379 - val_accuracy: 0.9347 - val_loss: 0.2236 - val_recall_35: 0.9141\n",
      "Epoch 20/30\n",
      "\u001b[1m307/307\u001b[0m \u001b[32m━━━━━━━━━━━━━━━━━━━━\u001b[0m\u001b[37m\u001b[0m \u001b[1m3s\u001b[0m 10ms/step - accuracy: 0.9414 - loss: 0.1999 - recall_35: 0.9306 - val_accuracy: 0.9212 - val_loss: 0.2527 - val_recall_35: 0.9041\n",
      "Epoch 21/30\n",
      "\u001b[1m307/307\u001b[0m \u001b[32m━━━━━━━━━━━━━━━━━━━━\u001b[0m\u001b[37m\u001b[0m \u001b[1m3s\u001b[0m 10ms/step - accuracy: 0.9474 - loss: 0.1943 - recall_35: 0.9424 - val_accuracy: 0.9232 - val_loss: 0.2421 - val_recall_35: 0.9458\n",
      "Epoch 22/30\n",
      "\u001b[1m307/307\u001b[0m \u001b[32m━━━━━━━━━━━━━━━━━━━━\u001b[0m\u001b[37m\u001b[0m \u001b[1m3s\u001b[0m 10ms/step - accuracy: 0.9473 - loss: 0.1868 - recall_35: 0.9409 - val_accuracy: 0.9330 - val_loss: 0.2157 - val_recall_35: 0.9266\n",
      "Epoch 23/30\n",
      "\u001b[1m307/307\u001b[0m \u001b[32m━━━━━━━━━━━━━━━━━━━━\u001b[0m\u001b[37m\u001b[0m \u001b[1m3s\u001b[0m 10ms/step - accuracy: 0.9554 - loss: 0.1763 - recall_35: 0.9489 - val_accuracy: 0.9118 - val_loss: 0.2630 - val_recall_35: 0.9500\n",
      "Epoch 24/30\n",
      "\u001b[1m307/307\u001b[0m \u001b[32m━━━━━━━━━━━━━━━━━━━━\u001b[0m\u001b[37m\u001b[0m \u001b[1m3s\u001b[0m 10ms/step - accuracy: 0.9474 - loss: 0.1784 - recall_35: 0.9500 - val_accuracy: 0.9245 - val_loss: 0.2434 - val_recall_35: 0.8999\n",
      "Epoch 25/30\n",
      "\u001b[1m307/307\u001b[0m \u001b[32m━━━━━━━━━━━━━━━━━━━━\u001b[0m\u001b[37m\u001b[0m \u001b[1m3s\u001b[0m 10ms/step - accuracy: 0.9528 - loss: 0.1746 - recall_35: 0.9444 - val_accuracy: 0.9269 - val_loss: 0.2331 - val_recall_35: 0.9308\n",
      "Epoch 26/30\n",
      "\u001b[1m307/307\u001b[0m \u001b[32m━━━━━━━━━━━━━━━━━━━━\u001b[0m\u001b[37m\u001b[0m \u001b[1m3s\u001b[0m 10ms/step - accuracy: 0.9516 - loss: 0.1680 - recall_35: 0.9484 - val_accuracy: 0.9396 - val_loss: 0.2075 - val_recall_35: 0.9166\n",
      "Epoch 27/30\n",
      "\u001b[1m307/307\u001b[0m \u001b[32m━━━━━━━━━━━━━━━━━━━━\u001b[0m\u001b[37m\u001b[0m \u001b[1m3s\u001b[0m 11ms/step - accuracy: 0.9551 - loss: 0.1645 - recall_35: 0.9523 - val_accuracy: 0.9277 - val_loss: 0.2538 - val_recall_35: 0.8907\n",
      "Epoch 28/30\n",
      "\u001b[1m307/307\u001b[0m \u001b[32m━━━━━━━━━━━━━━━━━━━━\u001b[0m\u001b[37m\u001b[0m \u001b[1m3s\u001b[0m 10ms/step - accuracy: 0.9570 - loss: 0.1584 - recall_35: 0.9515 - val_accuracy: 0.9437 - val_loss: 0.1917 - val_recall_35: 0.9308\n",
      "Epoch 29/30\n",
      "\u001b[1m307/307\u001b[0m \u001b[32m━━━━━━━━━━━━━━━━━━━━\u001b[0m\u001b[37m\u001b[0m \u001b[1m3s\u001b[0m 10ms/step - accuracy: 0.9526 - loss: 0.1713 - recall_35: 0.9427 - val_accuracy: 0.9294 - val_loss: 0.2274 - val_recall_35: 0.8941\n",
      "Epoch 30/30\n",
      "\u001b[1m307/307\u001b[0m \u001b[32m━━━━━━━━━━━━━━━━━━━━\u001b[0m\u001b[37m\u001b[0m \u001b[1m3s\u001b[0m 10ms/step - accuracy: 0.9591 - loss: 0.1577 - recall_35: 0.9548 - val_accuracy: 0.9265 - val_loss: 0.2312 - val_recall_35: 0.9691\n",
      "Restoring model weights from the end of the best epoch: 28.\n"
     ]
    }
   ],
   "source": [
    "import tensorflow as tf\n",
    "from tensorflow import keras\n",
    "from tensorflow.keras import layers, regularizers\n",
    "\n",
    "# create network\n",
    "input_shape = (X_train.shape[1], X_train.shape[2],1) # 130, 13\n",
    "model = build_CNN_model(input_shape)\n",
    "\n",
    "    \n",
    "# compile model\n",
    "optimiser = keras.optimizers.Adam(learning_rate=0.0001)\n",
    "early_stopping = keras.callbacks.EarlyStopping(\n",
    "        monitor='val_loss', \n",
    "        verbose=1,\n",
    "        patience=5,\n",
    "        mode='min',\n",
    "        restore_best_weights=True,\n",
    "    )\n",
    "model.compile(optimizer=optimiser,\n",
    "          loss='binary_crossentropy',\n",
    "          metrics=['accuracy', \n",
    "                   keras.metrics.Recall()]\n",
    "             )\n",
    "\n",
    "model.summary()\n",
    "\n",
    "# train model\n",
    "history = model.fit(X_train, y_train, validation_data=(X_validation, y_validation), batch_size=32, epochs=30,callbacks=[early_stopping],\n",
    ")\n",
    "\n",
    "# evaluate model on test set\n",
    "# test_loss, test_acc = model.evaluate(X_test, y_test, verbose=2)\n",
    "# print('\\nTest accuracy:', test_acc)"
   ]
  },
  {
   "cell_type": "code",
   "execution_count": 384,
   "metadata": {
    "execution": {
     "iopub.execute_input": "2025-07-03T12:01:53.205375Z",
     "iopub.status.busy": "2025-07-03T12:01:53.205191Z",
     "iopub.status.idle": "2025-07-03T12:01:53.393485Z",
     "shell.execute_reply": "2025-07-03T12:01:53.392776Z",
     "shell.execute_reply.started": "2025-07-03T12:01:53.205361Z"
    },
    "trusted": true
   },
   "outputs": [
    {
     "data": {
      "image/png": "[encoded data removed]",
      "text/plain": [
       "<Figure size 640x480 with 1 Axes>"
      ]
     },
     "metadata": {},
     "output_type": "display_data"
    }
   ],
   "source": [
    "import matplotlib.pyplot as plt\n",
    "\n",
    "plt.plot(history.history['accuracy'], label='Train Accuracy')\n",
    "plt.plot(history.history['val_accuracy'], label='Val Accuracy')\n",
    "plt.plot(history.history['loss'], label='Train Loss')\n",
    "plt.plot(history.history['val_loss'], label='Val Loss')\n",
    "plt.legend()\n",
    "plt.title(\"Training vs Validation Metrics\")\n",
    "plt.show()"
   ]
  },
  {
   "cell_type": "code",
   "execution_count": 383,
   "metadata": {
    "execution": {
     "iopub.execute_input": "2025-07-03T12:01:53.153253Z",
     "iopub.status.busy": "2025-07-03T12:01:53.153013Z",
     "iopub.status.idle": "2025-07-03T12:01:53.203772Z",
     "shell.execute_reply": "2025-07-03T12:01:53.203207Z",
     "shell.execute_reply.started": "2025-07-03T12:01:53.153235Z"
    },
    "trusted": true
   },
   "outputs": [],
   "source": [
    "model.save(\"/kaggle/working/audio_cnn.h5\")"
   ]
  }
 ],
 "metadata": {
  "kaggle": {
   "accelerator": "nvidiaTeslaT4",
   "dataSources": [
    {
     "datasetId": 2286778,
     "sourceId": 3842332,
     "sourceType": "datasetVersion"
    },
    {
     "datasetId": 7789083,
     "sourceId": 12354680,
     "sourceType": "datasetVersion"
    }
   ],
   "dockerImageVersionId": 31040,
   "isGpuEnabled": true,
   "isInternetEnabled": true,
   "language": "python",
   "sourceType": "notebook"
  },
  "kernelspec": {
   "display_name": "Python 3",
   "language": "python",
   "name": "python3"
  },
  "language_info": {
   "codemirror_mode": {
    "name": "ipython",
    "version": 3
   },
   "file_extension": ".py",
   "mimetype": "text/x-python",
   "name": "python",
   "nbconvert_exporter": "python",
   "pygments_lexer": "ipython3",
   "version": "3.11.11"
  }
 },
 "nbformat": 4,
 "nbformat_minor": 4
}
