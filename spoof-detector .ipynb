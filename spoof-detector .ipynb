{
 "cells": [
  {
   "cell_type": "code",
   "execution_count": 1,
   "id": "58f6a3b9",
   "metadata": {
    "execution": {
     "iopub.execute_input": "2025-07-05T08:04:19.232263Z",
     "iopub.status.busy": "2025-07-05T08:04:19.231975Z",
     "iopub.status.idle": "2025-07-05T08:04:34.813840Z",
     "shell.execute_reply": "2025-07-05T08:04:34.813060Z"
    },
    "papermill": {
     "duration": 15.589872,
     "end_time": "2025-07-05T08:04:34.815373",
     "exception": false,
     "start_time": "2025-07-05T08:04:19.225501",
     "status": "completed"
    },
    "tags": []
   },
   "outputs": [
    {
     "name": "stderr",
     "output_type": "stream",
     "text": [
      "2025-07-05 08:04:22.099090: E external/local_xla/xla/stream_executor/cuda/cuda_fft.cc:477] Unable to register cuFFT factory: Attempting to register factory for plugin cuFFT when one has already been registered\n",
      "WARNING: All log messages before absl::InitializeLog() is called are written to STDERR\n",
      "E0000 00:00:1751702662.283265      19 cuda_dnn.cc:8310] Unable to register cuDNN factory: Attempting to register factory for plugin cuDNN when one has already been registered\n",
      "E0000 00:00:1751702662.337621      19 cuda_blas.cc:1418] Unable to register cuBLAS factory: Attempting to register factory for plugin cuBLAS when one has already been registered\n"
     ]
    }
   ],
   "source": [
    "import json\n",
    "import numpy as np\n",
    "from sklearn.model_selection import train_test_split\n",
    "import tensorflow.keras as keras\n",
    "import matplotlib.pyplot as plt\n",
    "import librosa\n",
    "import os\n",
    "import math\n",
    "import shutil\n",
    "import pandas as pd\n",
    "import random"
   ]
  },
  {
   "cell_type": "code",
   "execution_count": 2,
   "id": "2de240cb",
   "metadata": {
    "execution": {
     "iopub.execute_input": "2025-07-05T08:04:34.827410Z",
     "iopub.status.busy": "2025-07-05T08:04:34.826586Z",
     "iopub.status.idle": "2025-07-05T08:04:34.911695Z",
     "shell.execute_reply": "2025-07-05T08:04:34.910995Z"
    },
    "papermill": {
     "duration": 0.091835,
     "end_time": "2025-07-05T08:04:34.912721",
     "exception": false,
     "start_time": "2025-07-05T08:04:34.820886",
     "status": "completed"
    },
    "tags": []
   },
   "outputs": [
    {
     "name": "stdout",
     "output_type": "stream",
     "text": [
      "len Train 25380\n"
     ]
    },
    {
     "data": {
      "text/html": [
       "<div>\n",
       "<style scoped>\n",
       "    .dataframe tbody tr th:only-of-type {\n",
       "        vertical-align: middle;\n",
       "    }\n",
       "\n",
       "    .dataframe tbody tr th {\n",
       "        vertical-align: top;\n",
       "    }\n",
       "\n",
       "    .dataframe thead th {\n",
       "        text-align: right;\n",
       "    }\n",
       "</style>\n",
       "<table border=\"1\" class=\"dataframe\">\n",
       "  <thead>\n",
       "    <tr style=\"text-align: right;\">\n",
       "      <th></th>\n",
       "      <th>speaker_id</th>\n",
       "      <th>filename</th>\n",
       "      <th>system_id</th>\n",
       "      <th>class_name</th>\n",
       "      <th>filepath</th>\n",
       "      <th>target</th>\n",
       "    </tr>\n",
       "  </thead>\n",
       "  <tbody>\n",
       "    <tr>\n",
       "      <th>0</th>\n",
       "      <td>LA_0079</td>\n",
       "      <td>LA_T_1138215</td>\n",
       "      <td>-</td>\n",
       "      <td>bonafide</td>\n",
       "      <td>/kaggle/input/asvpoof-2019-dataset/LA/LA/ASVsp...</td>\n",
       "      <td>0</td>\n",
       "    </tr>\n",
       "    <tr>\n",
       "      <th>1</th>\n",
       "      <td>LA_0079</td>\n",
       "      <td>LA_T_1271820</td>\n",
       "      <td>-</td>\n",
       "      <td>bonafide</td>\n",
       "      <td>/kaggle/input/asvpoof-2019-dataset/LA/LA/ASVsp...</td>\n",
       "      <td>0</td>\n",
       "    </tr>\n",
       "    <tr>\n",
       "      <th>2</th>\n",
       "      <td>LA_0079</td>\n",
       "      <td>LA_T_1272637</td>\n",
       "      <td>-</td>\n",
       "      <td>bonafide</td>\n",
       "      <td>/kaggle/input/asvpoof-2019-dataset/LA/LA/ASVsp...</td>\n",
       "      <td>0</td>\n",
       "    </tr>\n",
       "    <tr>\n",
       "      <th>3</th>\n",
       "      <td>LA_0079</td>\n",
       "      <td>LA_T_1276960</td>\n",
       "      <td>-</td>\n",
       "      <td>bonafide</td>\n",
       "      <td>/kaggle/input/asvpoof-2019-dataset/LA/LA/ASVsp...</td>\n",
       "      <td>0</td>\n",
       "    </tr>\n",
       "    <tr>\n",
       "      <th>4</th>\n",
       "      <td>LA_0079</td>\n",
       "      <td>LA_T_1341447</td>\n",
       "      <td>-</td>\n",
       "      <td>bonafide</td>\n",
       "      <td>/kaggle/input/asvpoof-2019-dataset/LA/LA/ASVsp...</td>\n",
       "      <td>0</td>\n",
       "    </tr>\n",
       "  </tbody>\n",
       "</table>\n",
       "</div>"
      ],
      "text/plain": [
       "  speaker_id      filename system_id class_name  \\\n",
       "0    LA_0079  LA_T_1138215         -   bonafide   \n",
       "1    LA_0079  LA_T_1271820         -   bonafide   \n",
       "2    LA_0079  LA_T_1272637         -   bonafide   \n",
       "3    LA_0079  LA_T_1276960         -   bonafide   \n",
       "4    LA_0079  LA_T_1341447         -   bonafide   \n",
       "\n",
       "                                            filepath  target  \n",
       "0  /kaggle/input/asvpoof-2019-dataset/LA/LA/ASVsp...       0  \n",
       "1  /kaggle/input/asvpoof-2019-dataset/LA/LA/ASVsp...       0  \n",
       "2  /kaggle/input/asvpoof-2019-dataset/LA/LA/ASVsp...       0  \n",
       "3  /kaggle/input/asvpoof-2019-dataset/LA/LA/ASVsp...       0  \n",
       "4  /kaggle/input/asvpoof-2019-dataset/LA/LA/ASVsp...       0  "
      ]
     },
     "execution_count": 2,
     "metadata": {},
     "output_type": "execute_result"
    }
   ],
   "source": [
    "BASE_PATH = '/kaggle/input/asvpoof-2019-dataset/LA/LA'\n",
    "\n",
    "# change here\n",
    "train_df = pd.read_csv(f'{BASE_PATH}/ASVspoof2019_LA_cm_protocols/ASVspoof2019.LA.cm.train.trn.txt', sep=\" \", header=None)\n",
    "\n",
    "train_df.columns =['speaker_id','filename','system_id','null','class_name']\n",
    "train_df.drop(columns=['null'],inplace=True)\n",
    "\n",
    "#change here\n",
    "train_df['filepath'] = f'{BASE_PATH}/ASVspoof2019_LA_train/flac/'+train_df.filename+'.flac'\n",
    "\n",
    "train_df['target'] = (train_df.class_name=='spoof').astype('int32')\n",
    "print('len Train', len(train_df))\n",
    "train_df.head()"
   ]
  },
  {
   "cell_type": "code",
   "execution_count": 3,
   "id": "df0c82a8",
   "metadata": {
    "execution": {
     "iopub.execute_input": "2025-07-05T08:04:34.924004Z",
     "iopub.status.busy": "2025-07-05T08:04:34.923520Z",
     "iopub.status.idle": "2025-07-05T08:04:47.201647Z",
     "shell.execute_reply": "2025-07-05T08:04:47.200953Z"
    },
    "papermill": {
     "duration": 12.284968,
     "end_time": "2025-07-05T08:04:47.203024",
     "exception": false,
     "start_time": "2025-07-05T08:04:34.918056",
     "status": "completed"
    },
    "tags": []
   },
   "outputs": [
    {
     "name": "stdout",
     "output_type": "stream",
     "text": [
      "3.9170625\n"
     ]
    }
   ],
   "source": [
    "playpath = f'{BASE_PATH}/ASVspoof2019_LA_dev/flac/LA_D_1001095.flac'\n",
    "y, sr = librosa.load(playpath, sr=16000)\n",
    "duration = len(y) / sr\n",
    "print(duration)"
   ]
  },
  {
   "cell_type": "code",
   "execution_count": 4,
   "id": "72f85555",
   "metadata": {
    "execution": {
     "iopub.execute_input": "2025-07-05T08:04:47.215705Z",
     "iopub.status.busy": "2025-07-05T08:04:47.215229Z",
     "iopub.status.idle": "2025-07-05T08:04:47.268710Z",
     "shell.execute_reply": "2025-07-05T08:04:47.268006Z"
    },
    "papermill": {
     "duration": 0.06105,
     "end_time": "2025-07-05T08:04:47.270237",
     "exception": false,
     "start_time": "2025-07-05T08:04:47.209187",
     "status": "completed"
    },
    "tags": []
   },
   "outputs": [
    {
     "name": "stdout",
     "output_type": "stream",
     "text": [
      "len dev 24844\n"
     ]
    },
    {
     "data": {
      "text/html": [
       "<div>\n",
       "<style scoped>\n",
       "    .dataframe tbody tr th:only-of-type {\n",
       "        vertical-align: middle;\n",
       "    }\n",
       "\n",
       "    .dataframe tbody tr th {\n",
       "        vertical-align: top;\n",
       "    }\n",
       "\n",
       "    .dataframe thead th {\n",
       "        text-align: right;\n",
       "    }\n",
       "</style>\n",
       "<table border=\"1\" class=\"dataframe\">\n",
       "  <thead>\n",
       "    <tr style=\"text-align: right;\">\n",
       "      <th></th>\n",
       "      <th>speaker_id</th>\n",
       "      <th>filename</th>\n",
       "      <th>system_id</th>\n",
       "      <th>class_name</th>\n",
       "      <th>filepath</th>\n",
       "      <th>target</th>\n",
       "    </tr>\n",
       "  </thead>\n",
       "  <tbody>\n",
       "    <tr>\n",
       "      <th>0</th>\n",
       "      <td>LA_0069</td>\n",
       "      <td>LA_D_1047731</td>\n",
       "      <td>-</td>\n",
       "      <td>bonafide</td>\n",
       "      <td>/kaggle/input/asvpoof-2019-dataset/LA/LA/ASVsp...</td>\n",
       "      <td>0</td>\n",
       "    </tr>\n",
       "    <tr>\n",
       "      <th>1</th>\n",
       "      <td>LA_0069</td>\n",
       "      <td>LA_D_1105538</td>\n",
       "      <td>-</td>\n",
       "      <td>bonafide</td>\n",
       "      <td>/kaggle/input/asvpoof-2019-dataset/LA/LA/ASVsp...</td>\n",
       "      <td>0</td>\n",
       "    </tr>\n",
       "    <tr>\n",
       "      <th>2</th>\n",
       "      <td>LA_0069</td>\n",
       "      <td>LA_D_1125976</td>\n",
       "      <td>-</td>\n",
       "      <td>bonafide</td>\n",
       "      <td>/kaggle/input/asvpoof-2019-dataset/LA/LA/ASVsp...</td>\n",
       "      <td>0</td>\n",
       "    </tr>\n",
       "    <tr>\n",
       "      <th>3</th>\n",
       "      <td>LA_0069</td>\n",
       "      <td>LA_D_1293230</td>\n",
       "      <td>-</td>\n",
       "      <td>bonafide</td>\n",
       "      <td>/kaggle/input/asvpoof-2019-dataset/LA/LA/ASVsp...</td>\n",
       "      <td>0</td>\n",
       "    </tr>\n",
       "    <tr>\n",
       "      <th>4</th>\n",
       "      <td>LA_0069</td>\n",
       "      <td>LA_D_1340209</td>\n",
       "      <td>-</td>\n",
       "      <td>bonafide</td>\n",
       "      <td>/kaggle/input/asvpoof-2019-dataset/LA/LA/ASVsp...</td>\n",
       "      <td>0</td>\n",
       "    </tr>\n",
       "  </tbody>\n",
       "</table>\n",
       "</div>"
      ],
      "text/plain": [
       "  speaker_id      filename system_id class_name  \\\n",
       "0    LA_0069  LA_D_1047731         -   bonafide   \n",
       "1    LA_0069  LA_D_1105538         -   bonafide   \n",
       "2    LA_0069  LA_D_1125976         -   bonafide   \n",
       "3    LA_0069  LA_D_1293230         -   bonafide   \n",
       "4    LA_0069  LA_D_1340209         -   bonafide   \n",
       "\n",
       "                                            filepath  target  \n",
       "0  /kaggle/input/asvpoof-2019-dataset/LA/LA/ASVsp...       0  \n",
       "1  /kaggle/input/asvpoof-2019-dataset/LA/LA/ASVsp...       0  \n",
       "2  /kaggle/input/asvpoof-2019-dataset/LA/LA/ASVsp...       0  \n",
       "3  /kaggle/input/asvpoof-2019-dataset/LA/LA/ASVsp...       0  \n",
       "4  /kaggle/input/asvpoof-2019-dataset/LA/LA/ASVsp...       0  "
      ]
     },
     "execution_count": 4,
     "metadata": {},
     "output_type": "execute_result"
    }
   ],
   "source": [
    "### for creating folders for dev and eval\n",
    "# change here\n",
    "dev_df = pd.read_csv(f'{BASE_PATH}/ASVspoof2019_LA_cm_protocols/ASVspoof2019.LA.cm.dev.trl.txt', sep=\" \", header=None)\n",
    "\n",
    "dev_df.columns =['speaker_id','filename','system_id','null','class_name']\n",
    "dev_df.drop(columns=['null'],inplace=True)\n",
    "\n",
    "#change here\n",
    "dev_df['filepath'] = f'{BASE_PATH}/ASVspoof2019_LA_dev/flac/'+dev_df.filename+'.flac'\n",
    "\n",
    "dev_df['target'] = (dev_df.class_name=='spoof').astype('int32')\n",
    "print('len dev', len(dev_df))\n",
    "dev_df.head()"
   ]
  },
  {
   "cell_type": "code",
   "execution_count": 5,
   "id": "b237bbb4",
   "metadata": {
    "execution": {
     "iopub.execute_input": "2025-07-05T08:04:47.281899Z",
     "iopub.status.busy": "2025-07-05T08:04:47.281670Z",
     "iopub.status.idle": "2025-07-05T08:04:47.294364Z",
     "shell.execute_reply": "2025-07-05T08:04:47.293632Z"
    },
    "papermill": {
     "duration": 0.019884,
     "end_time": "2025-07-05T08:04:47.295525",
     "exception": false,
     "start_time": "2025-07-05T08:04:47.275641",
     "status": "completed"
    },
    "tags": []
   },
   "outputs": [],
   "source": [
    "bonafide_df = train_df[train_df[\"target\"] == 0]\n",
    "spoof_df = train_df[train_df[\"target\"] == 1].sample(n=len(bonafide_df), random_state=42)\n",
    "balanced_df = pd.concat([bonafide_df, spoof_df], ignore_index=True).sample(frac=1, random_state=42)\n",
    "len(balanced_df)\n",
    "train_df=balanced_df"
   ]
  },
  {
   "cell_type": "code",
   "execution_count": 6,
   "id": "323ead07",
   "metadata": {
    "execution": {
     "iopub.execute_input": "2025-07-05T08:04:47.307562Z",
     "iopub.status.busy": "2025-07-05T08:04:47.306762Z",
     "iopub.status.idle": "2025-07-05T08:04:47.310230Z",
     "shell.execute_reply": "2025-07-05T08:04:47.309529Z"
    },
    "papermill": {
     "duration": 0.010449,
     "end_time": "2025-07-05T08:04:47.311230",
     "exception": false,
     "start_time": "2025-07-05T08:04:47.300781",
     "status": "completed"
    },
    "tags": []
   },
   "outputs": [],
   "source": [
    "# save_mfcc(balanced_df, TRAIN_JSON_PATH, num_segments=2)"
   ]
  },
  {
   "cell_type": "code",
   "execution_count": 7,
   "id": "02007b14",
   "metadata": {
    "execution": {
     "iopub.execute_input": "2025-07-05T08:04:47.322076Z",
     "iopub.status.busy": "2025-07-05T08:04:47.321855Z",
     "iopub.status.idle": "2025-07-05T08:04:47.333445Z",
     "shell.execute_reply": "2025-07-05T08:04:47.332696Z"
    },
    "papermill": {
     "duration": 0.018134,
     "end_time": "2025-07-05T08:04:47.334504",
     "exception": false,
     "start_time": "2025-07-05T08:04:47.316370",
     "status": "completed"
    },
    "tags": []
   },
   "outputs": [],
   "source": [
    "bonafide_df = dev_df[dev_df[\"target\"] == 0]\n",
    "spoof_df = dev_df[dev_df[\"target\"] == 1].sample(n=len(bonafide_df), random_state=42)\n",
    "balanced_df = pd.concat([bonafide_df, spoof_df], ignore_index=True).sample(frac=1, random_state=42)\n",
    "len(balanced_df)\n",
    "val_df= balanced_df"
   ]
  },
  {
   "cell_type": "code",
   "execution_count": 8,
   "id": "e8615ce3",
   "metadata": {
    "execution": {
     "iopub.execute_input": "2025-07-05T08:04:47.346535Z",
     "iopub.status.busy": "2025-07-05T08:04:47.346314Z",
     "iopub.status.idle": "2025-07-05T08:04:47.349577Z",
     "shell.execute_reply": "2025-07-05T08:04:47.348882Z"
    },
    "papermill": {
     "duration": 0.010629,
     "end_time": "2025-07-05T08:04:47.350736",
     "exception": false,
     "start_time": "2025-07-05T08:04:47.340107",
     "status": "completed"
    },
    "tags": []
   },
   "outputs": [],
   "source": [
    "# save_mfcc(balanced_df, VAL_JSON_PATH, num_segments=2)"
   ]
  },
  {
   "cell_type": "markdown",
   "id": "db5bbabc",
   "metadata": {
    "papermill": {
     "duration": 0.004953,
     "end_time": "2025-07-05T08:04:47.360950",
     "exception": false,
     "start_time": "2025-07-05T08:04:47.355997",
     "status": "completed"
    },
    "tags": []
   },
   "source": [
    "### Run from here"
   ]
  },
  {
   "cell_type": "code",
   "execution_count": 9,
   "id": "a35a6fc9",
   "metadata": {
    "execution": {
     "iopub.execute_input": "2025-07-05T08:04:47.372671Z",
     "iopub.status.busy": "2025-07-05T08:04:47.372458Z",
     "iopub.status.idle": "2025-07-05T08:04:47.376246Z",
     "shell.execute_reply": "2025-07-05T08:04:47.375621Z"
    },
    "papermill": {
     "duration": 0.01085,
     "end_time": "2025-07-05T08:04:47.377333",
     "exception": false,
     "start_time": "2025-07-05T08:04:47.366483",
     "status": "completed"
    },
    "tags": []
   },
   "outputs": [],
   "source": [
    "import json\n",
    "import numpy as np\n",
    "from sklearn.model_selection import train_test_split\n",
    "import tensorflow.keras as keras\n",
    "import matplotlib.pyplot as plt\n",
    "import librosa\n",
    "import os\n",
    "import math\n",
    "import shutil\n",
    "import pandas as pd\n",
    "import random"
   ]
  },
  {
   "cell_type": "code",
   "execution_count": 10,
   "id": "e73ab140",
   "metadata": {
    "execution": {
     "iopub.execute_input": "2025-07-05T08:04:47.388879Z",
     "iopub.status.busy": "2025-07-05T08:04:47.388683Z",
     "iopub.status.idle": "2025-07-05T08:04:47.392046Z",
     "shell.execute_reply": "2025-07-05T08:04:47.391354Z"
    },
    "papermill": {
     "duration": 0.010548,
     "end_time": "2025-07-05T08:04:47.393259",
     "exception": false,
     "start_time": "2025-07-05T08:04:47.382711",
     "status": "completed"
    },
    "tags": []
   },
   "outputs": [],
   "source": [
    "SAMPLE_RATE = 16000  # Sample rate of your audio files\n",
    "DURATION = 4  # Duration of audio clips in seconds\n",
    "N_MELS = 128  # Number of Mel frequency bins"
   ]
  },
  {
   "cell_type": "code",
   "execution_count": 11,
   "id": "0558e3c2",
   "metadata": {
    "execution": {
     "iopub.execute_input": "2025-07-05T08:04:47.404986Z",
     "iopub.status.busy": "2025-07-05T08:04:47.404780Z",
     "iopub.status.idle": "2025-07-05T08:04:47.410671Z",
     "shell.execute_reply": "2025-07-05T08:04:47.410113Z"
    },
    "papermill": {
     "duration": 0.013172,
     "end_time": "2025-07-05T08:04:47.411763",
     "exception": false,
     "start_time": "2025-07-05T08:04:47.398591",
     "status": "completed"
    },
    "tags": []
   },
   "outputs": [],
   "source": [
    "import os\n",
    "import math\n",
    "import json\n",
    "import librosa\n",
    "import numpy as np\n",
    "\n",
    "max_time_steps = 109  # Define the maximum time steps for your model\n",
    "\n",
    "def save_mel(train_df):\n",
    "    X = []\n",
    "    y = []\n",
    "    for _, row in train_df.iterrows():\n",
    "        file_path = row[\"filepath\"]\n",
    "        label = int(row[\"target\"])\n",
    "\n",
    "        try:\n",
    "            # Load audio file using librosa\n",
    "            audio, _ = librosa.load(file_path, sr=SAMPLE_RATE, duration=DURATION)\n",
    "        \n",
    "            # Extract Mel spectrogram using librosa\n",
    "            mel_spectrogram = librosa.feature.melspectrogram(y=audio, sr=SAMPLE_RATE, n_mels=N_MELS)\n",
    "            mel_spectrogram = librosa.power_to_db(mel_spectrogram, ref=np.max)\n",
    "        \n",
    "            # Ensure all spectrograms have the same width (time steps)\n",
    "            if mel_spectrogram.shape[1] < max_time_steps:\n",
    "                mel_spectrogram = np.pad(mel_spectrogram, ((0, 0), (0, max_time_steps - mel_spectrogram.shape[1])), mode='constant')\n",
    "            else:\n",
    "                mel_spectrogram = mel_spectrogram[:, :max_time_steps]\n",
    "        \n",
    "            X.append(mel_spectrogram)\n",
    "            y.append(label)\n",
    "\n",
    "        except Exception as e:\n",
    "            print(f\"Error processing {file_path}: {e}\")\n",
    "\n",
    "    # Save JSON\n",
    "    # with open(json_path, \"w\") as fp:\n",
    "    #     json.dump(data, fp, indent=4)\n",
    "    return X,y\n"
   ]
  },
  {
   "cell_type": "code",
   "execution_count": 12,
   "id": "b433eb41",
   "metadata": {
    "execution": {
     "iopub.execute_input": "2025-07-05T08:04:47.423244Z",
     "iopub.status.busy": "2025-07-05T08:04:47.423008Z",
     "iopub.status.idle": "2025-07-05T08:04:47.428618Z",
     "shell.execute_reply": "2025-07-05T08:04:47.427919Z"
    },
    "papermill": {
     "duration": 0.012325,
     "end_time": "2025-07-05T08:04:47.429656",
     "exception": false,
     "start_time": "2025-07-05T08:04:47.417331",
     "status": "completed"
    },
    "tags": []
   },
   "outputs": [],
   "source": [
    "def load_data(data_path):\n",
    "    \"\"\"Loads training dataset from json file.\n",
    "\n",
    "        :param data_path (str): Path to json file containing data\n",
    "        :return X (ndarray): Inputs\n",
    "        :return y (ndarray): Targets\n",
    "    \"\"\"\n",
    "\n",
    "    with open(data_path, \"r\") as fp:\n",
    "        data = json.load(fp)\n",
    "\n",
    "    X = np.array(data[\"features\"])\n",
    "    y = np.array(data[\"labels\"])\n",
    "    print(len(X))\n",
    "    return X, y\n",
    "\n",
    "def prepare_datasets(xtrain, ytrain, test_size, validation_size):\n",
    "    \"\"\"Loads data and splits it into train, validation and test sets.\n",
    "\n",
    "    :param test_size (float): Value in [0, 1] indicating percentage of data set to allocate to test split\n",
    "    :param validation_size (float): Value in [0, 1] indicating percentage of train set to allocate to validation split\n",
    "\n",
    "    :return X_train (ndarray): Input training set\n",
    "    :return X_validation (ndarray): Input validation set\n",
    "    :return X_test (ndarray): Input test set\n",
    "    :return y_train (ndarray): Target training set\n",
    "    :return y_validation (ndarray): Target validation set\n",
    "    :return y_test (ndarray): Target test set\n",
    "    \"\"\"\n",
    "\n",
    "    # create train, validation and test split\n",
    "    X_train, X_test, y_train, y_test = train_test_split(xtrain, ytrain, test_size=test_size)\n",
    "    X_train, X_validation, y_train, y_validation = train_test_split(X_train, y_train, test_size=validation_size)\n",
    "    print(len(xtrain))\n",
    "    print(len(X_train))\n",
    "    print(len(X_test))\n",
    "    print(len(X_validation))\n",
    "    return X_train, X_validation, X_test, y_train, y_validation, y_test\n"
   ]
  },
  {
   "cell_type": "code",
   "execution_count": 13,
   "id": "525290f1",
   "metadata": {
    "execution": {
     "iopub.execute_input": "2025-07-05T08:04:47.441152Z",
     "iopub.status.busy": "2025-07-05T08:04:47.440901Z",
     "iopub.status.idle": "2025-07-05T08:04:47.444308Z",
     "shell.execute_reply": "2025-07-05T08:04:47.443507Z"
    },
    "papermill": {
     "duration": 0.010465,
     "end_time": "2025-07-05T08:04:47.445516",
     "exception": false,
     "start_time": "2025-07-05T08:04:47.435051",
     "status": "completed"
    },
    "tags": []
   },
   "outputs": [],
   "source": [
    "TRN_PATH = '/kaggle/input/asvspoof2019-mfcc-ms-zcr/data_train (2).json'\n",
    "V_PATH = '/kaggle/input/asvspoof2019-mfcc-ms-zcr/data_val (2).json'"
   ]
  },
  {
   "cell_type": "code",
   "execution_count": 14,
   "id": "8cd332ac",
   "metadata": {
    "execution": {
     "iopub.execute_input": "2025-07-05T08:04:47.456970Z",
     "iopub.status.busy": "2025-07-05T08:04:47.456745Z",
     "iopub.status.idle": "2025-07-05T08:08:04.877371Z",
     "shell.execute_reply": "2025-07-05T08:08:04.876705Z"
    },
    "papermill": {
     "duration": 197.428008,
     "end_time": "2025-07-05T08:08:04.878835",
     "exception": false,
     "start_time": "2025-07-05T08:04:47.450827",
     "status": "completed"
    },
    "tags": []
   },
   "outputs": [],
   "source": [
    "x_t, y_t = save_mel(train_df)\n",
    "x_v, y_v = save_mel(val_df)"
   ]
  },
  {
   "cell_type": "code",
   "execution_count": 15,
   "id": "61053f93",
   "metadata": {
    "execution": {
     "iopub.execute_input": "2025-07-05T08:08:04.891447Z",
     "iopub.status.busy": "2025-07-05T08:08:04.890927Z",
     "iopub.status.idle": "2025-07-05T08:08:04.894015Z",
     "shell.execute_reply": "2025-07-05T08:08:04.893518Z"
    },
    "papermill": {
     "duration": 0.010127,
     "end_time": "2025-07-05T08:08:04.894964",
     "exception": false,
     "start_time": "2025-07-05T08:08:04.884837",
     "status": "completed"
    },
    "tags": []
   },
   "outputs": [],
   "source": [
    "# import json\n",
    "# x_t = np.array(x_t)\n",
    "# y_t = np.array(y_t)\n",
    "# # Convert to standard Python types\n",
    "# data = {\n",
    "#     \"feature\": x_t.tolist(),\n",
    "#     \"label\": y_t.tolist()\n",
    "# }\n",
    "\n",
    "# # Save to a JSON file\n",
    "# with open(\"x_y_train.json\", \"w\") as f:\n",
    "#     json.dump(data, f)"
   ]
  },
  {
   "cell_type": "code",
   "execution_count": 16,
   "id": "5bdbf8b7",
   "metadata": {
    "execution": {
     "iopub.execute_input": "2025-07-05T08:08:04.906439Z",
     "iopub.status.busy": "2025-07-05T08:08:04.905956Z",
     "iopub.status.idle": "2025-07-05T08:08:04.908939Z",
     "shell.execute_reply": "2025-07-05T08:08:04.908436Z"
    },
    "papermill": {
     "duration": 0.009652,
     "end_time": "2025-07-05T08:08:04.909868",
     "exception": false,
     "start_time": "2025-07-05T08:08:04.900216",
     "status": "completed"
    },
    "tags": []
   },
   "outputs": [],
   "source": [
    "# x_v = np.array(x_v)\n",
    "# y_v = np.array(y_v)\n",
    "# # Convert to standard Python types\n",
    "# data = {\n",
    "#     \"feature\": x_v.tolist(),\n",
    "#     \"label\": y_v.tolist()\n",
    "# }\n",
    "\n",
    "# # Save to a JSON file\n",
    "# with open(\"x_y_val.json\", \"w\") as f:\n",
    "#     json.dump(data, f)"
   ]
  },
  {
   "cell_type": "code",
   "execution_count": 17,
   "id": "abc398b0",
   "metadata": {
    "execution": {
     "iopub.execute_input": "2025-07-05T08:08:04.921025Z",
     "iopub.status.busy": "2025-07-05T08:08:04.920848Z",
     "iopub.status.idle": "2025-07-05T08:08:04.923642Z",
     "shell.execute_reply": "2025-07-05T08:08:04.923154Z"
    },
    "papermill": {
     "duration": 0.0096,
     "end_time": "2025-07-05T08:08:04.924674",
     "exception": false,
     "start_time": "2025-07-05T08:08:04.915074",
     "status": "completed"
    },
    "tags": []
   },
   "outputs": [],
   "source": [
    "# x_t, y_t = load_data(TRN_PATH)\n",
    "# x_v, y_v = load_data(V_PATH)\n",
    "# X_train = np.concatenate((x_t, x_v), axis=0)\n",
    "# y_train = np.concatenate((y_t, y_v), axis=0)\n"
   ]
  },
  {
   "cell_type": "code",
   "execution_count": 18,
   "id": "0f51f007",
   "metadata": {
    "execution": {
     "iopub.execute_input": "2025-07-05T08:08:04.935817Z",
     "iopub.status.busy": "2025-07-05T08:08:04.935445Z",
     "iopub.status.idle": "2025-07-05T08:08:05.205977Z",
     "shell.execute_reply": "2025-07-05T08:08:05.205105Z"
    },
    "papermill": {
     "duration": 0.277516,
     "end_time": "2025-07-05T08:08:05.207252",
     "exception": false,
     "start_time": "2025-07-05T08:08:04.929736",
     "status": "completed"
    },
    "tags": []
   },
   "outputs": [
    {
     "name": "stdout",
     "output_type": "stream",
     "text": [
      "5160\n",
      "3567\n"
     ]
    }
   ],
   "source": [
    "# get train, validation, test splits\n",
    "\n",
    "X_train = np.array(x_t)\n",
    "y_train = np.array(y_t)\n",
    "X_validation = np.array(x_v)\n",
    "y_validation = np.array(y_v)\n",
    "X_validation, X_test, y_validation, y_test = train_test_split(X_validation, y_validation, test_size=0.3, random_state=7)\n",
    "\n",
    "# X_train, X_validation, y_train, y_validation = train_test_split(X_train, y_train, test_size=0.2, random_state=7)\n",
    "print(len(X_train))\n",
    "print(len(X_validation))"
   ]
  },
  {
   "cell_type": "code",
   "execution_count": 19,
   "id": "34d47af4",
   "metadata": {
    "execution": {
     "iopub.execute_input": "2025-07-05T08:08:05.219800Z",
     "iopub.status.busy": "2025-07-05T08:08:05.219182Z",
     "iopub.status.idle": "2025-07-05T08:08:05.222549Z",
     "shell.execute_reply": "2025-07-05T08:08:05.221876Z"
    },
    "papermill": {
     "duration": 0.010422,
     "end_time": "2025-07-05T08:08:05.223648",
     "exception": false,
     "start_time": "2025-07-05T08:08:05.213226",
     "status": "completed"
    },
    "tags": []
   },
   "outputs": [],
   "source": [
    "# X_train, X_validation, X_test, y_train, y_validation, y_test = prepare_datasets(X_train, y_train, 0.2, 0.2)"
   ]
  },
  {
   "cell_type": "code",
   "execution_count": 20,
   "id": "95b297e1",
   "metadata": {
    "execution": {
     "iopub.execute_input": "2025-07-05T08:08:05.234922Z",
     "iopub.status.busy": "2025-07-05T08:08:05.234531Z",
     "iopub.status.idle": "2025-07-05T08:08:05.238913Z",
     "shell.execute_reply": "2025-07-05T08:08:05.238254Z"
    },
    "papermill": {
     "duration": 0.011097,
     "end_time": "2025-07-05T08:08:05.239931",
     "exception": false,
     "start_time": "2025-07-05T08:08:05.228834",
     "status": "completed"
    },
    "tags": []
   },
   "outputs": [
    {
     "data": {
      "text/plain": [
       "(5160, 128, 109)"
      ]
     },
     "execution_count": 20,
     "metadata": {},
     "output_type": "execute_result"
    }
   ],
   "source": [
    "X_train.shape"
   ]
  },
  {
   "cell_type": "code",
   "execution_count": 21,
   "id": "b9e28665",
   "metadata": {
    "execution": {
     "iopub.execute_input": "2025-07-05T08:08:05.251329Z",
     "iopub.status.busy": "2025-07-05T08:08:05.251105Z",
     "iopub.status.idle": "2025-07-05T08:08:05.260664Z",
     "shell.execute_reply": "2025-07-05T08:08:05.260168Z"
    },
    "papermill": {
     "duration": 0.01659,
     "end_time": "2025-07-05T08:08:05.261697",
     "exception": false,
     "start_time": "2025-07-05T08:08:05.245107",
     "status": "completed"
    },
    "tags": []
   },
   "outputs": [],
   "source": [
    "from tensorflow import keras\n",
    "from tensorflow.keras import layers, regularizers\n",
    "from tensorflow.keras.layers import LSTM\n",
    "\n",
    "def build_CNN_LSTM_model(input_shape):\n",
    "    model = keras.Sequential()\n",
    "\n",
    "    # Conv Block 1\n",
    "    model.add(layers.Conv2D(32, (3, 3), activation='relu', padding='same',\n",
    "                            input_shape=input_shape,\n",
    "                            kernel_regularizer=regularizers.l2(1e-4)))\n",
    "    model.add(layers.BatchNormalization())\n",
    "    model.add(layers.MaxPooling2D((2, 2), padding='same'))\n",
    "    model.add(layers.Dropout(0.05))\n",
    "\n",
    "    # Conv Block 2\n",
    "    model.add(layers.Conv2D(64, (3, 3), activation='relu', padding='same',\n",
    "                            kernel_regularizer=regularizers.l2(1e-3)))\n",
    "    model.add(layers.BatchNormalization())\n",
    "    model.add(layers.MaxPooling2D((2, 2), padding='same'))\n",
    "    model.add(layers.Dropout(0.1))\n",
    "\n",
    "    # Reshape for LSTM: (batch, time, features)\n",
    "    model.add(layers.Permute((2, 1, 3)))  # (batch, freq, time, channels)\n",
    "    model.add(layers.Reshape((-1, 64)))  # (batch, time, features)\n",
    "\n",
    "    # LSTM Layer\n",
    "    model.add(layers.Bidirectional(LSTM(64, return_sequences=False)))\n",
    "    model.add(layers.Dropout(0.3))\n",
    "\n",
    "    # Dense Layer\n",
    "    model.add(layers.Dense(128, activation='relu',\n",
    "                           kernel_regularizer=regularizers.l2(1e-3)))\n",
    "    model.add(layers.Dropout(0.3))\n",
    "\n",
    "    # Output Layer\n",
    "    model.add(layers.Dense(1, activation='sigmoid'))\n",
    "\n",
    "    return model\n"
   ]
  },
  {
   "cell_type": "code",
   "execution_count": 22,
   "id": "c56495de",
   "metadata": {
    "execution": {
     "iopub.execute_input": "2025-07-05T08:08:05.273605Z",
     "iopub.status.busy": "2025-07-05T08:08:05.273046Z",
     "iopub.status.idle": "2025-07-05T08:17:25.565344Z",
     "shell.execute_reply": "2025-07-05T08:17:25.564737Z"
    },
    "papermill": {
     "duration": 560.299462,
     "end_time": "2025-07-05T08:17:25.566630",
     "exception": false,
     "start_time": "2025-07-05T08:08:05.267168",
     "status": "completed"
    },
    "tags": []
   },
   "outputs": [
    {
     "name": "stderr",
     "output_type": "stream",
     "text": [
      "/usr/local/lib/python3.11/dist-packages/keras/src/layers/convolutional/base_conv.py:107: UserWarning: Do not pass an `input_shape`/`input_dim` argument to a layer. When using Sequential models, prefer using an `Input(shape)` object as the first layer in the model instead.\n",
      "  super().__init__(activity_regularizer=activity_regularizer, **kwargs)\n",
      "I0000 00:00:1751702886.493528      19 gpu_device.cc:2022] Created device /job:localhost/replica:0/task:0/device:GPU:0 with 15513 MB memory:  -> device: 0, name: Tesla P100-PCIE-16GB, pci bus id: 0000:00:04.0, compute capability: 6.0\n"
     ]
    },
    {
     "data": {
      "text/html": [
       "<pre style=\"white-space:pre;overflow-x:auto;line-height:normal;font-family:Menlo,'DejaVu Sans Mono',consolas,'Courier New',monospace\"><span style=\"font-weight: bold\">Model: \"sequential\"</span>\n",
       "</pre>\n"
      ],
      "text/plain": [
       "\u001b[1mModel: \"sequential\"\u001b[0m\n"
      ]
     },
     "metadata": {},
     "output_type": "display_data"
    },
    {
     "data": {
      "text/html": [
       "<pre style=\"white-space:pre;overflow-x:auto;line-height:normal;font-family:Menlo,'DejaVu Sans Mono',consolas,'Courier New',monospace\">┏━━━━━━━━━━━━━━━━━━━━━━━━━━━━━━━━━━━━━━┳━━━━━━━━━━━━━━━━━━━━━━━━━━━━━┳━━━━━━━━━━━━━━━━━┓\n",
       "┃<span style=\"font-weight: bold\"> Layer (type)                         </span>┃<span style=\"font-weight: bold\"> Output Shape                </span>┃<span style=\"font-weight: bold\">         Param # </span>┃\n",
       "┡━━━━━━━━━━━━━━━━━━━━━━━━━━━━━━━━━━━━━━╇━━━━━━━━━━━━━━━━━━━━━━━━━━━━━╇━━━━━━━━━━━━━━━━━┩\n",
       "│ conv2d (<span style=\"color: #0087ff; text-decoration-color: #0087ff\">Conv2D</span>)                      │ (<span style=\"color: #00d7ff; text-decoration-color: #00d7ff\">None</span>, <span style=\"color: #00af00; text-decoration-color: #00af00\">128</span>, <span style=\"color: #00af00; text-decoration-color: #00af00\">109</span>, <span style=\"color: #00af00; text-decoration-color: #00af00\">32</span>)        │             <span style=\"color: #00af00; text-decoration-color: #00af00\">320</span> │\n",
       "├──────────────────────────────────────┼─────────────────────────────┼─────────────────┤\n",
       "│ batch_normalization                  │ (<span style=\"color: #00d7ff; text-decoration-color: #00d7ff\">None</span>, <span style=\"color: #00af00; text-decoration-color: #00af00\">128</span>, <span style=\"color: #00af00; text-decoration-color: #00af00\">109</span>, <span style=\"color: #00af00; text-decoration-color: #00af00\">32</span>)        │             <span style=\"color: #00af00; text-decoration-color: #00af00\">128</span> │\n",
       "│ (<span style=\"color: #0087ff; text-decoration-color: #0087ff\">BatchNormalization</span>)                 │                             │                 │\n",
       "├──────────────────────────────────────┼─────────────────────────────┼─────────────────┤\n",
       "│ max_pooling2d (<span style=\"color: #0087ff; text-decoration-color: #0087ff\">MaxPooling2D</span>)         │ (<span style=\"color: #00d7ff; text-decoration-color: #00d7ff\">None</span>, <span style=\"color: #00af00; text-decoration-color: #00af00\">64</span>, <span style=\"color: #00af00; text-decoration-color: #00af00\">55</span>, <span style=\"color: #00af00; text-decoration-color: #00af00\">32</span>)          │               <span style=\"color: #00af00; text-decoration-color: #00af00\">0</span> │\n",
       "├──────────────────────────────────────┼─────────────────────────────┼─────────────────┤\n",
       "│ dropout (<span style=\"color: #0087ff; text-decoration-color: #0087ff\">Dropout</span>)                    │ (<span style=\"color: #00d7ff; text-decoration-color: #00d7ff\">None</span>, <span style=\"color: #00af00; text-decoration-color: #00af00\">64</span>, <span style=\"color: #00af00; text-decoration-color: #00af00\">55</span>, <span style=\"color: #00af00; text-decoration-color: #00af00\">32</span>)          │               <span style=\"color: #00af00; text-decoration-color: #00af00\">0</span> │\n",
       "├──────────────────────────────────────┼─────────────────────────────┼─────────────────┤\n",
       "│ conv2d_1 (<span style=\"color: #0087ff; text-decoration-color: #0087ff\">Conv2D</span>)                    │ (<span style=\"color: #00d7ff; text-decoration-color: #00d7ff\">None</span>, <span style=\"color: #00af00; text-decoration-color: #00af00\">64</span>, <span style=\"color: #00af00; text-decoration-color: #00af00\">55</span>, <span style=\"color: #00af00; text-decoration-color: #00af00\">64</span>)          │          <span style=\"color: #00af00; text-decoration-color: #00af00\">18,496</span> │\n",
       "├──────────────────────────────────────┼─────────────────────────────┼─────────────────┤\n",
       "│ batch_normalization_1                │ (<span style=\"color: #00d7ff; text-decoration-color: #00d7ff\">None</span>, <span style=\"color: #00af00; text-decoration-color: #00af00\">64</span>, <span style=\"color: #00af00; text-decoration-color: #00af00\">55</span>, <span style=\"color: #00af00; text-decoration-color: #00af00\">64</span>)          │             <span style=\"color: #00af00; text-decoration-color: #00af00\">256</span> │\n",
       "│ (<span style=\"color: #0087ff; text-decoration-color: #0087ff\">BatchNormalization</span>)                 │                             │                 │\n",
       "├──────────────────────────────────────┼─────────────────────────────┼─────────────────┤\n",
       "│ max_pooling2d_1 (<span style=\"color: #0087ff; text-decoration-color: #0087ff\">MaxPooling2D</span>)       │ (<span style=\"color: #00d7ff; text-decoration-color: #00d7ff\">None</span>, <span style=\"color: #00af00; text-decoration-color: #00af00\">32</span>, <span style=\"color: #00af00; text-decoration-color: #00af00\">28</span>, <span style=\"color: #00af00; text-decoration-color: #00af00\">64</span>)          │               <span style=\"color: #00af00; text-decoration-color: #00af00\">0</span> │\n",
       "├──────────────────────────────────────┼─────────────────────────────┼─────────────────┤\n",
       "│ dropout_1 (<span style=\"color: #0087ff; text-decoration-color: #0087ff\">Dropout</span>)                  │ (<span style=\"color: #00d7ff; text-decoration-color: #00d7ff\">None</span>, <span style=\"color: #00af00; text-decoration-color: #00af00\">32</span>, <span style=\"color: #00af00; text-decoration-color: #00af00\">28</span>, <span style=\"color: #00af00; text-decoration-color: #00af00\">64</span>)          │               <span style=\"color: #00af00; text-decoration-color: #00af00\">0</span> │\n",
       "├──────────────────────────────────────┼─────────────────────────────┼─────────────────┤\n",
       "│ permute (<span style=\"color: #0087ff; text-decoration-color: #0087ff\">Permute</span>)                    │ (<span style=\"color: #00d7ff; text-decoration-color: #00d7ff\">None</span>, <span style=\"color: #00af00; text-decoration-color: #00af00\">28</span>, <span style=\"color: #00af00; text-decoration-color: #00af00\">32</span>, <span style=\"color: #00af00; text-decoration-color: #00af00\">64</span>)          │               <span style=\"color: #00af00; text-decoration-color: #00af00\">0</span> │\n",
       "├──────────────────────────────────────┼─────────────────────────────┼─────────────────┤\n",
       "│ reshape (<span style=\"color: #0087ff; text-decoration-color: #0087ff\">Reshape</span>)                    │ (<span style=\"color: #00d7ff; text-decoration-color: #00d7ff\">None</span>, <span style=\"color: #00af00; text-decoration-color: #00af00\">896</span>, <span style=\"color: #00af00; text-decoration-color: #00af00\">64</span>)             │               <span style=\"color: #00af00; text-decoration-color: #00af00\">0</span> │\n",
       "├──────────────────────────────────────┼─────────────────────────────┼─────────────────┤\n",
       "│ bidirectional (<span style=\"color: #0087ff; text-decoration-color: #0087ff\">Bidirectional</span>)        │ (<span style=\"color: #00d7ff; text-decoration-color: #00d7ff\">None</span>, <span style=\"color: #00af00; text-decoration-color: #00af00\">128</span>)                 │          <span style=\"color: #00af00; text-decoration-color: #00af00\">66,048</span> │\n",
       "├──────────────────────────────────────┼─────────────────────────────┼─────────────────┤\n",
       "│ dropout_2 (<span style=\"color: #0087ff; text-decoration-color: #0087ff\">Dropout</span>)                  │ (<span style=\"color: #00d7ff; text-decoration-color: #00d7ff\">None</span>, <span style=\"color: #00af00; text-decoration-color: #00af00\">128</span>)                 │               <span style=\"color: #00af00; text-decoration-color: #00af00\">0</span> │\n",
       "├──────────────────────────────────────┼─────────────────────────────┼─────────────────┤\n",
       "│ dense (<span style=\"color: #0087ff; text-decoration-color: #0087ff\">Dense</span>)                        │ (<span style=\"color: #00d7ff; text-decoration-color: #00d7ff\">None</span>, <span style=\"color: #00af00; text-decoration-color: #00af00\">128</span>)                 │          <span style=\"color: #00af00; text-decoration-color: #00af00\">16,512</span> │\n",
       "├──────────────────────────────────────┼─────────────────────────────┼─────────────────┤\n",
       "│ dropout_3 (<span style=\"color: #0087ff; text-decoration-color: #0087ff\">Dropout</span>)                  │ (<span style=\"color: #00d7ff; text-decoration-color: #00d7ff\">None</span>, <span style=\"color: #00af00; text-decoration-color: #00af00\">128</span>)                 │               <span style=\"color: #00af00; text-decoration-color: #00af00\">0</span> │\n",
       "├──────────────────────────────────────┼─────────────────────────────┼─────────────────┤\n",
       "│ dense_1 (<span style=\"color: #0087ff; text-decoration-color: #0087ff\">Dense</span>)                      │ (<span style=\"color: #00d7ff; text-decoration-color: #00d7ff\">None</span>, <span style=\"color: #00af00; text-decoration-color: #00af00\">1</span>)                   │             <span style=\"color: #00af00; text-decoration-color: #00af00\">129</span> │\n",
       "└──────────────────────────────────────┴─────────────────────────────┴─────────────────┘\n",
       "</pre>\n"
      ],
      "text/plain": [
       "┏━━━━━━━━━━━━━━━━━━━━━━━━━━━━━━━━━━━━━━┳━━━━━━━━━━━━━━━━━━━━━━━━━━━━━┳━━━━━━━━━━━━━━━━━┓\n",
       "┃\u001b[1m \u001b[0m\u001b[1mLayer (type)                        \u001b[0m\u001b[1m \u001b[0m┃\u001b[1m \u001b[0m\u001b[1mOutput Shape               \u001b[0m\u001b[1m \u001b[0m┃\u001b[1m \u001b[0m\u001b[1m        Param #\u001b[0m\u001b[1m \u001b[0m┃\n",
       "┡━━━━━━━━━━━━━━━━━━━━━━━━━━━━━━━━━━━━━━╇━━━━━━━━━━━━━━━━━━━━━━━━━━━━━╇━━━━━━━━━━━━━━━━━┩\n",
       "│ conv2d (\u001b[38;5;33mConv2D\u001b[0m)                      │ (\u001b[38;5;45mNone\u001b[0m, \u001b[38;5;34m128\u001b[0m, \u001b[38;5;34m109\u001b[0m, \u001b[38;5;34m32\u001b[0m)        │             \u001b[38;5;34m320\u001b[0m │\n",
       "├──────────────────────────────────────┼─────────────────────────────┼─────────────────┤\n",
       "│ batch_normalization                  │ (\u001b[38;5;45mNone\u001b[0m, \u001b[38;5;34m128\u001b[0m, \u001b[38;5;34m109\u001b[0m, \u001b[38;5;34m32\u001b[0m)        │             \u001b[38;5;34m128\u001b[0m │\n",
       "│ (\u001b[38;5;33mBatchNormalization\u001b[0m)                 │                             │                 │\n",
       "├──────────────────────────────────────┼─────────────────────────────┼─────────────────┤\n",
       "│ max_pooling2d (\u001b[38;5;33mMaxPooling2D\u001b[0m)         │ (\u001b[38;5;45mNone\u001b[0m, \u001b[38;5;34m64\u001b[0m, \u001b[38;5;34m55\u001b[0m, \u001b[38;5;34m32\u001b[0m)          │               \u001b[38;5;34m0\u001b[0m │\n",
       "├──────────────────────────────────────┼─────────────────────────────┼─────────────────┤\n",
       "│ dropout (\u001b[38;5;33mDropout\u001b[0m)                    │ (\u001b[38;5;45mNone\u001b[0m, \u001b[38;5;34m64\u001b[0m, \u001b[38;5;34m55\u001b[0m, \u001b[38;5;34m32\u001b[0m)          │               \u001b[38;5;34m0\u001b[0m │\n",
       "├──────────────────────────────────────┼─────────────────────────────┼─────────────────┤\n",
       "│ conv2d_1 (\u001b[38;5;33mConv2D\u001b[0m)                    │ (\u001b[38;5;45mNone\u001b[0m, \u001b[38;5;34m64\u001b[0m, \u001b[38;5;34m55\u001b[0m, \u001b[38;5;34m64\u001b[0m)          │          \u001b[38;5;34m18,496\u001b[0m │\n",
       "├──────────────────────────────────────┼─────────────────────────────┼─────────────────┤\n",
       "│ batch_normalization_1                │ (\u001b[38;5;45mNone\u001b[0m, \u001b[38;5;34m64\u001b[0m, \u001b[38;5;34m55\u001b[0m, \u001b[38;5;34m64\u001b[0m)          │             \u001b[38;5;34m256\u001b[0m │\n",
       "│ (\u001b[38;5;33mBatchNormalization\u001b[0m)                 │                             │                 │\n",
       "├──────────────────────────────────────┼─────────────────────────────┼─────────────────┤\n",
       "│ max_pooling2d_1 (\u001b[38;5;33mMaxPooling2D\u001b[0m)       │ (\u001b[38;5;45mNone\u001b[0m, \u001b[38;5;34m32\u001b[0m, \u001b[38;5;34m28\u001b[0m, \u001b[38;5;34m64\u001b[0m)          │               \u001b[38;5;34m0\u001b[0m │\n",
       "├──────────────────────────────────────┼─────────────────────────────┼─────────────────┤\n",
       "│ dropout_1 (\u001b[38;5;33mDropout\u001b[0m)                  │ (\u001b[38;5;45mNone\u001b[0m, \u001b[38;5;34m32\u001b[0m, \u001b[38;5;34m28\u001b[0m, \u001b[38;5;34m64\u001b[0m)          │               \u001b[38;5;34m0\u001b[0m │\n",
       "├──────────────────────────────────────┼─────────────────────────────┼─────────────────┤\n",
       "│ permute (\u001b[38;5;33mPermute\u001b[0m)                    │ (\u001b[38;5;45mNone\u001b[0m, \u001b[38;5;34m28\u001b[0m, \u001b[38;5;34m32\u001b[0m, \u001b[38;5;34m64\u001b[0m)          │               \u001b[38;5;34m0\u001b[0m │\n",
       "├──────────────────────────────────────┼─────────────────────────────┼─────────────────┤\n",
       "│ reshape (\u001b[38;5;33mReshape\u001b[0m)                    │ (\u001b[38;5;45mNone\u001b[0m, \u001b[38;5;34m896\u001b[0m, \u001b[38;5;34m64\u001b[0m)             │               \u001b[38;5;34m0\u001b[0m │\n",
       "├──────────────────────────────────────┼─────────────────────────────┼─────────────────┤\n",
       "│ bidirectional (\u001b[38;5;33mBidirectional\u001b[0m)        │ (\u001b[38;5;45mNone\u001b[0m, \u001b[38;5;34m128\u001b[0m)                 │          \u001b[38;5;34m66,048\u001b[0m │\n",
       "├──────────────────────────────────────┼─────────────────────────────┼─────────────────┤\n",
       "│ dropout_2 (\u001b[38;5;33mDropout\u001b[0m)                  │ (\u001b[38;5;45mNone\u001b[0m, \u001b[38;5;34m128\u001b[0m)                 │               \u001b[38;5;34m0\u001b[0m │\n",
       "├──────────────────────────────────────┼─────────────────────────────┼─────────────────┤\n",
       "│ dense (\u001b[38;5;33mDense\u001b[0m)                        │ (\u001b[38;5;45mNone\u001b[0m, \u001b[38;5;34m128\u001b[0m)                 │          \u001b[38;5;34m16,512\u001b[0m │\n",
       "├──────────────────────────────────────┼─────────────────────────────┼─────────────────┤\n",
       "│ dropout_3 (\u001b[38;5;33mDropout\u001b[0m)                  │ (\u001b[38;5;45mNone\u001b[0m, \u001b[38;5;34m128\u001b[0m)                 │               \u001b[38;5;34m0\u001b[0m │\n",
       "├──────────────────────────────────────┼─────────────────────────────┼─────────────────┤\n",
       "│ dense_1 (\u001b[38;5;33mDense\u001b[0m)                      │ (\u001b[38;5;45mNone\u001b[0m, \u001b[38;5;34m1\u001b[0m)                   │             \u001b[38;5;34m129\u001b[0m │\n",
       "└──────────────────────────────────────┴─────────────────────────────┴─────────────────┘\n"
      ]
     },
     "metadata": {},
     "output_type": "display_data"
    },
    {
     "data": {
      "text/html": [
       "<pre style=\"white-space:pre;overflow-x:auto;line-height:normal;font-family:Menlo,'DejaVu Sans Mono',consolas,'Courier New',monospace\"><span style=\"font-weight: bold\"> Total params: </span><span style=\"color: #00af00; text-decoration-color: #00af00\">101,889</span> (398.00 KB)\n",
       "</pre>\n"
      ],
      "text/plain": [
       "\u001b[1m Total params: \u001b[0m\u001b[38;5;34m101,889\u001b[0m (398.00 KB)\n"
      ]
     },
     "metadata": {},
     "output_type": "display_data"
    },
    {
     "data": {
      "text/html": [
       "<pre style=\"white-space:pre;overflow-x:auto;line-height:normal;font-family:Menlo,'DejaVu Sans Mono',consolas,'Courier New',monospace\"><span style=\"font-weight: bold\"> Trainable params: </span><span style=\"color: #00af00; text-decoration-color: #00af00\">101,697</span> (397.25 KB)\n",
       "</pre>\n"
      ],
      "text/plain": [
       "\u001b[1m Trainable params: \u001b[0m\u001b[38;5;34m101,697\u001b[0m (397.25 KB)\n"
      ]
     },
     "metadata": {},
     "output_type": "display_data"
    },
    {
     "data": {
      "text/html": [
       "<pre style=\"white-space:pre;overflow-x:auto;line-height:normal;font-family:Menlo,'DejaVu Sans Mono',consolas,'Courier New',monospace\"><span style=\"font-weight: bold\"> Non-trainable params: </span><span style=\"color: #00af00; text-decoration-color: #00af00\">192</span> (768.00 B)\n",
       "</pre>\n"
      ],
      "text/plain": [
       "\u001b[1m Non-trainable params: \u001b[0m\u001b[38;5;34m192\u001b[0m (768.00 B)\n"
      ]
     },
     "metadata": {},
     "output_type": "display_data"
    },
    {
     "name": "stdout",
     "output_type": "stream",
     "text": [
      "Epoch 1/30\n"
     ]
    },
    {
     "name": "stderr",
     "output_type": "stream",
     "text": [
      "E0000 00:00:1751702894.471057      19 meta_optimizer.cc:966] layout failed: INVALID_ARGUMENT: Size of values 0 does not match size of permutation 4 @ fanin shape inStatefulPartitionedCall/sequential_1/dropout_1/stateless_dropout/SelectV2-2-TransposeNHWCToNCHW-LayoutOptimizer\n",
      "I0000 00:00:1751702895.239426      70 cuda_dnn.cc:529] Loaded cuDNN version 90300\n"
     ]
    },
    {
     "name": "stdout",
     "output_type": "stream",
     "text": [
      "\u001b[1m162/162\u001b[0m \u001b[32m━━━━━━━━━━━━━━━━━━━━\u001b[0m\u001b[37m\u001b[0m \u001b[1m29s\u001b[0m 120ms/step - accuracy: 0.6814 - loss: 0.7636 - recall: 0.6385 - val_accuracy: 0.7227 - val_loss: 0.6267 - val_recall: 0.8595\n",
      "Epoch 2/30\n",
      "\u001b[1m162/162\u001b[0m \u001b[32m━━━━━━━━━━━━━━━━━━━━\u001b[0m\u001b[37m\u001b[0m \u001b[1m18s\u001b[0m 112ms/step - accuracy: 0.8328 - loss: 0.5317 - recall: 0.7723 - val_accuracy: 0.8677 - val_loss: 0.4751 - val_recall: 0.8118\n",
      "Epoch 3/30\n",
      "\u001b[1m162/162\u001b[0m \u001b[32m━━━━━━━━━━━━━━━━━━━━\u001b[0m\u001b[37m\u001b[0m \u001b[1m18s\u001b[0m 112ms/step - accuracy: 0.8735 - loss: 0.4401 - recall: 0.8125 - val_accuracy: 0.9027 - val_loss: 0.3734 - val_recall: 0.8301\n",
      "Epoch 4/30\n",
      "\u001b[1m162/162\u001b[0m \u001b[32m━━━━━━━━━━━━━━━━━━━━\u001b[0m\u001b[37m\u001b[0m \u001b[1m18s\u001b[0m 112ms/step - accuracy: 0.8824 - loss: 0.4015 - recall: 0.8325 - val_accuracy: 0.9209 - val_loss: 0.3487 - val_recall: 0.8606\n",
      "Epoch 5/30\n",
      "\u001b[1m162/162\u001b[0m \u001b[32m━━━━━━━━━━━━━━━━━━━━\u001b[0m\u001b[37m\u001b[0m \u001b[1m18s\u001b[0m 112ms/step - accuracy: 0.8908 - loss: 0.3884 - recall: 0.8473 - val_accuracy: 0.9246 - val_loss: 0.3014 - val_recall: 0.8790\n",
      "Epoch 6/30\n",
      "\u001b[1m162/162\u001b[0m \u001b[32m━━━━━━━━━━━━━━━━━━━━\u001b[0m\u001b[37m\u001b[0m \u001b[1m18s\u001b[0m 111ms/step - accuracy: 0.9066 - loss: 0.3385 - recall: 0.8724 - val_accuracy: 0.9187 - val_loss: 0.3065 - val_recall: 0.8490\n",
      "Epoch 7/30\n",
      "\u001b[1m162/162\u001b[0m \u001b[32m━━━━━━━━━━━━━━━━━━━━\u001b[0m\u001b[37m\u001b[0m \u001b[1m18s\u001b[0m 112ms/step - accuracy: 0.9089 - loss: 0.3316 - recall: 0.8614 - val_accuracy: 0.9221 - val_loss: 0.2862 - val_recall: 0.8556\n",
      "Epoch 8/30\n",
      "\u001b[1m162/162\u001b[0m \u001b[32m━━━━━━━━━━━━━━━━━━━━\u001b[0m\u001b[37m\u001b[0m \u001b[1m18s\u001b[0m 112ms/step - accuracy: 0.9236 - loss: 0.3062 - recall: 0.8804 - val_accuracy: 0.9308 - val_loss: 0.2715 - val_recall: 0.8867\n",
      "Epoch 9/30\n",
      "\u001b[1m162/162\u001b[0m \u001b[32m━━━━━━━━━━━━━━━━━━━━\u001b[0m\u001b[37m\u001b[0m \u001b[1m18s\u001b[0m 112ms/step - accuracy: 0.9105 - loss: 0.3074 - recall: 0.8629 - val_accuracy: 0.9280 - val_loss: 0.2683 - val_recall: 0.8790\n",
      "Epoch 10/30\n",
      "\u001b[1m162/162\u001b[0m \u001b[32m━━━━━━━━━━━━━━━━━━━━\u001b[0m\u001b[37m\u001b[0m \u001b[1m18s\u001b[0m 112ms/step - accuracy: 0.9175 - loss: 0.2975 - recall: 0.8792 - val_accuracy: 0.9277 - val_loss: 0.2597 - val_recall: 0.8745\n",
      "Epoch 11/30\n",
      "\u001b[1m162/162\u001b[0m \u001b[32m━━━━━━━━━━━━━━━━━━━━\u001b[0m\u001b[37m\u001b[0m \u001b[1m18s\u001b[0m 112ms/step - accuracy: 0.9154 - loss: 0.2853 - recall: 0.8716 - val_accuracy: 0.9237 - val_loss: 0.2813 - val_recall: 0.9317\n",
      "Epoch 12/30\n",
      "\u001b[1m162/162\u001b[0m \u001b[32m━━━━━━━━━━━━━━━━━━━━\u001b[0m\u001b[37m\u001b[0m \u001b[1m18s\u001b[0m 112ms/step - accuracy: 0.9191 - loss: 0.2744 - recall: 0.8826 - val_accuracy: 0.9229 - val_loss: 0.2786 - val_recall: 0.9317\n",
      "Epoch 13/30\n",
      "\u001b[1m162/162\u001b[0m \u001b[32m━━━━━━━━━━━━━━━━━━━━\u001b[0m\u001b[37m\u001b[0m \u001b[1m18s\u001b[0m 112ms/step - accuracy: 0.9165 - loss: 0.2734 - recall: 0.8732 - val_accuracy: 0.9355 - val_loss: 0.2421 - val_recall: 0.9017\n",
      "Epoch 14/30\n",
      "\u001b[1m162/162\u001b[0m \u001b[32m━━━━━━━━━━━━━━━━━━━━\u001b[0m\u001b[37m\u001b[0m \u001b[1m18s\u001b[0m 112ms/step - accuracy: 0.9240 - loss: 0.2699 - recall: 0.8815 - val_accuracy: 0.9277 - val_loss: 0.2465 - val_recall: 0.8717\n",
      "Epoch 15/30\n",
      "\u001b[1m162/162\u001b[0m \u001b[32m━━━━━━━━━━━━━━━━━━━━\u001b[0m\u001b[37m\u001b[0m \u001b[1m18s\u001b[0m 112ms/step - accuracy: 0.9172 - loss: 0.2648 - recall: 0.8671 - val_accuracy: 0.9355 - val_loss: 0.2349 - val_recall: 0.8923\n",
      "Epoch 16/30\n",
      "\u001b[1m162/162\u001b[0m \u001b[32m━━━━━━━━━━━━━━━━━━━━\u001b[0m\u001b[37m\u001b[0m \u001b[1m18s\u001b[0m 113ms/step - accuracy: 0.9254 - loss: 0.2513 - recall: 0.8807 - val_accuracy: 0.9333 - val_loss: 0.2379 - val_recall: 0.9212\n",
      "Epoch 17/30\n",
      "\u001b[1m162/162\u001b[0m \u001b[32m━━━━━━━━━━━━━━━━━━━━\u001b[0m\u001b[37m\u001b[0m \u001b[1m18s\u001b[0m 113ms/step - accuracy: 0.9277 - loss: 0.2375 - recall: 0.8909 - val_accuracy: 0.9322 - val_loss: 0.2318 - val_recall: 0.8795\n",
      "Epoch 18/30\n",
      "\u001b[1m162/162\u001b[0m \u001b[32m━━━━━━━━━━━━━━━━━━━━\u001b[0m\u001b[37m\u001b[0m \u001b[1m18s\u001b[0m 113ms/step - accuracy: 0.9268 - loss: 0.2395 - recall: 0.8847 - val_accuracy: 0.9355 - val_loss: 0.2249 - val_recall: 0.8862\n",
      "Epoch 19/30\n",
      "\u001b[1m162/162\u001b[0m \u001b[32m━━━━━━━━━━━━━━━━━━━━\u001b[0m\u001b[37m\u001b[0m \u001b[1m18s\u001b[0m 113ms/step - accuracy: 0.9240 - loss: 0.2438 - recall: 0.8844 - val_accuracy: 0.9380 - val_loss: 0.2255 - val_recall: 0.9267\n",
      "Epoch 20/30\n",
      "\u001b[1m162/162\u001b[0m \u001b[32m━━━━━━━━━━━━━━━━━━━━\u001b[0m\u001b[37m\u001b[0m \u001b[1m18s\u001b[0m 112ms/step - accuracy: 0.9268 - loss: 0.2424 - recall: 0.8854 - val_accuracy: 0.9352 - val_loss: 0.2185 - val_recall: 0.8962\n",
      "Epoch 21/30\n",
      "\u001b[1m162/162\u001b[0m \u001b[32m━━━━━━━━━━━━━━━━━━━━\u001b[0m\u001b[37m\u001b[0m \u001b[1m18s\u001b[0m 113ms/step - accuracy: 0.9287 - loss: 0.2295 - recall: 0.8835 - val_accuracy: 0.9338 - val_loss: 0.2164 - val_recall: 0.8790\n",
      "Epoch 22/30\n",
      "\u001b[1m162/162\u001b[0m \u001b[32m━━━━━━━━━━━━━━━━━━━━\u001b[0m\u001b[37m\u001b[0m \u001b[1m18s\u001b[0m 113ms/step - accuracy: 0.9393 - loss: 0.2064 - recall: 0.9086 - val_accuracy: 0.9336 - val_loss: 0.2157 - val_recall: 0.8817\n",
      "Epoch 23/30\n",
      "\u001b[1m162/162\u001b[0m \u001b[32m━━━━━━━━━━━━━━━━━━━━\u001b[0m\u001b[37m\u001b[0m \u001b[1m18s\u001b[0m 113ms/step - accuracy: 0.9276 - loss: 0.2186 - recall: 0.8912 - val_accuracy: 0.9366 - val_loss: 0.2138 - val_recall: 0.8951\n",
      "Epoch 24/30\n",
      "\u001b[1m162/162\u001b[0m \u001b[32m━━━━━━━━━━━━━━━━━━━━\u001b[0m\u001b[37m\u001b[0m \u001b[1m18s\u001b[0m 113ms/step - accuracy: 0.9347 - loss: 0.2181 - recall: 0.8885 - val_accuracy: 0.9394 - val_loss: 0.2236 - val_recall: 0.9361\n",
      "Epoch 25/30\n",
      "\u001b[1m162/162\u001b[0m \u001b[32m━━━━━━━━━━━━━━━━━━━━\u001b[0m\u001b[37m\u001b[0m \u001b[1m18s\u001b[0m 113ms/step - accuracy: 0.9301 - loss: 0.2149 - recall: 0.8956 - val_accuracy: 0.9369 - val_loss: 0.2233 - val_recall: 0.9334\n",
      "Epoch 26/30\n",
      "\u001b[1m162/162\u001b[0m \u001b[32m━━━━━━━━━━━━━━━━━━━━\u001b[0m\u001b[37m\u001b[0m \u001b[1m18s\u001b[0m 113ms/step - accuracy: 0.9304 - loss: 0.2190 - recall: 0.8927 - val_accuracy: 0.9333 - val_loss: 0.2082 - val_recall: 0.8762\n",
      "Epoch 27/30\n",
      "\u001b[1m162/162\u001b[0m \u001b[32m━━━━━━━━━━━━━━━━━━━━\u001b[0m\u001b[37m\u001b[0m \u001b[1m18s\u001b[0m 113ms/step - accuracy: 0.9357 - loss: 0.2063 - recall: 0.8948 - val_accuracy: 0.9372 - val_loss: 0.2063 - val_recall: 0.9228\n",
      "Epoch 28/30\n",
      "\u001b[1m162/162\u001b[0m \u001b[32m━━━━━━━━━━━━━━━━━━━━\u001b[0m\u001b[37m\u001b[0m \u001b[1m18s\u001b[0m 113ms/step - accuracy: 0.9388 - loss: 0.1978 - recall: 0.9085 - val_accuracy: 0.9372 - val_loss: 0.2014 - val_recall: 0.8895\n",
      "Epoch 29/30\n",
      "\u001b[1m162/162\u001b[0m \u001b[32m━━━━━━━━━━━━━━━━━━━━\u001b[0m\u001b[37m\u001b[0m \u001b[1m18s\u001b[0m 113ms/step - accuracy: 0.9418 - loss: 0.1918 - recall: 0.9067 - val_accuracy: 0.9372 - val_loss: 0.2125 - val_recall: 0.9134\n",
      "Epoch 30/30\n",
      "\u001b[1m162/162\u001b[0m \u001b[32m━━━━━━━━━━━━━━━━━━━━\u001b[0m\u001b[37m\u001b[0m \u001b[1m18s\u001b[0m 113ms/step - accuracy: 0.9339 - loss: 0.2118 - recall: 0.8995 - val_accuracy: 0.9372 - val_loss: 0.2100 - val_recall: 0.8945\n",
      "Restoring model weights from the end of the best epoch: 28.\n"
     ]
    }
   ],
   "source": [
    "import tensorflow as tf\n",
    "from tensorflow import keras\n",
    "from tensorflow.keras import layers, regularizers\n",
    "from tensorflow.keras.layers import LSTM\n",
    "\n",
    "\n",
    "indices = np.random.permutation(len(X_train))\n",
    "X_train = X_train[indices]\n",
    "y_train = y_train[indices]\n",
    "\n",
    "\n",
    "\n",
    "# create network\n",
    "input_shape = (X_train.shape[1], X_train.shape[2],1) # 130, 13\n",
    "model = build_CNN_LSTM_model(input_shape)\n",
    "\n",
    "    \n",
    "# compile model\n",
    "optimiser = keras.optimizers.Adam(learning_rate=0.00025)\n",
    "early_stopping = keras.callbacks.EarlyStopping(\n",
    "        monitor='val_loss', \n",
    "        verbose=1,\n",
    "        patience=5,\n",
    "        mode='min',\n",
    "        restore_best_weights=True,\n",
    "    )\n",
    "model.compile(optimizer=optimiser,\n",
    "          loss='binary_crossentropy',\n",
    "          metrics=['accuracy', \n",
    "                   keras.metrics.Recall()]\n",
    "             )\n",
    "\n",
    "model.summary()\n",
    "\n",
    "# train model\n",
    "history = model.fit(X_train, y_train, validation_data=(X_validation, y_validation), batch_size=32, epochs=30,callbacks=[early_stopping],\n",
    ")\n",
    "\n",
    "# evaluate model on test set\n",
    "# test_loss, test_acc = model.evaluate(X_test, y_test, verbose=2)\n",
    "# print('\\nTest accuracy:', test_acc)"
   ]
  },
  {
   "cell_type": "code",
   "execution_count": 23,
   "id": "7da75ff3",
   "metadata": {
    "execution": {
     "iopub.execute_input": "2025-07-05T08:17:26.033738Z",
     "iopub.status.busy": "2025-07-05T08:17:26.033471Z",
     "iopub.status.idle": "2025-07-05T08:17:26.097686Z",
     "shell.execute_reply": "2025-07-05T08:17:26.097165Z"
    },
    "papermill": {
     "duration": 0.323432,
     "end_time": "2025-07-05T08:17:26.099056",
     "exception": false,
     "start_time": "2025-07-05T08:17:25.775624",
     "status": "completed"
    },
    "tags": []
   },
   "outputs": [],
   "source": [
    "model.save(\"/kaggle/working/audio_cnn_lstm.h5\")"
   ]
  },
  {
   "cell_type": "code",
   "execution_count": 24,
   "id": "dff28bfa",
   "metadata": {
    "execution": {
     "iopub.execute_input": "2025-07-05T08:17:26.505733Z",
     "iopub.status.busy": "2025-07-05T08:17:26.505492Z",
     "iopub.status.idle": "2025-07-05T08:17:26.762089Z",
     "shell.execute_reply": "2025-07-05T08:17:26.761375Z"
    },
    "papermill": {
     "duration": 0.461372,
     "end_time": "2025-07-05T08:17:26.763398",
     "exception": false,
     "start_time": "2025-07-05T08:17:26.302026",
     "status": "completed"
    },
    "tags": []
   },
   "outputs": [
    {
     "data": {
      "image/png": "[encoded data removed]",
      "text/plain": [
       "<Figure size 640x480 with 1 Axes>"
      ]
     },
     "metadata": {},
     "output_type": "display_data"
    }
   ],
   "source": [
    "import matplotlib.pyplot as plt\n",
    "\n",
    "plt.plot(history.history['accuracy'], label='Train Accuracy')\n",
    "plt.plot(history.history['val_accuracy'], label='Val Accuracy')\n",
    "plt.plot(history.history['loss'], label='Train Loss')\n",
    "plt.plot(history.history['val_loss'], label='Val Loss')\n",
    "plt.legend()\n",
    "plt.title(\"Training vs Validation Metrics\")\n",
    "plt.show()"
   ]
  },
  {
   "cell_type": "code",
   "execution_count": 25,
   "id": "2e78592c",
   "metadata": {
    "execution": {
     "iopub.execute_input": "2025-07-05T08:17:27.174857Z",
     "iopub.status.busy": "2025-07-05T08:17:27.174585Z",
     "iopub.status.idle": "2025-07-05T08:17:29.201737Z",
     "shell.execute_reply": "2025-07-05T08:17:29.201003Z"
    },
    "papermill": {
     "duration": 2.233156,
     "end_time": "2025-07-05T08:17:29.202798",
     "exception": false,
     "start_time": "2025-07-05T08:17:26.969642",
     "status": "completed"
    },
    "tags": []
   },
   "outputs": [
    {
     "name": "stdout",
     "output_type": "stream",
     "text": [
      "48/48 - 2s - 36ms/step - accuracy: 0.9366 - loss: 0.1906 - recall: 0.8822\n",
      "\n",
      "Test accuracy: 0.9365598559379578\n"
     ]
    }
   ],
   "source": [
    "test_loss, test_acc, test_recall = model.evaluate(X_test, y_test, verbose=2)\n",
    "print('\\nTest accuracy:', test_acc)"
   ]
  },
  {
   "cell_type": "code",
   "execution_count": 26,
   "id": "002463c7",
   "metadata": {
    "execution": {
     "iopub.execute_input": "2025-07-05T08:17:29.660396Z",
     "iopub.status.busy": "2025-07-05T08:17:29.660088Z",
     "iopub.status.idle": "2025-07-05T08:17:35.424946Z",
     "shell.execute_reply": "2025-07-05T08:17:35.424031Z"
    },
    "papermill": {
     "duration": 6.019924,
     "end_time": "2025-07-05T08:17:35.426256",
     "exception": false,
     "start_time": "2025-07-05T08:17:29.406332",
     "status": "completed"
    },
    "tags": []
   },
   "outputs": [
    {
     "name": "stdout",
     "output_type": "stream",
     "text": [
      "\u001b[1m112/112\u001b[0m \u001b[32m━━━━━━━━━━━━━━━━━━━━\u001b[0m\u001b[37m\u001b[0m \u001b[1m5s\u001b[0m 40ms/step\n",
      "Equal Error Rate (EER): 0.0606\n",
      "EER Threshold: 0.2394\n"
     ]
    }
   ],
   "source": [
    "import numpy as np\n",
    "import matplotlib.pyplot as plt\n",
    "from sklearn.metrics import confusion_matrix, ConfusionMatrixDisplay\n",
    "from sklearn.metrics import roc_curve, auc, roc_auc_score\n",
    "import seaborn as sns\n",
    "y_pred_probs_val = model.predict(X_validation)  # shape: (num_samples,)\n",
    "\n",
    "# Compute FPR, TPR, thresholds\n",
    "fpr, tpr, thresholds = roc_curve(y_validation, y_pred_probs_val)\n",
    "fnr = 1 - tpr  # False Negative Rate\n",
    "\n",
    "# Find the point where FPR and FNR are closest\n",
    "eer_threshold_index = np.nanargmin(np.abs(fpr - fnr))\n",
    "eer = (fpr[eer_threshold_index] + fnr[eer_threshold_index]) / 2\n",
    "eer_threshold = thresholds[eer_threshold_index]\n",
    "\n",
    "print(f\"Equal Error Rate (EER): {eer:.4f}\")\n",
    "print(f\"EER Threshold: {eer_threshold:.4f}\")\n"
   ]
  },
  {
   "cell_type": "code",
   "execution_count": 27,
   "id": "6c2d48db",
   "metadata": {
    "execution": {
     "iopub.execute_input": "2025-07-05T08:17:35.836371Z",
     "iopub.status.busy": "2025-07-05T08:17:35.835812Z",
     "iopub.status.idle": "2025-07-05T08:17:38.246692Z",
     "shell.execute_reply": "2025-07-05T08:17:38.245861Z"
    },
    "papermill": {
     "duration": 2.61674,
     "end_time": "2025-07-05T08:17:38.247771",
     "exception": false,
     "start_time": "2025-07-05T08:17:35.631031",
     "status": "completed"
    },
    "tags": []
   },
   "outputs": [
    {
     "name": "stdout",
     "output_type": "stream",
     "text": [
      "\u001b[1m48/48\u001b[0m \u001b[32m━━━━━━━━━━━━━━━━━━━━\u001b[0m\u001b[37m\u001b[0m \u001b[1m2s\u001b[0m 37ms/step\n"
     ]
    },
    {
     "data": {
      "image/png": "[encoded data removed]",
      "text/plain": [
       "<Figure size 640x480 with 2 Axes>"
      ]
     },
     "metadata": {},
     "output_type": "display_data"
    },
    {
     "data": {
      "image/png": "[encoded data removed]",
      "text/plain": [
       "<Figure size 600x600 with 1 Axes>"
      ]
     },
     "metadata": {},
     "output_type": "display_data"
    },
    {
     "name": "stdout",
     "output_type": "stream",
     "text": [
      "AUC Score: 0.9868\n"
     ]
    }
   ],
   "source": [
    "import numpy as np\n",
    "import matplotlib.pyplot as plt\n",
    "from sklearn.metrics import confusion_matrix, ConfusionMatrixDisplay\n",
    "from sklearn.metrics import roc_curve, auc, roc_auc_score\n",
    "import seaborn as sns\n",
    "\n",
    "\n",
    "y_pred_probs = model.predict(X_test) \n",
    "threshold = 0.5\n",
    "y_pred = (y_pred_probs >= eer_threshold).astype(int)\n",
    "\n",
    "# 4️⃣ Confusion Matrix\n",
    "cm = confusion_matrix(y_test, y_pred)\n",
    "disp = ConfusionMatrixDisplay(confusion_matrix=cm, display_labels=[\"Bonafide\", \"Spoof\"])\n",
    "disp.plot(cmap=\"Blues\")\n",
    "plt.title(\"Confusion Matrix\")\n",
    "plt.show()\n",
    "\n",
    "# 5️⃣ ROC Curve and AUC Score\n",
    "fpr, tpr, thresholds = roc_curve(y_test, y_pred_probs)\n",
    "roc_auc = auc(fpr, tpr)\n",
    "\n",
    "plt.figure(figsize=(6, 6))\n",
    "plt.plot(fpr, tpr, color='darkorange', lw=2, label=f'ROC curve (AUC = {roc_auc:.2f})')\n",
    "plt.plot([0, 1], [0, 1], color='navy', lw=1, linestyle='--')\n",
    "plt.xlabel('False Positive Rate')\n",
    "plt.ylabel('True Positive Rate')\n",
    "plt.title('Receiver Operating Characteristic (ROC)')\n",
    "plt.legend(loc='lower right')\n",
    "plt.grid(True)\n",
    "plt.show()\n",
    "\n",
    "print(f\"AUC Score: {roc_auc_score(y_test, y_pred_probs):.4f}\")"
   ]
  },
  {
   "cell_type": "code",
   "execution_count": 28,
   "id": "a13f8086",
   "metadata": {
    "execution": {
     "iopub.execute_input": "2025-07-05T08:17:38.663112Z",
     "iopub.status.busy": "2025-07-05T08:17:38.662450Z",
     "iopub.status.idle": "2025-07-05T08:17:38.670345Z",
     "shell.execute_reply": "2025-07-05T08:17:38.669518Z"
    },
    "papermill": {
     "duration": 0.215439,
     "end_time": "2025-07-05T08:17:38.671425",
     "exception": false,
     "start_time": "2025-07-05T08:17:38.455986",
     "status": "completed"
    },
    "tags": []
   },
   "outputs": [
    {
     "name": "stdout",
     "output_type": "stream",
     "text": [
      "Equal Error Rate (EER): 0.0693\n",
      "EER Threshold: 0.2104\n",
      "F1 Score: 0.9297\n"
     ]
    }
   ],
   "source": [
    "# Compute FPR, TPR, thresholds\n",
    "fnr = 1 - tpr  # False Negative Rate\n",
    "\n",
    "# Find the point where FPR and FNR are closest\n",
    "eer_threshold_index = np.nanargmin(np.abs(fpr - fnr))\n",
    "eer = (fpr[eer_threshold_index] + fnr[eer_threshold_index]) / 2\n",
    "eer_threshold = thresholds[eer_threshold_index]\n",
    "\n",
    "print(f\"Equal Error Rate (EER): {eer:.4f}\")\n",
    "print(f\"EER Threshold: {eer_threshold:.4f}\")\n",
    "\n",
    "from sklearn.metrics import f1_score\n",
    "\n",
    "# Use thresholded predictions\n",
    "f1 = f1_score(y_test, y_pred)  # or y_pred_eer if using EER threshold\n",
    "\n",
    "print(f\"F1 Score: {f1:.4f}\")"
   ]
  },
  {
   "cell_type": "code",
   "execution_count": 29,
   "id": "5635d7eb",
   "metadata": {
    "execution": {
     "iopub.execute_input": "2025-07-05T08:17:39.144893Z",
     "iopub.status.busy": "2025-07-05T08:17:39.144047Z",
     "iopub.status.idle": "2025-07-05T08:17:39.277906Z",
     "shell.execute_reply": "2025-07-05T08:17:39.277167Z"
    },
    "papermill": {
     "duration": 0.400342,
     "end_time": "2025-07-05T08:17:39.278926",
     "exception": false,
     "start_time": "2025-07-05T08:17:38.878584",
     "status": "completed"
    },
    "tags": []
   },
   "outputs": [
    {
     "name": "stdout",
     "output_type": "stream",
     "text": [
      "len eval 71237\n"
     ]
    },
    {
     "data": {
      "text/html": [
       "<div>\n",
       "<style scoped>\n",
       "    .dataframe tbody tr th:only-of-type {\n",
       "        vertical-align: middle;\n",
       "    }\n",
       "\n",
       "    .dataframe tbody tr th {\n",
       "        vertical-align: top;\n",
       "    }\n",
       "\n",
       "    .dataframe thead th {\n",
       "        text-align: right;\n",
       "    }\n",
       "</style>\n",
       "<table border=\"1\" class=\"dataframe\">\n",
       "  <thead>\n",
       "    <tr style=\"text-align: right;\">\n",
       "      <th></th>\n",
       "      <th>speaker_id</th>\n",
       "      <th>filename</th>\n",
       "      <th>system_id</th>\n",
       "      <th>class_name</th>\n",
       "      <th>filepath</th>\n",
       "      <th>target</th>\n",
       "    </tr>\n",
       "  </thead>\n",
       "  <tbody>\n",
       "    <tr>\n",
       "      <th>0</th>\n",
       "      <td>LA_0039</td>\n",
       "      <td>LA_E_2834763</td>\n",
       "      <td>-</td>\n",
       "      <td>spoof</td>\n",
       "      <td>/kaggle/input/asvpoof-2019-dataset/LA/LA/ASVsp...</td>\n",
       "      <td>1</td>\n",
       "    </tr>\n",
       "    <tr>\n",
       "      <th>1</th>\n",
       "      <td>LA_0014</td>\n",
       "      <td>LA_E_8877452</td>\n",
       "      <td>-</td>\n",
       "      <td>spoof</td>\n",
       "      <td>/kaggle/input/asvpoof-2019-dataset/LA/LA/ASVsp...</td>\n",
       "      <td>1</td>\n",
       "    </tr>\n",
       "    <tr>\n",
       "      <th>2</th>\n",
       "      <td>LA_0040</td>\n",
       "      <td>LA_E_6828287</td>\n",
       "      <td>-</td>\n",
       "      <td>spoof</td>\n",
       "      <td>/kaggle/input/asvpoof-2019-dataset/LA/LA/ASVsp...</td>\n",
       "      <td>1</td>\n",
       "    </tr>\n",
       "    <tr>\n",
       "      <th>3</th>\n",
       "      <td>LA_0022</td>\n",
       "      <td>LA_E_6977360</td>\n",
       "      <td>-</td>\n",
       "      <td>spoof</td>\n",
       "      <td>/kaggle/input/asvpoof-2019-dataset/LA/LA/ASVsp...</td>\n",
       "      <td>1</td>\n",
       "    </tr>\n",
       "    <tr>\n",
       "      <th>4</th>\n",
       "      <td>LA_0031</td>\n",
       "      <td>LA_E_5932896</td>\n",
       "      <td>-</td>\n",
       "      <td>spoof</td>\n",
       "      <td>/kaggle/input/asvpoof-2019-dataset/LA/LA/ASVsp...</td>\n",
       "      <td>1</td>\n",
       "    </tr>\n",
       "  </tbody>\n",
       "</table>\n",
       "</div>"
      ],
      "text/plain": [
       "  speaker_id      filename system_id class_name  \\\n",
       "0    LA_0039  LA_E_2834763         -      spoof   \n",
       "1    LA_0014  LA_E_8877452         -      spoof   \n",
       "2    LA_0040  LA_E_6828287         -      spoof   \n",
       "3    LA_0022  LA_E_6977360         -      spoof   \n",
       "4    LA_0031  LA_E_5932896         -      spoof   \n",
       "\n",
       "                                            filepath  target  \n",
       "0  /kaggle/input/asvpoof-2019-dataset/LA/LA/ASVsp...       1  \n",
       "1  /kaggle/input/asvpoof-2019-dataset/LA/LA/ASVsp...       1  \n",
       "2  /kaggle/input/asvpoof-2019-dataset/LA/LA/ASVsp...       1  \n",
       "3  /kaggle/input/asvpoof-2019-dataset/LA/LA/ASVsp...       1  \n",
       "4  /kaggle/input/asvpoof-2019-dataset/LA/LA/ASVsp...       1  "
      ]
     },
     "execution_count": 29,
     "metadata": {},
     "output_type": "execute_result"
    }
   ],
   "source": [
    "### for creating folders for eval and dev\n",
    "# change here\n",
    ";\n",
    "eval_df = pd.read_csv(f'{BASE_PATH}/ASVspoof2019_LA_cm_protocols/ASVspoof2019.LA.cm.eval.trl.txt', sep=\" \", header=None)\n",
    "\n",
    "eval_df.columns =['speaker_id','filename','system_id','null','class_name']\n",
    "eval_df.drop(columns=['null'],inplace=True)\n",
    "\n",
    "#change here\n",
    "eval_df['filepath'] = f'{BASE_PATH}/ASVspoof2019_LA_eval/flac/'+eval_df.filename+'.flac'\n",
    "\n",
    "eval_df['target'] = (eval_df.class_name=='spoof').astype('int32')\n",
    "print('len eval', len(eval_df))\n",
    "eval_df.head()"
   ]
  },
  {
   "cell_type": "code",
   "execution_count": 30,
   "id": "dbf8fed1",
   "metadata": {
    "execution": {
     "iopub.execute_input": "2025-07-05T08:17:39.690546Z",
     "iopub.status.busy": "2025-07-05T08:17:39.690274Z",
     "iopub.status.idle": "2025-07-05T08:17:39.711322Z",
     "shell.execute_reply": "2025-07-05T08:17:39.710580Z"
    },
    "papermill": {
     "duration": 0.227434,
     "end_time": "2025-07-05T08:17:39.712412",
     "exception": false,
     "start_time": "2025-07-05T08:17:39.484978",
     "status": "completed"
    },
    "tags": []
   },
   "outputs": [
    {
     "name": "stdout",
     "output_type": "stream",
     "text": [
      "14710\n"
     ]
    }
   ],
   "source": [
    "bonafide_df = eval_df[eval_df[\"target\"] == 0]\n",
    "spoof_df = eval_df[eval_df[\"target\"] == 1].sample(n=len(bonafide_df), random_state=42)\n",
    "balanced_df = pd.concat([bonafide_df, spoof_df], ignore_index=True).sample(frac=1, random_state=42)\n",
    "print(len(balanced_df))\n",
    "eval_df= balanced_df"
   ]
  },
  {
   "cell_type": "code",
   "execution_count": 31,
   "id": "90d41927",
   "metadata": {
    "execution": {
     "iopub.execute_input": "2025-07-05T08:17:40.126806Z",
     "iopub.status.busy": "2025-07-05T08:17:40.126267Z",
     "iopub.status.idle": "2025-07-05T08:17:55.851704Z",
     "shell.execute_reply": "2025-07-05T08:17:55.850920Z"
    },
    "papermill": {
     "duration": 15.933882,
     "end_time": "2025-07-05T08:17:55.853294",
     "exception": false,
     "start_time": "2025-07-05T08:17:39.919412",
     "status": "completed"
    },
    "tags": []
   },
   "outputs": [],
   "source": [
    "eval_sample = eval_df.sample(n=1000, random_state=42).reset_index(drop=True)\n",
    "\n",
    "# Step 2: Run your feature extraction function\n",
    "X_test1, y_test1 = save_mel(eval_sample)"
   ]
  },
  {
   "cell_type": "code",
   "execution_count": 32,
   "id": "501f79b5",
   "metadata": {
    "execution": {
     "iopub.execute_input": "2025-07-05T08:17:56.310393Z",
     "iopub.status.busy": "2025-07-05T08:17:56.310094Z",
     "iopub.status.idle": "2025-07-05T08:17:56.313822Z",
     "shell.execute_reply": "2025-07-05T08:17:56.313041Z"
    },
    "papermill": {
     "duration": 0.254727,
     "end_time": "2025-07-05T08:17:56.314938",
     "exception": false,
     "start_time": "2025-07-05T08:17:56.060211",
     "status": "completed"
    },
    "tags": []
   },
   "outputs": [],
   "source": [
    "# import json\n",
    "# X_test = np.array(X_test)\n",
    "# y_test = np.array(y_test)\n",
    "# # Convert to standard Python types\n",
    "# data = {\n",
    "#     \"feature\": X_test.tolist(),\n",
    "#     \"label\": y_test.tolist()\n",
    "# }\n",
    "\n",
    "# # Save to a JSON file\n",
    "# with open(\"x_y_test.json\", \"w\") as f:\n",
    "#     json.dump(data, f)"
   ]
  },
  {
   "cell_type": "code",
   "execution_count": 33,
   "id": "a94b5ac5",
   "metadata": {
    "execution": {
     "iopub.execute_input": "2025-07-05T08:17:56.729260Z",
     "iopub.status.busy": "2025-07-05T08:17:56.728964Z",
     "iopub.status.idle": "2025-07-05T08:17:56.732390Z",
     "shell.execute_reply": "2025-07-05T08:17:56.731735Z"
    },
    "papermill": {
     "duration": 0.210707,
     "end_time": "2025-07-05T08:17:56.733562",
     "exception": false,
     "start_time": "2025-07-05T08:17:56.522855",
     "status": "completed"
    },
    "tags": []
   },
   "outputs": [],
   "source": [
    "# X_test1=np.array(X_test)\n",
    "# y_test1=np.array(y_test)"
   ]
  },
  {
   "cell_type": "code",
   "execution_count": 34,
   "id": "4dd3d80d",
   "metadata": {
    "execution": {
     "iopub.execute_input": "2025-07-05T08:17:57.148597Z",
     "iopub.status.busy": "2025-07-05T08:17:57.148323Z",
     "iopub.status.idle": "2025-07-05T08:17:57.175946Z",
     "shell.execute_reply": "2025-07-05T08:17:57.175154Z"
    },
    "papermill": {
     "duration": 0.233641,
     "end_time": "2025-07-05T08:17:57.177356",
     "exception": false,
     "start_time": "2025-07-05T08:17:56.943715",
     "status": "completed"
    },
    "tags": []
   },
   "outputs": [],
   "source": [
    "X_test1 = np.array(X_test1)\n",
    "y_test1 = np.array(y_test1)"
   ]
  },
  {
   "cell_type": "code",
   "execution_count": 35,
   "id": "4904d068",
   "metadata": {
    "execution": {
     "iopub.execute_input": "2025-07-05T08:17:57.632768Z",
     "iopub.status.busy": "2025-07-05T08:17:57.631850Z",
     "iopub.status.idle": "2025-07-05T08:17:59.002304Z",
     "shell.execute_reply": "2025-07-05T08:17:59.001413Z"
    },
    "papermill": {
     "duration": 1.622876,
     "end_time": "2025-07-05T08:17:59.003502",
     "exception": false,
     "start_time": "2025-07-05T08:17:57.380626",
     "status": "completed"
    },
    "tags": []
   },
   "outputs": [
    {
     "name": "stdout",
     "output_type": "stream",
     "text": [
      "32/32 - 1s - 36ms/step - accuracy: 0.8780 - loss: 0.3809 - recall: 0.7657\n",
      "Test Loss: 0.3809\n",
      "Test Accuracy: 0.8780\n",
      "Test Recall: 0.7657\n"
     ]
    }
   ],
   "source": [
    "test_loss, test_acc, test_recall = model.evaluate(X_test1, y_test1, verbose=2)\n",
    "print(f\"Test Loss: {test_loss:.4f}\")\n",
    "print(f\"Test Accuracy: {test_acc:.4f}\")\n",
    "print(f\"Test Recall: {test_recall:.4f}\")"
   ]
  }
 ],
 "metadata": {
  "kaggle": {
   "accelerator": "gpu",
   "dataSources": [
    {
     "datasetId": 2286778,
     "sourceId": 3842332,
     "sourceType": "datasetVersion"
    },
    {
     "datasetId": 7789083,
     "sourceId": 12354680,
     "sourceType": "datasetVersion"
    },
    {
     "datasetId": 7802816,
     "sourceId": 12374933,
     "sourceType": "datasetVersion"
    },
    {
     "isSourceIdPinned": true,
     "modelId": 392005,
     "modelInstanceId": 371107,
     "sourceId": 457720,
     "sourceType": "modelInstanceVersion"
    },
    {
     "isSourceIdPinned": true,
     "modelId": 392914,
     "modelInstanceId": 372023,
     "sourceId": 458925,
     "sourceType": "modelInstanceVersion"
    }
   ],
   "dockerImageVersionId": 31040,
   "isGpuEnabled": true,
   "isInternetEnabled": true,
   "language": "python",
   "sourceType": "notebook"
  },
  "kernelspec": {
   "display_name": "Python 3",
   "language": "python",
   "name": "python3"
  },
  "language_info": {
   "codemirror_mode": {
    "name": "ipython",
    "version": 3
   },
   "file_extension": ".py",
   "mimetype": "text/x-python",
   "name": "python",
   "nbconvert_exporter": "python",
   "pygments_lexer": "ipython3",
   "version": "3.11.11"
  },
  "papermill": {
   "default_parameters": {},
   "duration": 827.629242,
   "end_time": "2025-07-05T08:18:02.678295",
   "environment_variables": {},
   "exception": null,
   "input_path": "__notebook__.ipynb",
   "output_path": "__notebook__.ipynb",
   "parameters": {},
   "start_time": "2025-07-05T08:04:15.049053",
   "version": "2.6.0"
  }
 },
 "nbformat": 4,
 "nbformat_minor": 5
}
